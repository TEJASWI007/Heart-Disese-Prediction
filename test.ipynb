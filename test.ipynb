{
 "cells": [
  {
   "cell_type": "code",
   "execution_count": 535,
   "metadata": {},
   "outputs": [],
   "source": [
    "import os\n",
    "import pickle\n",
    "import joblib\n",
    "import numpy as np\n",
    "import matplotlib.pyplot as plt\n",
    "import pandas as pd\n",
    "from sklearn.preprocessing import StandardScaler\n",
    "import seaborn as sn\n",
    "from sklearn.tree import DecisionTreeClassifier\n",
    "from sklearn.linear_model import LogisticRegression\n",
    "from sklearn.neighbors import KNeighborsClassifier\n",
    "from sklearn.naive_bayes import GaussianNB\n",
    "from sklearn.svm import SVC\n",
    "from sklearn.neural_network import MLPClassifier\n",
    "from matplotlib.cm import rainbow\n",
    "import joblib\n",
    "from sklearn.metrics import accuracy_score\n",
    "from sklearn.impute import SimpleImputer\n",
    "from sklearn.model_selection import train_test_split\n",
    "from sklearn.metrics import classification_report, confusion_matrix  \n",
    "from sklearn.metrics import classification_report\n",
    "from sklearn.metrics import roc_auc_score\n",
    "from sklearn.metrics import roc_curve\n",
    "from sklearn.preprocessing import LabelEncoder\n",
    "from sklearn.model_selection import cross_val_score\n",
    "from sklearn.model_selection import KFold\n",
    "\n"
   ]
  },
  {
   "cell_type": "code",
   "execution_count": 536,
   "metadata": {},
   "outputs": [
    {
     "data": {
      "text/html": [
       "<div>\n",
       "<style scoped>\n",
       "    .dataframe tbody tr th:only-of-type {\n",
       "        vertical-align: middle;\n",
       "    }\n",
       "\n",
       "    .dataframe tbody tr th {\n",
       "        vertical-align: top;\n",
       "    }\n",
       "\n",
       "    .dataframe thead th {\n",
       "        text-align: right;\n",
       "    }\n",
       "</style>\n",
       "<table border=\"1\" class=\"dataframe\">\n",
       "  <thead>\n",
       "    <tr style=\"text-align: right;\">\n",
       "      <th></th>\n",
       "      <th>age</th>\n",
       "      <th>sex</th>\n",
       "      <th>cp</th>\n",
       "      <th>trestbps</th>\n",
       "      <th>chol</th>\n",
       "      <th>fbs</th>\n",
       "      <th>restecg</th>\n",
       "      <th>thalach</th>\n",
       "      <th>exang</th>\n",
       "      <th>oldpeak</th>\n",
       "      <th>slope</th>\n",
       "      <th>ca</th>\n",
       "      <th>thal</th>\n",
       "      <th>num</th>\n",
       "    </tr>\n",
       "  </thead>\n",
       "  <tbody>\n",
       "    <tr>\n",
       "      <th>0</th>\n",
       "      <td>63</td>\n",
       "      <td>1</td>\n",
       "      <td>1</td>\n",
       "      <td>145</td>\n",
       "      <td>233</td>\n",
       "      <td>1</td>\n",
       "      <td>2</td>\n",
       "      <td>150</td>\n",
       "      <td>0</td>\n",
       "      <td>2.3</td>\n",
       "      <td>3</td>\n",
       "      <td>0.0</td>\n",
       "      <td>6.0</td>\n",
       "      <td>0</td>\n",
       "    </tr>\n",
       "    <tr>\n",
       "      <th>1</th>\n",
       "      <td>67</td>\n",
       "      <td>1</td>\n",
       "      <td>4</td>\n",
       "      <td>160</td>\n",
       "      <td>286</td>\n",
       "      <td>0</td>\n",
       "      <td>2</td>\n",
       "      <td>108</td>\n",
       "      <td>1</td>\n",
       "      <td>1.5</td>\n",
       "      <td>2</td>\n",
       "      <td>3.0</td>\n",
       "      <td>3.0</td>\n",
       "      <td>1</td>\n",
       "    </tr>\n",
       "    <tr>\n",
       "      <th>2</th>\n",
       "      <td>67</td>\n",
       "      <td>1</td>\n",
       "      <td>4</td>\n",
       "      <td>120</td>\n",
       "      <td>229</td>\n",
       "      <td>0</td>\n",
       "      <td>2</td>\n",
       "      <td>129</td>\n",
       "      <td>1</td>\n",
       "      <td>2.6</td>\n",
       "      <td>2</td>\n",
       "      <td>2.0</td>\n",
       "      <td>7.0</td>\n",
       "      <td>1</td>\n",
       "    </tr>\n",
       "    <tr>\n",
       "      <th>3</th>\n",
       "      <td>37</td>\n",
       "      <td>1</td>\n",
       "      <td>3</td>\n",
       "      <td>130</td>\n",
       "      <td>250</td>\n",
       "      <td>0</td>\n",
       "      <td>0</td>\n",
       "      <td>187</td>\n",
       "      <td>0</td>\n",
       "      <td>3.5</td>\n",
       "      <td>3</td>\n",
       "      <td>0.0</td>\n",
       "      <td>3.0</td>\n",
       "      <td>0</td>\n",
       "    </tr>\n",
       "    <tr>\n",
       "      <th>4</th>\n",
       "      <td>41</td>\n",
       "      <td>0</td>\n",
       "      <td>2</td>\n",
       "      <td>130</td>\n",
       "      <td>204</td>\n",
       "      <td>0</td>\n",
       "      <td>2</td>\n",
       "      <td>172</td>\n",
       "      <td>0</td>\n",
       "      <td>1.4</td>\n",
       "      <td>1</td>\n",
       "      <td>0.0</td>\n",
       "      <td>3.0</td>\n",
       "      <td>0</td>\n",
       "    </tr>\n",
       "  </tbody>\n",
       "</table>\n",
       "</div>"
      ],
      "text/plain": [
       "   age  sex  cp  trestbps  chol  fbs  restecg  thalach  exang  oldpeak  slope  \\\n",
       "0   63    1   1       145   233    1        2      150      0      2.3      3   \n",
       "1   67    1   4       160   286    0        2      108      1      1.5      2   \n",
       "2   67    1   4       120   229    0        2      129      1      2.6      2   \n",
       "3   37    1   3       130   250    0        0      187      0      3.5      3   \n",
       "4   41    0   2       130   204    0        2      172      0      1.4      1   \n",
       "\n",
       "    ca  thal  num  \n",
       "0  0.0   6.0    0  \n",
       "1  3.0   3.0    1  \n",
       "2  2.0   7.0    1  \n",
       "3  0.0   3.0    0  \n",
       "4  0.0   3.0    0  "
      ]
     },
     "execution_count": 536,
     "metadata": {},
     "output_type": "execute_result"
    }
   ],
   "source": [
    "dataset = pd.read_csv('HealthData.csv')\n",
    "dataset.head()"
   ]
  },
  {
   "cell_type": "code",
   "execution_count": 537,
   "metadata": {},
   "outputs": [
    {
     "data": {
      "text/html": [
       "<div>\n",
       "<style scoped>\n",
       "    .dataframe tbody tr th:only-of-type {\n",
       "        vertical-align: middle;\n",
       "    }\n",
       "\n",
       "    .dataframe tbody tr th {\n",
       "        vertical-align: top;\n",
       "    }\n",
       "\n",
       "    .dataframe thead th {\n",
       "        text-align: right;\n",
       "    }\n",
       "</style>\n",
       "<table border=\"1\" class=\"dataframe\">\n",
       "  <thead>\n",
       "    <tr style=\"text-align: right;\">\n",
       "      <th></th>\n",
       "      <th>age</th>\n",
       "      <th>sex</th>\n",
       "      <th>cp</th>\n",
       "      <th>trestbps</th>\n",
       "      <th>chol</th>\n",
       "      <th>fbs</th>\n",
       "      <th>restecg</th>\n",
       "      <th>thalach</th>\n",
       "      <th>exang</th>\n",
       "      <th>oldpeak</th>\n",
       "      <th>slope</th>\n",
       "      <th>ca</th>\n",
       "      <th>thal</th>\n",
       "      <th>num</th>\n",
       "    </tr>\n",
       "  </thead>\n",
       "  <tbody>\n",
       "    <tr>\n",
       "      <th>0</th>\n",
       "      <td>63</td>\n",
       "      <td>1</td>\n",
       "      <td>1</td>\n",
       "      <td>145</td>\n",
       "      <td>233</td>\n",
       "      <td>1</td>\n",
       "      <td>2</td>\n",
       "      <td>150</td>\n",
       "      <td>0</td>\n",
       "      <td>2.3</td>\n",
       "      <td>3</td>\n",
       "      <td>0.0</td>\n",
       "      <td>1</td>\n",
       "      <td>0</td>\n",
       "    </tr>\n",
       "    <tr>\n",
       "      <th>1</th>\n",
       "      <td>67</td>\n",
       "      <td>1</td>\n",
       "      <td>4</td>\n",
       "      <td>160</td>\n",
       "      <td>286</td>\n",
       "      <td>0</td>\n",
       "      <td>2</td>\n",
       "      <td>108</td>\n",
       "      <td>1</td>\n",
       "      <td>1.5</td>\n",
       "      <td>2</td>\n",
       "      <td>3.0</td>\n",
       "      <td>0</td>\n",
       "      <td>1</td>\n",
       "    </tr>\n",
       "    <tr>\n",
       "      <th>2</th>\n",
       "      <td>67</td>\n",
       "      <td>1</td>\n",
       "      <td>4</td>\n",
       "      <td>120</td>\n",
       "      <td>229</td>\n",
       "      <td>0</td>\n",
       "      <td>2</td>\n",
       "      <td>129</td>\n",
       "      <td>1</td>\n",
       "      <td>2.6</td>\n",
       "      <td>2</td>\n",
       "      <td>2.0</td>\n",
       "      <td>2</td>\n",
       "      <td>1</td>\n",
       "    </tr>\n",
       "    <tr>\n",
       "      <th>3</th>\n",
       "      <td>37</td>\n",
       "      <td>1</td>\n",
       "      <td>3</td>\n",
       "      <td>130</td>\n",
       "      <td>250</td>\n",
       "      <td>0</td>\n",
       "      <td>0</td>\n",
       "      <td>187</td>\n",
       "      <td>0</td>\n",
       "      <td>3.5</td>\n",
       "      <td>3</td>\n",
       "      <td>0.0</td>\n",
       "      <td>0</td>\n",
       "      <td>0</td>\n",
       "    </tr>\n",
       "    <tr>\n",
       "      <th>4</th>\n",
       "      <td>41</td>\n",
       "      <td>0</td>\n",
       "      <td>2</td>\n",
       "      <td>130</td>\n",
       "      <td>204</td>\n",
       "      <td>0</td>\n",
       "      <td>2</td>\n",
       "      <td>172</td>\n",
       "      <td>0</td>\n",
       "      <td>1.4</td>\n",
       "      <td>1</td>\n",
       "      <td>0.0</td>\n",
       "      <td>0</td>\n",
       "      <td>0</td>\n",
       "    </tr>\n",
       "  </tbody>\n",
       "</table>\n",
       "</div>"
      ],
      "text/plain": [
       "   age  sex  cp  trestbps  chol  fbs  restecg  thalach  exang  oldpeak  slope  \\\n",
       "0   63    1   1       145   233    1        2      150      0      2.3      3   \n",
       "1   67    1   4       160   286    0        2      108      1      1.5      2   \n",
       "2   67    1   4       120   229    0        2      129      1      2.6      2   \n",
       "3   37    1   3       130   250    0        0      187      0      3.5      3   \n",
       "4   41    0   2       130   204    0        2      172      0      1.4      1   \n",
       "\n",
       "    ca  thal  num  \n",
       "0  0.0     1    0  \n",
       "1  3.0     0    1  \n",
       "2  2.0     2    1  \n",
       "3  0.0     0    0  \n",
       "4  0.0     0    0  "
      ]
     },
     "execution_count": 537,
     "metadata": {},
     "output_type": "execute_result"
    }
   ],
   "source": [
    "#Here i use Label encoder because column name 'thal' not correctly encoded\n",
    "label_encoder = LabelEncoder()\n",
    "dataset['thal'] = label_encoder.fit_transform(dataset['thal'])\n",
    "dataset.head()"
   ]
  },
  {
   "cell_type": "code",
   "execution_count": 538,
   "metadata": {},
   "outputs": [
    {
     "data": {
      "text/plain": [
       "oldpeak\n",
       "0.0    99\n",
       "1.2    17\n",
       "0.6    14\n",
       "1.0    14\n",
       "1.4    13\n",
       "0.8    13\n",
       "0.2    12\n",
       "1.6    11\n",
       "1.8    10\n",
       "2.0     9\n",
       "0.4     9\n",
       "0.1     7\n",
       "2.8     6\n",
       "2.6     6\n",
       "1.9     5\n",
       "0.5     5\n",
       "3.0     5\n",
       "1.5     5\n",
       "3.6     4\n",
       "2.2     4\n",
       "3.4     3\n",
       "0.9     3\n",
       "2.4     3\n",
       "0.3     3\n",
       "4.0     3\n",
       "1.1     2\n",
       "4.2     2\n",
       "2.3     2\n",
       "2.5     2\n",
       "3.2     2\n",
       "5.6     1\n",
       "2.9     1\n",
       "6.2     1\n",
       "2.1     1\n",
       "1.3     1\n",
       "3.1     1\n",
       "3.8     1\n",
       "0.7     1\n",
       "3.5     1\n",
       "4.4     1\n",
       "Name: count, dtype: int64"
      ]
     },
     "execution_count": 538,
     "metadata": {},
     "output_type": "execute_result"
    }
   ],
   "source": [
    "dataset['oldpeak'].value_counts()"
   ]
  },
  {
   "cell_type": "code",
   "execution_count": 539,
   "metadata": {},
   "outputs": [
    {
     "name": "stdout",
     "output_type": "stream",
     "text": [
      "aiofiles==23.2.1\n",
      "aiohttp==3.9.0\n",
      "aiosignal==1.3.1\n",
      "aiostream==0.5.2\n",
      "altair==5.2.0\n",
      "annotated-types==0.6.0\n",
      "anyio==3.7.1\n",
      "appdirs==1.4.3\n",
      "apturl==0.5.2\n",
      "asgiref==3.7.2\n",
      "asttokens==2.4.1\n",
      "async-timeout==4.0.3\n",
      "attrs==23.1.0\n",
      "backcall==0.2.0\n",
      "backoff==2.2.1\n",
      "backports.zoneinfo==0.2.1\n",
      "bcrypt==4.1.1\n",
      "beautifulsoup4==4.12.2\n",
      "blinker==1.7.0\n",
      "Brlapi==0.7.0\n",
      "cachetools==5.3.2\n",
      "certifi==2023.11.17\n",
      "chardet==5.2.0\n",
      "charset-normalizer==3.3.2\n",
      "chroma-hnswlib==0.7.3\n",
      "chromadb==0.4.18\n",
      "click==8.1.7\n",
      "colorama==0.4.6\n",
      "coloredlogs==15.0.1\n",
      "comm==0.2.0\n",
      "command-not-found==0.3\n",
      "contourpy==1.1.1\n",
      "cryptography==2.8\n",
      "cupshelpers==1.0\n",
      "cycler==0.12.1\n",
      "dataclasses-json==0.6.2\n",
      "dbus-python==1.2.16\n",
      "debugpy==1.8.0\n",
      "decorator==5.1.1\n",
      "defer==1.0.6\n",
      "Deprecated==1.2.14\n",
      "distlib==0.3.7\n",
      "distro==1.8.0\n",
      "distro-info==0.23+ubuntu1.1\n",
      "dnspython==2.4.2\n",
      "duplicity==0.8.12.0\n",
      "emoji==2.8.0\n",
      "entrypoints==0.3\n",
      "exceptiongroup==1.2.0\n",
      "executing==2.0.1\n",
      "fastapi==0.104.1\n",
      "fasteners==0.14.1\n",
      "ffmpy==0.3.1\n",
      "filelock==3.13.1\n",
      "filetype==1.2.0\n",
      "flatbuffers==23.5.26\n",
      "fonttools==4.46.0\n",
      "frozenlist==1.4.0\n",
      "fsspec==2023.10.0\n",
      "future==0.18.2\n",
      "gitdb==4.0.11\n",
      "GitPython==3.1.40\n",
      "google-auth==2.23.4\n",
      "googleapis-common-protos==1.61.0\n",
      "gradio==4.7.1\n",
      "gradio-client==0.7.0\n",
      "graphlib-backport==1.0.3\n",
      "greenlet==3.0.1\n",
      "grpcio==1.59.3\n",
      "h11==0.14.0\n",
      "httpcore==1.0.2\n",
      "httplib2==0.14.0\n",
      "httptools==0.6.1\n",
      "httpx==0.25.1\n",
      "huggingface-hub==0.19.4\n",
      "humanfriendly==10.0\n",
      "idna==3.4\n",
      "imbalanced-learn==0.11.0\n",
      "imblearn==0.0\n",
      "importlib-metadata==7.0.0\n",
      "importlib-resources==6.1.1\n",
      "ipykernel==6.27.1\n",
      "ipython==8.12.3\n",
      "jedi==0.19.1\n",
      "Jinja2==3.1.2\n",
      "joblib==1.3.2\n",
      "jsonpatch==1.33\n",
      "jsonpointer==2.4\n",
      "jsonschema==4.20.0\n",
      "jsonschema-specifications==2023.11.1\n",
      "jupyter-client==8.6.0\n",
      "jupyter-core==5.5.0\n",
      "keyring==18.0.1\n",
      "kiwisolver==1.4.5\n",
      "kubernetes==28.1.0\n",
      "langchain==0.0.343\n",
      "langchain-core==0.0.7\n",
      "langdetect==1.0.9\n",
      "langsmith==0.0.66\n",
      "language-selector==0.1\n",
      "launchpadlib==1.10.13\n",
      "lazr.restfulclient==0.14.2\n",
      "lazr.uri==1.0.3\n",
      "llama-index==0.9.6.post2\n",
      "lockfile==0.12.2\n",
      "loguru==0.7.2\n",
      "louis==3.12.0\n",
      "lxml==4.9.3\n",
      "macaroonbakery==1.3.1\n",
      "Mako==1.1.0\n",
      "markdown-it-py==3.0.0\n",
      "MarkupSafe==2.1.3\n",
      "marshmallow==3.20.1\n",
      "matplotlib==3.7.4\n",
      "matplotlib-inline==0.1.6\n",
      "mdurl==0.1.2\n",
      "mmh3==4.0.1\n",
      "monotonic==1.6\n",
      "more-itertools==4.2.0\n",
      "mpmath==1.3.0\n",
      "multidict==6.0.4\n",
      "mypy-extensions==1.0.0\n",
      "nest-asyncio==1.5.8\n",
      "netifaces==0.10.4\n",
      "networkx==3.1\n",
      "nltk==3.8.1\n",
      "numpy==1.24.4\n",
      "nvidia-cublas-cu12==12.1.3.1\n",
      "nvidia-cuda-cupti-cu12==12.1.105\n",
      "nvidia-cuda-nvrtc-cu12==12.1.105\n",
      "nvidia-cuda-runtime-cu12==12.1.105\n",
      "nvidia-cudnn-cu12==8.9.2.26\n",
      "nvidia-cufft-cu12==11.0.2.54\n",
      "nvidia-curand-cu12==10.3.2.106\n",
      "nvidia-cusolver-cu12==11.4.5.107\n",
      "nvidia-cusparse-cu12==12.1.0.106\n",
      "nvidia-nccl-cu12==2.18.1\n",
      "nvidia-nvjitlink-cu12==12.3.101\n",
      "nvidia-nvtx-cu12==12.1.105\n",
      "oauthlib==3.2.2\n",
      "olefile==0.46\n",
      "onnxruntime==1.16.3\n",
      "openai==1.3.5\n",
      "opentelemetry-api==1.21.0\n",
      "opentelemetry-exporter-otlp-proto-common==1.21.0\n",
      "opentelemetry-exporter-otlp-proto-grpc==1.21.0\n",
      "opentelemetry-instrumentation==0.42b0\n",
      "opentelemetry-instrumentation-asgi==0.42b0\n",
      "opentelemetry-instrumentation-fastapi==0.42b0\n",
      "opentelemetry-proto==1.21.0\n",
      "opentelemetry-sdk==1.21.0\n",
      "opentelemetry-semantic-conventions==0.42b0\n",
      "opentelemetry-util-http==0.42b0\n",
      "orjson==3.9.10\n",
      "overrides==7.4.0\n",
      "packaging==23.2\n",
      "pandas==2.0.3\n",
      "paramiko==2.6.0\n",
      "parso==0.8.3\n",
      "patsy==0.5.4\n",
      "pexpect==4.9.0\n",
      "pickleshare==0.7.5\n",
      "Pillow==10.1.0\n",
      "pinecone-client==2.2.4\n",
      "pkgutil-resolve-name==1.3.10\n",
      "platformdirs==4.1.0\n",
      "posthog==3.0.2\n",
      "prompt-toolkit==3.0.43\n",
      "protobuf==4.25.1\n",
      "psutil==5.9.6\n",
      "ptyprocess==0.7.0\n",
      "pulsar-client==3.3.0\n",
      "pure-eval==0.2.2\n",
      "pyarrow==14.0.1\n",
      "pyasn1==0.5.1\n",
      "pyasn1-modules==0.3.0\n",
      "pycairo==1.16.2\n",
      "pycups==1.9.73\n",
      "pydantic==2.5.2\n",
      "pydantic-core==2.14.5\n",
      "pydeck==0.8.1b0\n",
      "pydub==0.25.1\n",
      "pygments==2.17.2\n",
      "PyGObject==3.36.0\n",
      "PyJWT==1.7.1\n",
      "pymacaroons==0.13.0\n",
      "PyNaCl==1.3.0\n",
      "pyparsing==3.1.1\n",
      "PyPika==0.48.9\n",
      "pyRFC3339==1.1\n",
      "pysqlite3-binary==0.5.2.post2\n",
      "python-apt==2.0.1+ubuntu0.20.4.1\n",
      "python-dateutil==2.8.2\n",
      "python-debian==0.1.36+ubuntu1.1\n",
      "python-dotenv==1.0.0\n",
      "python-iso639==2023.6.15\n",
      "python-magic==0.4.27\n",
      "python-multipart==0.0.6\n",
      "pytz==2023.3.post1\n",
      "pyxdg==0.26\n",
      "PyYAML==6.0.1\n",
      "pyzmq==25.1.2\n",
      "rapidfuzz==3.5.2\n",
      "referencing==0.31.0\n",
      "regex==2023.10.3\n",
      "reportlab==3.5.34\n",
      "requests==2.31.0\n",
      "requests-oauthlib==1.3.1\n",
      "requests-unixsocket==0.2.0\n",
      "rich==13.7.0\n",
      "rpds-py==0.13.1\n",
      "rsa==4.9\n",
      "safetensors==0.4.0\n",
      "scikit-learn==1.3.2\n",
      "scipy==1.10.1\n",
      "seaborn==0.13.0\n",
      "SecretStorage==2.3.1\n",
      "semantic-version==2.10.0\n",
      "sentence-transformers==2.2.2\n",
      "sentencepiece==0.1.99\n",
      "shellingham==1.5.4\n",
      "simplejson==3.16.0\n",
      "six==1.16.0\n",
      "smmap==5.0.1\n",
      "sniffio==1.3.0\n",
      "soupsieve==2.5\n",
      "SQLAlchemy==2.0.23\n",
      "stack-data==0.6.3\n",
      "starlette==0.27.0\n",
      "statsmodels==0.14.1\n",
      "streamlit==1.29.0\n",
      "sympy==1.12\n",
      "systemd-python==234\n",
      "tabulate==0.9.0\n",
      "tenacity==8.2.3\n",
      "threadpoolctl==3.2.0\n",
      "tiktoken==0.5.1\n",
      "tokenizers==0.15.0\n",
      "toml==0.10.2\n",
      "tomlkit==0.12.0\n",
      "toolz==0.12.0\n",
      "torch==2.1.1\n",
      "torchvision==0.16.1\n",
      "tornado==6.4\n",
      "tqdm==4.66.1\n",
      "traitlets==5.14.0\n",
      "transformers==4.35.2\n",
      "triton==2.1.0\n",
      "typer==0.9.0\n",
      "typing-extensions==4.9.0\n",
      "typing-inspect==0.9.0\n",
      "tzdata==2023.3\n",
      "tzlocal==5.2\n",
      "ubuntu-advantage-tools==8001\n",
      "ubuntu-drivers-common==0.0.0\n",
      "ufw==0.36\n",
      "unattended-upgrades==0.1\n",
      "unstructured==0.11.0\n",
      "urllib3==1.26.18\n",
      "usb-creator==0.3.7\n",
      "uvicorn==0.24.0.post1\n",
      "uvloop==0.19.0\n",
      "validators==0.22.0\n",
      "virtualenv==20.24.7\n",
      "wadllib==1.3.3\n",
      "watchdog==3.0.0\n",
      "watchfiles==0.21.0\n",
      "wcwidth==0.2.12\n",
      "websocket-client==1.6.4\n",
      "websockets==11.0.3\n",
      "wrapt==1.16.0\n",
      "xkit==0.0.0\n",
      "yarl==1.9.3\n",
      "zipp==3.17.0\n"
     ]
    }
   ],
   "source": [
    "!pip freeze"
   ]
  },
  {
   "cell_type": "code",
   "execution_count": 540,
   "metadata": {},
   "outputs": [
    {
     "name": "stdout",
     "output_type": "stream",
     "text": [
      "<class 'pandas.core.frame.DataFrame'>\n",
      "RangeIndex: 303 entries, 0 to 302\n",
      "Data columns (total 14 columns):\n",
      " #   Column    Non-Null Count  Dtype  \n",
      "---  ------    --------------  -----  \n",
      " 0   age       303 non-null    int64  \n",
      " 1   sex       303 non-null    int64  \n",
      " 2   cp        303 non-null    int64  \n",
      " 3   trestbps  303 non-null    int64  \n",
      " 4   chol      303 non-null    int64  \n",
      " 5   fbs       303 non-null    int64  \n",
      " 6   restecg   303 non-null    int64  \n",
      " 7   thalach   303 non-null    int64  \n",
      " 8   exang     303 non-null    int64  \n",
      " 9   oldpeak   303 non-null    float64\n",
      " 10  slope     303 non-null    int64  \n",
      " 11  ca        299 non-null    float64\n",
      " 12  thal      303 non-null    int64  \n",
      " 13  num       303 non-null    int64  \n",
      "dtypes: float64(2), int64(12)\n",
      "memory usage: 33.3 KB\n"
     ]
    }
   ],
   "source": [
    "dataset.info()"
   ]
  },
  {
   "cell_type": "code",
   "execution_count": 541,
   "metadata": {},
   "outputs": [
    {
     "data": {
      "text/plain": [
       "age         0\n",
       "sex         0\n",
       "cp          0\n",
       "trestbps    0\n",
       "chol        0\n",
       "fbs         0\n",
       "restecg     0\n",
       "thalach     0\n",
       "exang       0\n",
       "oldpeak     0\n",
       "slope       0\n",
       "ca          4\n",
       "thal        0\n",
       "num         0\n",
       "dtype: int64"
      ]
     },
     "execution_count": 541,
     "metadata": {},
     "output_type": "execute_result"
    }
   ],
   "source": [
    "dataset.isna().sum()"
   ]
  },
  {
   "cell_type": "code",
   "execution_count": 542,
   "metadata": {},
   "outputs": [
    {
     "data": {
      "text/plain": [
       "array([1, 0, 2, 3])"
      ]
     },
     "execution_count": 542,
     "metadata": {},
     "output_type": "execute_result"
    }
   ],
   "source": [
    "dataset['thal'].unique()\n"
   ]
  },
  {
   "cell_type": "code",
   "execution_count": 543,
   "metadata": {},
   "outputs": [
    {
     "data": {
      "text/plain": [
       "age         0\n",
       "sex         0\n",
       "cp          0\n",
       "trestbps    0\n",
       "chol        0\n",
       "fbs         0\n",
       "restecg     0\n",
       "thalach     0\n",
       "exang       0\n",
       "oldpeak     0\n",
       "slope       0\n",
       "ca          4\n",
       "thal        0\n",
       "num         0\n",
       "dtype: int64"
      ]
     },
     "execution_count": 543,
     "metadata": {},
     "output_type": "execute_result"
    }
   ],
   "source": [
    "dataset.isna().sum()"
   ]
  },
  {
   "cell_type": "code",
   "execution_count": 544,
   "metadata": {},
   "outputs": [
    {
     "data": {
      "image/png": "[encoded data removed]",
      "text/plain": [
       "<Figure size 1000x800 with 2 Axes>"
      ]
     },
     "metadata": {},
     "output_type": "display_data"
    }
   ],
   "source": [
    "correlation_matrix = dataset.corr()\n",
    "\n",
    "# Set up the matplotlib figure\n",
    "plt.figure(figsize=(10, 8))\n",
    "\n",
    "# Create a heatmap using Seaborn\n",
    "sn.heatmap(correlation_matrix, annot=True, cmap='coolwarm', fmt=\".2f\", linewidths=0.5)\n",
    "plt.title('Correlation Heatmap')\n",
    "plt.show()"
   ]
  },
  {
   "cell_type": "code",
   "execution_count": 545,
   "metadata": {},
   "outputs": [],
   "source": [
    "# pd.crosstab(dataset.sex,dataset.age).plot(kind='scatter')"
   ]
  },
  {
   "cell_type": "markdown",
   "metadata": {},
   "source": [
    "<!-- trestbps,chol,fbs,oldpeak, -->"
   ]
  },
  {
   "cell_type": "code",
   "execution_count": 546,
   "metadata": {},
   "outputs": [
    {
     "data": {
      "text/plain": [
       "[Text(0.5, 1.0, 'Box Plot of Health data')]"
      ]
     },
     "execution_count": 546,
     "metadata": {},
     "output_type": "execute_result"
    },
    {
     "data": {
      "image/png": "[encoded data removed]",
      "text/plain": [
       "<Figure size 640x480 with 1 Axes>"
      ]
     },
     "metadata": {},
     "output_type": "display_data"
    }
   ],
   "source": [
    "sn.boxplot(data=dataset['thal']).set(title=\"Box Plot of Health data\")"
   ]
  },
  {
   "cell_type": "code",
   "execution_count": 547,
   "metadata": {},
   "outputs": [],
   "source": [
    "columns = ['trestbps', 'chol','oldpeak','ca','thalach']\n",
    "\n",
    "for col in columns:\n",
    "    Q1 = dataset[col].quantile(0.25)\n",
    "    Q3 = dataset[col].quantile(0.75)\n",
    "    IQR = Q3 - Q1\n",
    "    \n",
    "    lower_bound = Q1 - 1.5 * IQR\n",
    "    upper_bound = Q3 + 1.5 * IQR\n",
    "    \n",
    "    dataset = dataset[(dataset[col] >= lower_bound) & (dataset[col] <= upper_bound)]"
   ]
  },
  {
   "cell_type": "code",
   "execution_count": 548,
   "metadata": {},
   "outputs": [
    {
     "data": {
      "image/png": "[encoded data removed]",
      "text/plain": [
       "<Figure size 1200x600 with 1 Axes>"
      ]
     },
     "metadata": {},
     "output_type": "display_data"
    }
   ],
   "source": [
    "import matplotlib.pyplot as plt\n",
    "\n",
    "# Create a box plot for numerical columns\n",
    "dataset.boxplot(figsize=(12, 6))\n",
    "plt.xticks(rotation=90)\n",
    "plt.title('Box plot for Numerical Columns')\n",
    "plt.show()"
   ]
  },
  {
   "cell_type": "code",
   "execution_count": 549,
   "metadata": {},
   "outputs": [
    {
     "data": {
      "text/plain": [
       "(262, 14)"
      ]
     },
     "execution_count": 549,
     "metadata": {},
     "output_type": "execute_result"
    }
   ],
   "source": [
    "dataset.shape"
   ]
  },
  {
   "cell_type": "code",
   "execution_count": 550,
   "metadata": {},
   "outputs": [
    {
     "data": {
      "text/plain": [
       "thal\n",
       "0    152\n",
       "2     93\n",
       "1     15\n",
       "3      2\n",
       "Name: count, dtype: int64"
      ]
     },
     "execution_count": 550,
     "metadata": {},
     "output_type": "execute_result"
    }
   ],
   "source": [
    "dataset['thal'].value_counts()"
   ]
  },
  {
   "cell_type": "code",
   "execution_count": 551,
   "metadata": {},
   "outputs": [],
   "source": [
    "dataset = pd.read_csv('HealthData.csv')\n",
    "X = dataset.iloc[:,:-1].values\n",
    "y = dataset.iloc[:, 13].values"
   ]
  },
  {
   "cell_type": "code",
   "execution_count": 552,
   "metadata": {},
   "outputs": [],
   "source": [
    "imputer = SimpleImputer(missing_values= np.NAN, strategy= 'mean', fill_value=None,copy=True)\n",
    "imputer=imputer.fit(X[:,11:13])\n",
    "X[:,11:13]=imputer.transform(X[:,11:13])\n"
   ]
  },
  {
   "cell_type": "code",
   "execution_count": 553,
   "metadata": {},
   "outputs": [
    {
     "name": "stdout",
     "output_type": "stream",
     "text": [
      "Unique values after imputation in 13th column: [3.         4.73421927 6.         7.        ]\n"
     ]
    }
   ],
   "source": [
    "unique_values = np.unique(X[:, 12])\n",
    "print(\"Unique values after imputation in 13th column:\", unique_values)"
   ]
  },
  {
   "cell_type": "code",
   "execution_count": 554,
   "metadata": {},
   "outputs": [
    {
     "name": "stdout",
     "output_type": "stream",
     "text": [
      "Unique values and their counts:\n",
      "3.0: 166\n",
      "4.73421926910299: 2\n",
      "6.0: 18\n",
      "7.0: 117\n"
     ]
    }
   ],
   "source": [
    "unique_values, counts = np.unique(X[:, 12], return_counts=True)\n",
    "\n",
    "print(\"Unique values and their counts:\")\n",
    "for value, count in zip(unique_values, counts):\n",
    "    print(f\"{value}: {count}\")"
   ]
  },
  {
   "cell_type": "code",
   "execution_count": 555,
   "metadata": {},
   "outputs": [
    {
     "name": "stdout",
     "output_type": "stream",
     "text": [
      "Number of NaN values: 0\n"
     ]
    }
   ],
   "source": [
    "nan_count = np.count_nonzero(np.isnan(X[:, 11:13]))\n",
    "print(\"Number of NaN values:\", nan_count)"
   ]
  },
  {
   "cell_type": "code",
   "execution_count": 556,
   "metadata": {},
   "outputs": [],
   "source": [
    "X_train, X_test, y_train, y_test = train_test_split(X, y, test_size = 0.15, random_state = 42)"
   ]
  },
  {
   "cell_type": "code",
   "execution_count": 557,
   "metadata": {},
   "outputs": [
    {
     "data": {
      "text/plain": [
       "['scaler.joblib']"
      ]
     },
     "execution_count": 557,
     "metadata": {},
     "output_type": "execute_result"
    }
   ],
   "source": [
    "sc = StandardScaler()\n",
    "# file_name='scaler.pkl'\n",
    "# joblib.dump(sc,file_name)\n",
    "X_train = sc.fit_transform(X_train)\n",
    "X_test = sc.transform(X_test)\n",
    "file_name='scaler.joblib'\n",
    "joblib.dump(sc,file_name)\n",
    "\n",
    "# sc = StandardScaler()\n",
    "# # train=list(X_train)\n",
    "# X_train = sc.fit_transform(X_train)\n",
    "\n",
    "# # Save it\n",
    "# scaler_file = \"standard_scalar_decision.pkl\"\n",
    "# joblib.dump(sc, scaler_file)\n",
    "# X_test = sc.transform(X_test)"
   ]
  },
  {
   "cell_type": "code",
   "execution_count": 558,
   "metadata": {},
   "outputs": [
    {
     "data": {
      "text/plain": [
       "num\n",
       "0    164\n",
       "1    139\n",
       "Name: count, dtype: int64"
      ]
     },
     "execution_count": 558,
     "metadata": {},
     "output_type": "execute_result"
    },
    {
     "data": {
      "image/png": "[encoded data removed]",
      "text/plain": [
       "<Figure size 640x480 with 1 Axes>"
      ]
     },
     "metadata": {},
     "output_type": "display_data"
    }
   ],
   "source": [
    "sn.countplot(x='num',data=dataset)\n",
    "dataset.num.value_counts()"
   ]
  },
  {
   "cell_type": "markdown",
   "metadata": {},
   "source": [
    "## DECISION TREE MODEL"
   ]
  },
  {
   "cell_type": "code",
   "execution_count": 559,
   "metadata": {},
   "outputs": [
    {
     "name": "stdout",
     "output_type": "stream",
     "text": [
      "Best parameters: {'criterion': 'entropy', 'max_depth': 7, 'splitter': 'random'}\n",
      "Best score: 0.755052790346908\n",
      "{'mean_fit_time': array([0.00195737, 0.00097189, 0.00207949, 0.00152764, 0.0017745 ,\n",
      "       0.00117106, 0.00168958, 0.00117011, 0.00126324, 0.00109048,\n",
      "       0.00163341, 0.00119934, 0.00149498, 0.00113091, 0.00162997,\n",
      "       0.00088434]), 'std_fit_time': array([7.02727709e-04, 4.18601108e-05, 7.41523009e-04, 6.67400433e-04,\n",
      "       3.29007390e-04, 1.62455656e-04, 1.97341038e-04, 1.22552382e-04,\n",
      "       9.30399111e-05, 1.88401638e-04, 4.84390891e-04, 3.75795652e-04,\n",
      "       5.29359263e-05, 1.13858949e-04, 4.57557855e-04, 2.35952016e-05]), 'mean_score_time': array([0.00085607, 0.00068541, 0.00154595, 0.00068669, 0.00094657,\n",
      "       0.00085454, 0.00078163, 0.00103188, 0.00087333, 0.00088158,\n",
      "       0.00108356, 0.00103726, 0.00074449, 0.00076284, 0.00061927,\n",
      "       0.0005558 ]), 'std_score_time': array([8.96613127e-05, 6.24085668e-05, 6.62672754e-04, 4.58213962e-05,\n",
      "       2.84077409e-04, 2.47047919e-04, 1.27942225e-04, 5.05846087e-04,\n",
      "       2.14854908e-04, 2.83514503e-04, 8.24664553e-04, 2.67665674e-04,\n",
      "       4.28815815e-05, 9.42762173e-05, 8.17038729e-05, 2.01264825e-05]), 'param_criterion': masked_array(data=['entropy', 'entropy', 'entropy', 'entropy', 'entropy',\n",
      "                   'entropy', 'entropy', 'entropy', 'gini', 'gini',\n",
      "                   'gini', 'gini', 'gini', 'gini', 'gini', 'gini'],\n",
      "             mask=[False, False, False, False, False, False, False, False,\n",
      "                   False, False, False, False, False, False, False, False],\n",
      "       fill_value='?',\n",
      "            dtype=object), 'param_max_depth': masked_array(data=[3, 3, 5, 5, 7, 7, 10, 10, 3, 3, 5, 5, 7, 7, 10, 10],\n",
      "             mask=[False, False, False, False, False, False, False, False,\n",
      "                   False, False, False, False, False, False, False, False],\n",
      "       fill_value='?',\n",
      "            dtype=object), 'param_splitter': masked_array(data=['best', 'random', 'best', 'random', 'best', 'random',\n",
      "                   'best', 'random', 'best', 'random', 'best', 'random',\n",
      "                   'best', 'random', 'best', 'random'],\n",
      "             mask=[False, False, False, False, False, False, False, False,\n",
      "                   False, False, False, False, False, False, False, False],\n",
      "       fill_value='?',\n",
      "            dtype=object), 'params': [{'criterion': 'entropy', 'max_depth': 3, 'splitter': 'best'}, {'criterion': 'entropy', 'max_depth': 3, 'splitter': 'random'}, {'criterion': 'entropy', 'max_depth': 5, 'splitter': 'best'}, {'criterion': 'entropy', 'max_depth': 5, 'splitter': 'random'}, {'criterion': 'entropy', 'max_depth': 7, 'splitter': 'best'}, {'criterion': 'entropy', 'max_depth': 7, 'splitter': 'random'}, {'criterion': 'entropy', 'max_depth': 10, 'splitter': 'best'}, {'criterion': 'entropy', 'max_depth': 10, 'splitter': 'random'}, {'criterion': 'gini', 'max_depth': 3, 'splitter': 'best'}, {'criterion': 'gini', 'max_depth': 3, 'splitter': 'random'}, {'criterion': 'gini', 'max_depth': 5, 'splitter': 'best'}, {'criterion': 'gini', 'max_depth': 5, 'splitter': 'random'}, {'criterion': 'gini', 'max_depth': 7, 'splitter': 'best'}, {'criterion': 'gini', 'max_depth': 7, 'splitter': 'random'}, {'criterion': 'gini', 'max_depth': 10, 'splitter': 'best'}, {'criterion': 'gini', 'max_depth': 10, 'splitter': 'random'}], 'split0_test_score': array([0.69230769, 0.75      , 0.69230769, 0.71153846, 0.69230769,\n",
      "       0.71153846, 0.67307692, 0.69230769, 0.69230769, 0.75      ,\n",
      "       0.71153846, 0.71153846, 0.65384615, 0.65384615, 0.67307692,\n",
      "       0.76923077]), 'split1_test_score': array([0.71153846, 0.69230769, 0.75      , 0.80769231, 0.73076923,\n",
      "       0.75      , 0.75      , 0.80769231, 0.76923077, 0.63461538,\n",
      "       0.75      , 0.80769231, 0.80769231, 0.78846154, 0.78846154,\n",
      "       0.76923077]), 'split2_test_score': array([0.78431373, 0.76470588, 0.78431373, 0.64705882, 0.74509804,\n",
      "       0.80392157, 0.7254902 , 0.7254902 , 0.80392157, 0.76470588,\n",
      "       0.74509804, 0.68627451, 0.70588235, 0.82352941, 0.68627451,\n",
      "       0.70588235]), 'split3_test_score': array([0.64705882, 0.7254902 , 0.64705882, 0.76470588, 0.54901961,\n",
      "       0.76470588, 0.60784314, 0.76470588, 0.7254902 , 0.7254902 ,\n",
      "       0.64705882, 0.78431373, 0.68627451, 0.74509804, 0.68627451,\n",
      "       0.74509804]), 'split4_test_score': array([0.76470588, 0.82352941, 0.62745098, 0.78431373, 0.58823529,\n",
      "       0.74509804, 0.54901961, 0.7254902 , 0.76470588, 0.82352941,\n",
      "       0.66666667, 0.76470588, 0.66666667, 0.7254902 , 0.62745098,\n",
      "       0.76470588]), 'mean_test_score': array([0.71998492, 0.75120664, 0.70022624, 0.74306184, 0.66108597,\n",
      "       0.75505279, 0.66108597, 0.74313725, 0.75113122, 0.73966817,\n",
      "       0.7040724 , 0.75090498, 0.7040724 , 0.74728507, 0.69230769,\n",
      "       0.75082956]), 'std_test_score': array([0.04958578, 0.0436914 , 0.05955476, 0.05754578, 0.07842789,\n",
      "       0.02999821, 0.07428467, 0.03959556, 0.03851326, 0.06164973,\n",
      "       0.04122603, 0.0452951 , 0.05473388, 0.05782617, 0.05271542,\n",
      "       0.02417794]), 'rank_test_score': array([10,  2, 13,  8, 15,  1, 16,  7,  3,  9, 12,  4, 11,  6, 14,  5],\n",
      "      dtype=int32)}\n"
     ]
    },
    {
     "data": {
      "text/html": [
       "<style>#sk-container-id-46 {color: black;}#sk-container-id-46 pre{padding: 0;}#sk-container-id-46 div.sk-toggleable {background-color: white;}#sk-container-id-46 label.sk-toggleable__label {cursor: pointer;display: block;width: 100%;margin-bottom: 0;padding: 0.3em;box-sizing: border-box;text-align: center;}#sk-container-id-46 label.sk-toggleable__label-arrow:before {content: \"▸\";float: left;margin-right: 0.25em;color: #696969;}#sk-container-id-46 label.sk-toggleable__label-arrow:hover:before {color: black;}#sk-container-id-46 div.sk-estimator:hover label.sk-toggleable__label-arrow:before {color: black;}#sk-container-id-46 div.sk-toggleable__content {max-height: 0;max-width: 0;overflow: hidden;text-align: left;background-color: #f0f8ff;}#sk-container-id-46 div.sk-toggleable__content pre {margin: 0.2em;color: black;border-radius: 0.25em;background-color: #f0f8ff;}#sk-container-id-46 input.sk-toggleable__control:checked~div.sk-toggleable__content {max-height: 200px;max-width: 100%;overflow: auto;}#sk-container-id-46 input.sk-toggleable__control:checked~label.sk-toggleable__label-arrow:before {content: \"▾\";}#sk-container-id-46 div.sk-estimator input.sk-toggleable__control:checked~label.sk-toggleable__label {background-color: #d4ebff;}#sk-container-id-46 div.sk-label input.sk-toggleable__control:checked~label.sk-toggleable__label {background-color: #d4ebff;}#sk-container-id-46 input.sk-hidden--visually {border: 0;clip: rect(1px 1px 1px 1px);clip: rect(1px, 1px, 1px, 1px);height: 1px;margin: -1px;overflow: hidden;padding: 0;position: absolute;width: 1px;}#sk-container-id-46 div.sk-estimator {font-family: monospace;background-color: #f0f8ff;border: 1px dotted black;border-radius: 0.25em;box-sizing: border-box;margin-bottom: 0.5em;}#sk-container-id-46 div.sk-estimator:hover {background-color: #d4ebff;}#sk-container-id-46 div.sk-parallel-item::after {content: \"\";width: 100%;border-bottom: 1px solid gray;flex-grow: 1;}#sk-container-id-46 div.sk-label:hover label.sk-toggleable__label {background-color: #d4ebff;}#sk-container-id-46 div.sk-serial::before {content: \"\";position: absolute;border-left: 1px solid gray;box-sizing: border-box;top: 0;bottom: 0;left: 50%;z-index: 0;}#sk-container-id-46 div.sk-serial {display: flex;flex-direction: column;align-items: center;background-color: white;padding-right: 0.2em;padding-left: 0.2em;position: relative;}#sk-container-id-46 div.sk-item {position: relative;z-index: 1;}#sk-container-id-46 div.sk-parallel {display: flex;align-items: stretch;justify-content: center;background-color: white;position: relative;}#sk-container-id-46 div.sk-item::before, #sk-container-id-46 div.sk-parallel-item::before {content: \"\";position: absolute;border-left: 1px solid gray;box-sizing: border-box;top: 0;bottom: 0;left: 50%;z-index: -1;}#sk-container-id-46 div.sk-parallel-item {display: flex;flex-direction: column;z-index: 1;position: relative;background-color: white;}#sk-container-id-46 div.sk-parallel-item:first-child::after {align-self: flex-end;width: 50%;}#sk-container-id-46 div.sk-parallel-item:last-child::after {align-self: flex-start;width: 50%;}#sk-container-id-46 div.sk-parallel-item:only-child::after {width: 0;}#sk-container-id-46 div.sk-dashed-wrapped {border: 1px dashed gray;margin: 0 0.4em 0.5em 0.4em;box-sizing: border-box;padding-bottom: 0.4em;background-color: white;}#sk-container-id-46 div.sk-label label {font-family: monospace;font-weight: bold;display: inline-block;line-height: 1.2em;}#sk-container-id-46 div.sk-label-container {text-align: center;}#sk-container-id-46 div.sk-container {/* jupyter's `normalize.less` sets `[hidden] { display: none; }` but bootstrap.min.css set `[hidden] { display: none !important; }` so we also need the `!important` here to be able to override the default hidden behavior on the sphinx rendered scikit-learn.org. See: https://github.com/scikit-learn/scikit-learn/issues/21755 */display: inline-block !important;position: relative;}#sk-container-id-46 div.sk-text-repr-fallback {display: none;}</style><div id=\"sk-container-id-46\" class=\"sk-top-container\"><div class=\"sk-text-repr-fallback\"><pre>DecisionTreeClassifier(criterion=&#x27;entropy&#x27;, max_depth=7, splitter=&#x27;random&#x27;)</pre><b>In a Jupyter environment, please rerun this cell to show the HTML representation or trust the notebook. <br />On GitHub, the HTML representation is unable to render, please try loading this page with nbviewer.org.</b></div><div class=\"sk-container\" hidden><div class=\"sk-item\"><div class=\"sk-estimator sk-toggleable\"><input class=\"sk-toggleable__control sk-hidden--visually\" id=\"sk-estimator-id-46\" type=\"checkbox\" checked><label for=\"sk-estimator-id-46\" class=\"sk-toggleable__label sk-toggleable__label-arrow\">DecisionTreeClassifier</label><div class=\"sk-toggleable__content\"><pre>DecisionTreeClassifier(criterion=&#x27;entropy&#x27;, max_depth=7, splitter=&#x27;random&#x27;)</pre></div></div></div></div></div>"
      ],
      "text/plain": [
       "DecisionTreeClassifier(criterion='entropy', max_depth=7, splitter='random')"
      ]
     },
     "execution_count": 559,
     "metadata": {},
     "output_type": "execute_result"
    }
   ],
   "source": [
    "from sklearn.model_selection import GridSearchCV\n",
    "# from sklearn.tree import DecisionTreeClassifier\n",
    "\n",
    "# Define the grid of parameters to search over\n",
    "param_grid = {\n",
    "    \"max_depth\": [3, 5, 7, 10],\n",
    "    \"splitter\": [\"best\", \"random\"],\n",
    "    \"criterion\": [\"entropy\", \"gini\"]\n",
    "}\n",
    "\n",
    "# Instantiate the DecisionTreeClassifier with your desired random state\n",
    "model = DecisionTreeClassifier(random_state=0)\n",
    "\n",
    "# Create the GridSearchCV object\n",
    "grid_search = GridSearchCV(model, param_grid, cv=5, scoring=\"accuracy\")\n",
    "\n",
    "# Fit the grid search to your training data\n",
    "grid_search.fit(X_train, y_train)\n",
    "\n",
    "# Get the best parameters and score\n",
    "best_params = grid_search.best_params_\n",
    "best_score = grid_search.best_score_\n",
    "\n",
    "print(\"Best parameters:\", best_params)\n",
    "print(\"Best score:\", best_score)\n",
    "\n",
    "# Access the results of the grid search\n",
    "grid_results = grid_search.cv_results_\n",
    "\n",
    "# Print the results (optional)\n",
    "print(grid_results)\n",
    "\n",
    "# Use the best parameters to train a new model on the entire training data\n",
    "best_model = DecisionTreeClassifier(**best_params)\n",
    "best_model.fit(X_train, y_train)\n",
    "\n",
    "# You can now use the best model for prediction or further analysis\n"
   ]
  },
  {
   "cell_type": "code",
   "execution_count": 560,
   "metadata": {},
   "outputs": [
    {
     "data": {
      "text/html": [
       "<style>#sk-container-id-47 {color: black;}#sk-container-id-47 pre{padding: 0;}#sk-container-id-47 div.sk-toggleable {background-color: white;}#sk-container-id-47 label.sk-toggleable__label {cursor: pointer;display: block;width: 100%;margin-bottom: 0;padding: 0.3em;box-sizing: border-box;text-align: center;}#sk-container-id-47 label.sk-toggleable__label-arrow:before {content: \"▸\";float: left;margin-right: 0.25em;color: #696969;}#sk-container-id-47 label.sk-toggleable__label-arrow:hover:before {color: black;}#sk-container-id-47 div.sk-estimator:hover label.sk-toggleable__label-arrow:before {color: black;}#sk-container-id-47 div.sk-toggleable__content {max-height: 0;max-width: 0;overflow: hidden;text-align: left;background-color: #f0f8ff;}#sk-container-id-47 div.sk-toggleable__content pre {margin: 0.2em;color: black;border-radius: 0.25em;background-color: #f0f8ff;}#sk-container-id-47 input.sk-toggleable__control:checked~div.sk-toggleable__content {max-height: 200px;max-width: 100%;overflow: auto;}#sk-container-id-47 input.sk-toggleable__control:checked~label.sk-toggleable__label-arrow:before {content: \"▾\";}#sk-container-id-47 div.sk-estimator input.sk-toggleable__control:checked~label.sk-toggleable__label {background-color: #d4ebff;}#sk-container-id-47 div.sk-label input.sk-toggleable__control:checked~label.sk-toggleable__label {background-color: #d4ebff;}#sk-container-id-47 input.sk-hidden--visually {border: 0;clip: rect(1px 1px 1px 1px);clip: rect(1px, 1px, 1px, 1px);height: 1px;margin: -1px;overflow: hidden;padding: 0;position: absolute;width: 1px;}#sk-container-id-47 div.sk-estimator {font-family: monospace;background-color: #f0f8ff;border: 1px dotted black;border-radius: 0.25em;box-sizing: border-box;margin-bottom: 0.5em;}#sk-container-id-47 div.sk-estimator:hover {background-color: #d4ebff;}#sk-container-id-47 div.sk-parallel-item::after {content: \"\";width: 100%;border-bottom: 1px solid gray;flex-grow: 1;}#sk-container-id-47 div.sk-label:hover label.sk-toggleable__label {background-color: #d4ebff;}#sk-container-id-47 div.sk-serial::before {content: \"\";position: absolute;border-left: 1px solid gray;box-sizing: border-box;top: 0;bottom: 0;left: 50%;z-index: 0;}#sk-container-id-47 div.sk-serial {display: flex;flex-direction: column;align-items: center;background-color: white;padding-right: 0.2em;padding-left: 0.2em;position: relative;}#sk-container-id-47 div.sk-item {position: relative;z-index: 1;}#sk-container-id-47 div.sk-parallel {display: flex;align-items: stretch;justify-content: center;background-color: white;position: relative;}#sk-container-id-47 div.sk-item::before, #sk-container-id-47 div.sk-parallel-item::before {content: \"\";position: absolute;border-left: 1px solid gray;box-sizing: border-box;top: 0;bottom: 0;left: 50%;z-index: -1;}#sk-container-id-47 div.sk-parallel-item {display: flex;flex-direction: column;z-index: 1;position: relative;background-color: white;}#sk-container-id-47 div.sk-parallel-item:first-child::after {align-self: flex-end;width: 50%;}#sk-container-id-47 div.sk-parallel-item:last-child::after {align-self: flex-start;width: 50%;}#sk-container-id-47 div.sk-parallel-item:only-child::after {width: 0;}#sk-container-id-47 div.sk-dashed-wrapped {border: 1px dashed gray;margin: 0 0.4em 0.5em 0.4em;box-sizing: border-box;padding-bottom: 0.4em;background-color: white;}#sk-container-id-47 div.sk-label label {font-family: monospace;font-weight: bold;display: inline-block;line-height: 1.2em;}#sk-container-id-47 div.sk-label-container {text-align: center;}#sk-container-id-47 div.sk-container {/* jupyter's `normalize.less` sets `[hidden] { display: none; }` but bootstrap.min.css set `[hidden] { display: none !important; }` so we also need the `!important` here to be able to override the default hidden behavior on the sphinx rendered scikit-learn.org. See: https://github.com/scikit-learn/scikit-learn/issues/21755 */display: inline-block !important;position: relative;}#sk-container-id-47 div.sk-text-repr-fallback {display: none;}</style><div id=\"sk-container-id-47\" class=\"sk-top-container\"><div class=\"sk-text-repr-fallback\"><pre>DecisionTreeClassifier(criterion=&#x27;entropy&#x27;, max_depth=5, random_state=0,\n",
       "                       splitter=&#x27;random&#x27;)</pre><b>In a Jupyter environment, please rerun this cell to show the HTML representation or trust the notebook. <br />On GitHub, the HTML representation is unable to render, please try loading this page with nbviewer.org.</b></div><div class=\"sk-container\" hidden><div class=\"sk-item\"><div class=\"sk-estimator sk-toggleable\"><input class=\"sk-toggleable__control sk-hidden--visually\" id=\"sk-estimator-id-47\" type=\"checkbox\" checked><label for=\"sk-estimator-id-47\" class=\"sk-toggleable__label sk-toggleable__label-arrow\">DecisionTreeClassifier</label><div class=\"sk-toggleable__content\"><pre>DecisionTreeClassifier(criterion=&#x27;entropy&#x27;, max_depth=5, random_state=0,\n",
       "                       splitter=&#x27;random&#x27;)</pre></div></div></div></div></div>"
      ],
      "text/plain": [
       "DecisionTreeClassifier(criterion='entropy', max_depth=5, random_state=0,\n",
       "                       splitter='random')"
      ]
     },
     "execution_count": 560,
     "metadata": {},
     "output_type": "execute_result"
    }
   ],
   "source": [
    "classifier = DecisionTreeClassifier(splitter=\"random\", max_depth=5,criterion = 'entropy', random_state =0)\n",
    "classifier.fit(X_train, y_train)"
   ]
  },
  {
   "cell_type": "code",
   "execution_count": 561,
   "metadata": {},
   "outputs": [
    {
     "name": "stdout",
     "output_type": "stream",
     "text": [
      "Cross-Validation Scores: [0.76923077 0.76923077 0.74509804 0.74509804 0.82352941]\n",
      "Mean CV Accuracy: 0.7704374057315233\n"
     ]
    }
   ],
   "source": [
    "k_fold = KFold(n_splits=5, shuffle=True)\n",
    "\n",
    "# Perform cross-validation on the training set\n",
    "cv_scores = cross_val_score(classifier, X_train, y_train, cv=k_fold, scoring='accuracy')\n",
    "\n",
    "# Display the cross-validation scores\n",
    "print(\"Cross-Validation Scores:\", cv_scores)\n",
    "print(\"Mean CV Accuracy:\", np.mean(cv_scores))"
   ]
  },
  {
   "cell_type": "code",
   "execution_count": 562,
   "metadata": {},
   "outputs": [],
   "source": [
    "filename ='decision_tree_model.joblib'\n",
    "scaler=joblib.dump(classifier,filename)"
   ]
  },
  {
   "cell_type": "code",
   "execution_count": 563,
   "metadata": {},
   "outputs": [
    {
     "name": "stdout",
     "output_type": "stream",
     "text": [
      "aiofiles==23.2.1\n",
      "aiohttp==3.9.0\n",
      "aiosignal==1.3.1\n",
      "aiostream==0.5.2\n",
      "altair==5.2.0\n",
      "annotated-types==0.6.0\n",
      "anyio==3.7.1\n",
      "appdirs==1.4.3\n",
      "apturl==0.5.2\n",
      "asgiref==3.7.2\n",
      "asttokens==2.4.1\n",
      "async-timeout==4.0.3\n",
      "attrs==23.1.0\n",
      "backcall==0.2.0\n",
      "backoff==2.2.1\n",
      "backports.zoneinfo==0.2.1\n",
      "bcrypt==4.1.1\n",
      "beautifulsoup4==4.12.2\n",
      "blinker==1.7.0\n",
      "Brlapi==0.7.0\n",
      "cachetools==5.3.2\n",
      "certifi==2023.11.17\n",
      "chardet==5.2.0\n",
      "charset-normalizer==3.3.2\n",
      "chroma-hnswlib==0.7.3\n",
      "chromadb==0.4.18\n",
      "click==8.1.7\n",
      "colorama==0.4.6\n",
      "coloredlogs==15.0.1\n",
      "comm==0.2.0\n",
      "command-not-found==0.3\n",
      "contourpy==1.1.1\n",
      "cryptography==2.8\n",
      "cupshelpers==1.0\n",
      "cycler==0.12.1\n",
      "dataclasses-json==0.6.2\n",
      "dbus-python==1.2.16\n",
      "debugpy==1.8.0\n",
      "decorator==5.1.1\n",
      "defer==1.0.6\n",
      "Deprecated==1.2.14\n",
      "distlib==0.3.7\n",
      "distro==1.8.0\n",
      "distro-info==0.23+ubuntu1.1\n",
      "dnspython==2.4.2\n",
      "duplicity==0.8.12.0\n",
      "emoji==2.8.0\n",
      "entrypoints==0.3\n",
      "exceptiongroup==1.2.0\n",
      "executing==2.0.1\n",
      "fastapi==0.104.1\n",
      "fasteners==0.14.1\n",
      "ffmpy==0.3.1\n",
      "filelock==3.13.1\n",
      "filetype==1.2.0\n",
      "flatbuffers==23.5.26\n",
      "fonttools==4.46.0\n",
      "frozenlist==1.4.0\n",
      "fsspec==2023.10.0\n",
      "future==0.18.2\n",
      "gitdb==4.0.11\n",
      "GitPython==3.1.40\n",
      "google-auth==2.23.4\n",
      "googleapis-common-protos==1.61.0\n",
      "gradio==4.7.1\n",
      "gradio-client==0.7.0\n",
      "graphlib-backport==1.0.3\n",
      "greenlet==3.0.1\n",
      "grpcio==1.59.3\n",
      "h11==0.14.0\n",
      "httpcore==1.0.2\n",
      "httplib2==0.14.0\n",
      "httptools==0.6.1\n",
      "httpx==0.25.1\n",
      "huggingface-hub==0.19.4\n",
      "humanfriendly==10.0\n",
      "idna==3.4\n",
      "imbalanced-learn==0.11.0\n",
      "imblearn==0.0\n",
      "importlib-metadata==7.0.0\n",
      "importlib-resources==6.1.1\n",
      "ipykernel==6.27.1\n",
      "ipython==8.12.3\n",
      "jedi==0.19.1\n",
      "Jinja2==3.1.2\n",
      "joblib==1.3.2\n",
      "jsonpatch==1.33\n",
      "jsonpointer==2.4\n",
      "jsonschema==4.20.0\n",
      "jsonschema-specifications==2023.11.1\n",
      "jupyter-client==8.6.0\n",
      "jupyter-core==5.5.0\n",
      "keyring==18.0.1\n",
      "kiwisolver==1.4.5\n",
      "kubernetes==28.1.0\n",
      "langchain==0.0.343\n",
      "langchain-core==0.0.7\n",
      "langdetect==1.0.9\n",
      "langsmith==0.0.66\n",
      "language-selector==0.1\n",
      "launchpadlib==1.10.13\n",
      "lazr.restfulclient==0.14.2\n",
      "lazr.uri==1.0.3\n",
      "llama-index==0.9.6.post2\n",
      "lockfile==0.12.2\n",
      "loguru==0.7.2\n",
      "louis==3.12.0\n",
      "lxml==4.9.3\n",
      "macaroonbakery==1.3.1\n",
      "Mako==1.1.0\n",
      "markdown-it-py==3.0.0\n",
      "MarkupSafe==2.1.3\n",
      "marshmallow==3.20.1\n",
      "matplotlib==3.7.4\n",
      "matplotlib-inline==0.1.6\n",
      "mdurl==0.1.2\n",
      "mmh3==4.0.1\n",
      "monotonic==1.6\n",
      "more-itertools==4.2.0\n",
      "mpmath==1.3.0\n",
      "multidict==6.0.4\n",
      "mypy-extensions==1.0.0\n",
      "nest-asyncio==1.5.8\n",
      "netifaces==0.10.4\n",
      "networkx==3.1\n",
      "nltk==3.8.1\n",
      "numpy==1.24.4\n",
      "nvidia-cublas-cu12==12.1.3.1\n",
      "nvidia-cuda-cupti-cu12==12.1.105\n",
      "nvidia-cuda-nvrtc-cu12==12.1.105\n",
      "nvidia-cuda-runtime-cu12==12.1.105\n",
      "nvidia-cudnn-cu12==8.9.2.26\n",
      "nvidia-cufft-cu12==11.0.2.54\n",
      "nvidia-curand-cu12==10.3.2.106\n",
      "nvidia-cusolver-cu12==11.4.5.107\n",
      "nvidia-cusparse-cu12==12.1.0.106\n",
      "nvidia-nccl-cu12==2.18.1\n",
      "nvidia-nvjitlink-cu12==12.3.101\n",
      "nvidia-nvtx-cu12==12.1.105\n",
      "oauthlib==3.2.2\n",
      "olefile==0.46\n",
      "onnxruntime==1.16.3\n",
      "openai==1.3.5\n",
      "opentelemetry-api==1.21.0\n",
      "opentelemetry-exporter-otlp-proto-common==1.21.0\n",
      "opentelemetry-exporter-otlp-proto-grpc==1.21.0\n",
      "opentelemetry-instrumentation==0.42b0\n",
      "opentelemetry-instrumentation-asgi==0.42b0\n",
      "opentelemetry-instrumentation-fastapi==0.42b0\n",
      "opentelemetry-proto==1.21.0\n",
      "opentelemetry-sdk==1.21.0\n",
      "opentelemetry-semantic-conventions==0.42b0\n",
      "opentelemetry-util-http==0.42b0\n",
      "orjson==3.9.10\n",
      "overrides==7.4.0\n",
      "packaging==23.2\n",
      "pandas==2.0.3\n",
      "paramiko==2.6.0\n",
      "parso==0.8.3\n",
      "patsy==0.5.4\n",
      "pexpect==4.9.0\n",
      "pickleshare==0.7.5\n",
      "Pillow==10.1.0\n",
      "pinecone-client==2.2.4\n",
      "pkgutil-resolve-name==1.3.10\n",
      "platformdirs==4.1.0\n",
      "posthog==3.0.2\n",
      "prompt-toolkit==3.0.43\n",
      "protobuf==4.25.1\n",
      "psutil==5.9.6\n",
      "ptyprocess==0.7.0\n",
      "pulsar-client==3.3.0\n",
      "pure-eval==0.2.2\n",
      "pyarrow==14.0.1\n",
      "pyasn1==0.5.1\n",
      "pyasn1-modules==0.3.0\n",
      "pycairo==1.16.2\n",
      "pycups==1.9.73\n",
      "pydantic==2.5.2\n",
      "pydantic-core==2.14.5\n",
      "pydeck==0.8.1b0\n",
      "pydub==0.25.1\n",
      "pygments==2.17.2\n",
      "PyGObject==3.36.0\n",
      "PyJWT==1.7.1\n",
      "pymacaroons==0.13.0\n",
      "PyNaCl==1.3.0\n",
      "pyparsing==3.1.1\n",
      "PyPika==0.48.9\n",
      "pyRFC3339==1.1\n",
      "pysqlite3-binary==0.5.2.post2\n",
      "python-apt==2.0.1+ubuntu0.20.4.1\n",
      "python-dateutil==2.8.2\n",
      "python-debian==0.1.36+ubuntu1.1\n",
      "python-dotenv==1.0.0\n",
      "python-iso639==2023.6.15\n",
      "python-magic==0.4.27\n",
      "python-multipart==0.0.6\n",
      "pytz==2023.3.post1\n",
      "pyxdg==0.26\n",
      "PyYAML==6.0.1\n",
      "pyzmq==25.1.2\n",
      "rapidfuzz==3.5.2\n",
      "referencing==0.31.0\n",
      "regex==2023.10.3\n",
      "reportlab==3.5.34\n",
      "requests==2.31.0\n",
      "requests-oauthlib==1.3.1\n",
      "requests-unixsocket==0.2.0\n",
      "rich==13.7.0\n",
      "rpds-py==0.13.1\n",
      "rsa==4.9\n",
      "safetensors==0.4.0\n",
      "scikit-learn==1.3.2\n",
      "scipy==1.10.1\n",
      "seaborn==0.13.0\n",
      "SecretStorage==2.3.1\n",
      "semantic-version==2.10.0\n",
      "sentence-transformers==2.2.2\n",
      "sentencepiece==0.1.99\n",
      "shellingham==1.5.4\n",
      "simplejson==3.16.0\n",
      "six==1.16.0\n",
      "smmap==5.0.1\n",
      "sniffio==1.3.0\n",
      "soupsieve==2.5\n",
      "SQLAlchemy==2.0.23\n",
      "stack-data==0.6.3\n",
      "starlette==0.27.0\n",
      "statsmodels==0.14.1\n",
      "streamlit==1.29.0\n",
      "sympy==1.12\n",
      "systemd-python==234\n",
      "tabulate==0.9.0\n",
      "tenacity==8.2.3\n",
      "threadpoolctl==3.2.0\n",
      "tiktoken==0.5.1\n",
      "tokenizers==0.15.0\n",
      "toml==0.10.2\n",
      "tomlkit==0.12.0\n",
      "toolz==0.12.0\n",
      "torch==2.1.1\n",
      "torchvision==0.16.1\n",
      "tornado==6.4\n",
      "tqdm==4.66.1\n",
      "traitlets==5.14.0\n",
      "transformers==4.35.2\n",
      "triton==2.1.0\n",
      "typer==0.9.0\n",
      "typing-extensions==4.9.0\n",
      "typing-inspect==0.9.0\n",
      "tzdata==2023.3\n",
      "tzlocal==5.2\n",
      "ubuntu-advantage-tools==8001\n",
      "ubuntu-drivers-common==0.0.0\n",
      "ufw==0.36\n",
      "unattended-upgrades==0.1\n",
      "unstructured==0.11.0\n",
      "urllib3==1.26.18\n",
      "usb-creator==0.3.7\n",
      "uvicorn==0.24.0.post1\n",
      "uvloop==0.19.0\n",
      "validators==0.22.0\n",
      "virtualenv==20.24.7\n",
      "wadllib==1.3.3\n",
      "watchdog==3.0.0\n",
      "watchfiles==0.21.0\n",
      "wcwidth==0.2.12\n",
      "websocket-client==1.6.4\n",
      "websockets==11.0.3\n",
      "wrapt==1.16.0\n",
      "xkit==0.0.0\n",
      "yarl==1.9.3\n",
      "zipp==3.17.0\n"
     ]
    }
   ],
   "source": [
    "!pip freeze"
   ]
  },
  {
   "cell_type": "code",
   "execution_count": null,
   "metadata": {},
   "outputs": [],
   "source": []
  },
  {
   "cell_type": "code",
   "execution_count": 564,
   "metadata": {},
   "outputs": [],
   "source": [
    "y_pred = classifier.predict(X_test)"
   ]
  },
  {
   "cell_type": "code",
   "execution_count": 565,
   "metadata": {},
   "outputs": [
    {
     "data": {
      "text/plain": [
       "0.8695652173913043"
      ]
     },
     "execution_count": 565,
     "metadata": {},
     "output_type": "execute_result"
    }
   ],
   "source": [
    "accuracy_score(y_test,y_pred)"
   ]
  },
  {
   "cell_type": "code",
   "execution_count": 566,
   "metadata": {},
   "outputs": [
    {
     "data": {
      "text/plain": [
       "array([[19,  2],\n",
       "       [ 4, 21]])"
      ]
     },
     "execution_count": 566,
     "metadata": {},
     "output_type": "execute_result"
    }
   ],
   "source": [
    "cm=confusion_matrix(y_test, y_pred)\n",
    "cm"
   ]
  },
  {
   "cell_type": "code",
   "execution_count": 567,
   "metadata": {},
   "outputs": [
    {
     "name": "stdout",
     "output_type": "stream",
     "text": [
      "              precision    recall  f1-score   support\n",
      "\n",
      "           0       0.83      0.90      0.86        21\n",
      "           1       0.91      0.84      0.87        25\n",
      "\n",
      "    accuracy                           0.87        46\n",
      "   macro avg       0.87      0.87      0.87        46\n",
      "weighted avg       0.87      0.87      0.87        46\n",
      "\n"
     ]
    }
   ],
   "source": [
    "print(classification_report(y_test, y_pred))\n"
   ]
  },
  {
   "cell_type": "code",
   "execution_count": 568,
   "metadata": {},
   "outputs": [
    {
     "data": {
      "image/png": "[encoded data removed]",
      "text/plain": [
       "<Figure size 640x480 with 1 Axes>"
      ]
     },
     "metadata": {},
     "output_type": "display_data"
    }
   ],
   "source": [
    "logit_roc_auc = roc_auc_score(y_test, classifier.predict(X_test))\n",
    "fpr, tpr, thresholds = roc_curve(y_test, classifier.predict_proba(X_test)[:,1])\n",
    "plt.figure()\n",
    "plt.plot(fpr, tpr, label='Logistic Regression (area = %0.2f)' % logit_roc_auc)\n",
    "plt.plot([0, 1], [0, 1],'r--')\n",
    "plt.xlim([0.0, 1.0])\n",
    "plt.ylim([0.0, 1.05])\n",
    "plt.xlabel('False Positive Rate')\n",
    "plt.ylabel('True Positive Rate')\n",
    "plt.title('Receiver operating characteristic')\n",
    "plt.legend(loc=\"lower right\")\n",
    "plt.savefig('Log_ROC')\n",
    "plt.show()"
   ]
  },
  {
   "cell_type": "code",
   "execution_count": 569,
   "metadata": {},
   "outputs": [
    {
     "data": {
      "text/html": [
       "<div>\n",
       "<style scoped>\n",
       "    .dataframe tbody tr th:only-of-type {\n",
       "        vertical-align: middle;\n",
       "    }\n",
       "\n",
       "    .dataframe tbody tr th {\n",
       "        vertical-align: top;\n",
       "    }\n",
       "\n",
       "    .dataframe thead th {\n",
       "        text-align: right;\n",
       "    }\n",
       "</style>\n",
       "<table border=\"1\" class=\"dataframe\">\n",
       "  <thead>\n",
       "    <tr style=\"text-align: right;\">\n",
       "      <th></th>\n",
       "      <th>age</th>\n",
       "      <th>sex</th>\n",
       "      <th>cp</th>\n",
       "      <th>trestbps</th>\n",
       "      <th>chol</th>\n",
       "      <th>fbs</th>\n",
       "      <th>restecg</th>\n",
       "      <th>thalach</th>\n",
       "      <th>exang</th>\n",
       "      <th>oldpeak</th>\n",
       "      <th>slope</th>\n",
       "      <th>ca</th>\n",
       "      <th>thal</th>\n",
       "    </tr>\n",
       "  </thead>\n",
       "  <tbody>\n",
       "    <tr>\n",
       "      <th>0</th>\n",
       "      <td>65</td>\n",
       "      <td>1</td>\n",
       "      <td>0</td>\n",
       "      <td>145</td>\n",
       "      <td>233</td>\n",
       "      <td>1</td>\n",
       "      <td>2</td>\n",
       "      <td>150</td>\n",
       "      <td>1</td>\n",
       "      <td>2.3</td>\n",
       "      <td>3</td>\n",
       "      <td>0</td>\n",
       "      <td>7</td>\n",
       "    </tr>\n",
       "  </tbody>\n",
       "</table>\n",
       "</div>"
      ],
      "text/plain": [
       "   age  sex  cp  trestbps  chol  fbs  restecg  thalach  exang  oldpeak  slope  \\\n",
       "0   65    1   0       145   233    1        2      150      1      2.3      3   \n",
       "\n",
       "   ca  thal  \n",
       "0   0     7  "
      ]
     },
     "execution_count": 569,
     "metadata": {},
     "output_type": "execute_result"
    }
   ],
   "source": [
    "Newdataset = pd.read_csv('newdata.csv')\n",
    "Newdataset"
   ]
  },
  {
   "cell_type": "code",
   "execution_count": 570,
   "metadata": {},
   "outputs": [],
   "source": [
    "classifier = joblib.load('decision_tree_model.pkl')"
   ]
  },
  {
   "cell_type": "code",
   "execution_count": 571,
   "metadata": {},
   "outputs": [
    {
     "name": "stderr",
     "output_type": "stream",
     "text": [
      "/home/ongraph/.local/lib/python3.8/site-packages/sklearn/base.py:458: UserWarning: X has feature names, but StandardScaler was fitted without feature names\n",
      "  warnings.warn(\n"
     ]
    }
   ],
   "source": [
    "Newdataset = pd.read_csv('newdata.csv')\n",
    "Newdataset_scaled = sc.transform(Newdataset)"
   ]
  },
  {
   "cell_type": "markdown",
   "metadata": {},
   "source": [
    "0,1,1,0,0,0,1,0,1"
   ]
  },
  {
   "cell_type": "code",
   "execution_count": 572,
   "metadata": {},
   "outputs": [
    {
     "data": {
      "text/plain": [
       "array([1])"
      ]
     },
     "execution_count": 572,
     "metadata": {},
     "output_type": "execute_result"
    }
   ],
   "source": [
    "ynew=classifier.predict(Newdataset_scaled)\n",
    "ynew"
   ]
  },
  {
   "cell_type": "markdown",
   "metadata": {},
   "source": [
    "## LOGISTIC MODEL"
   ]
  },
  {
   "cell_type": "code",
   "execution_count": 573,
   "metadata": {},
   "outputs": [
    {
     "data": {
      "image/png": "[encoded data removed]",
      "text/plain": [
       "<Figure size 2000x2000 with 14 Axes>"
      ]
     },
     "metadata": {},
     "output_type": "display_data"
    }
   ],
   "source": [
    "def draw_histograms(dataframe, features, rows, cols):\n",
    "    fig=plt.figure(figsize=(20,20))\n",
    "    for i, feature in enumerate(features):\n",
    "        ax=fig.add_subplot(rows,cols,i+1)\n",
    "        dataframe[feature].hist(bins=20,ax=ax,facecolor='midnightblue')\n",
    "        ax.set_title(feature+\" Distribution\",color='DarkRed')\n",
    "\n",
    "    fig.tight_layout()\n",
    "    plt.show()\n",
    "draw_histograms(dataset,dataset.columns,6,3)"
   ]
  },
  {
   "cell_type": "code",
   "execution_count": 574,
   "metadata": {},
   "outputs": [],
   "source": [
    "# pd.crosstab(dataset.thal,dataset.num).plot(kind='bar')\n",
    "# plt.title('bar chart for thal vs num')\n",
    "# plt.xlabel('thal')\n",
    "# plt.ylabel('num')\n",
    "\n",
    "# pd.crosstab(dataset.trestbps,dataset.num).plot(kind='bar')\n",
    "# plt.title('bar chart for trestbps vs num')\n",
    "# plt.xlabel('trestbps')\n",
    "# plt.ylabel('num')\n",
    "\n",
    "# pd.crosstab(dataset.cp,dataset.num).plot(kind='bar')\n",
    "# plt.title('bar chart for cp vs num')\n",
    "# plt.xlabel('cp')\n",
    "# plt.ylabel('num')\n",
    "\n",
    "# pd.crosstab(dataset.chol,dataset.num).plot(kind='bar')\n",
    "# plt.title('bar chart for chol vs num')\n",
    "# plt.xlabel('chol')\n",
    "# plt.ylabel('num')\n",
    "\n",
    "# pd.crosstab(dataset.restecg,dataset.num).plot(kind='bar')\n",
    "# plt.title('bar chart for restecg vs num')\n",
    "# plt.xlabel('restecg')\n",
    "# plt.ylabel('num')"
   ]
  },
  {
   "cell_type": "code",
   "execution_count": 575,
   "metadata": {},
   "outputs": [
    {
     "name": "stdout",
     "output_type": "stream",
     "text": [
      "Best parameters: {'C': 0.01, 'class_weight': None, 'max_iter': 100, 'penalty': 'l2', 'solver': 'lbfgs'}\n",
      "Best score: 0.8443438914027149\n",
      "{'mean_fit_time': array([0.00030155, 0.00031066, 0.00142655, 0.00404115, 0.00017605,\n",
      "       0.00198359, 0.00023451, 0.00027356, 0.00026269, 0.00024552,\n",
      "       0.00017295, 0.00158095, 0.00293307, 0.00016747, 0.00129142,\n",
      "       0.00019369, 0.0001595 , 0.00019608, 0.00019035, 0.00021114,\n",
      "       0.0011137 , 0.00261798, 0.00015578, 0.00136437, 0.00018697,\n",
      "       0.00015621, 0.00020561, 0.00026855, 0.00018039, 0.00086045,\n",
      "       0.00229402, 0.00018492, 0.00102987, 0.00018687, 0.00016289,\n",
      "       0.00021138, 0.00028806, 0.00016217, 0.00082192, 0.00234799,\n",
      "       0.00017786, 0.00112624, 0.00019507, 0.00016646, 0.00027766,\n",
      "       0.000212  , 0.00018849, 0.00105815, 0.00269537, 0.00019679,\n",
      "       0.00084968, 0.00019059, 0.00021124, 0.00022297, 0.00018415,\n",
      "       0.0001615 , 0.00124979, 0.00259619, 0.00017033, 0.00127029,\n",
      "       0.00022845, 0.00015836, 0.00018377, 0.00021949, 0.00017195,\n",
      "       0.00132084, 0.00262361, 0.00015869, 0.00140057, 0.00018764,\n",
      "       0.00016351, 0.00019751, 0.00020514, 0.0002111 , 0.00112982,\n",
      "       0.00268483, 0.00016098, 0.00132499, 0.00018306, 0.00015507,\n",
      "       0.00023718, 0.00020924, 0.00015836, 0.00078382, 0.00233092,\n",
      "       0.00016246, 0.00105939, 0.00018678, 0.00015903, 0.00019088,\n",
      "       0.00024257, 0.00019503, 0.0007998 , 0.0024734 , 0.00018315,\n",
      "       0.00121651, 0.00020747, 0.00016418, 0.00027671, 0.00021591,\n",
      "       0.00015569, 0.00080757, 0.00234017, 0.00019007, 0.00102301,\n",
      "       0.00019164, 0.00015497, 0.00025821, 0.0002111 , 0.0001513 ,\n",
      "       0.00125408, 0.0025558 , 0.00018678, 0.00123701, 0.0002202 ,\n",
      "       0.00023255, 0.00019712, 0.00017972, 0.00015159, 0.00146022,\n",
      "       0.0026197 , 0.0001617 , 0.00133667, 0.00021114, 0.00017595,\n",
      "       0.00017939, 0.00019059, 0.00016341, 0.00141683, 0.00255814,\n",
      "       0.00015907, 0.00143514, 0.00019717, 0.0001626 , 0.00018826,\n",
      "       0.00023918, 0.00017204, 0.00094013, 0.00227284, 0.00017152,\n",
      "       0.00110669, 0.00018773, 0.00015507, 0.00020256, 0.00029049,\n",
      "       0.0001842 , 0.00096955, 0.00236158, 0.00018387, 0.00113649,\n",
      "       0.00019431, 0.00016055, 0.00027738, 0.00024419, 0.00019784,\n",
      "       0.00105367, 0.00229993, 0.0002511 , 0.00095606, 0.00019603,\n",
      "       0.00020442, 0.00023351, 0.00018697, 0.00015802, 0.00144248,\n",
      "       0.00304141, 0.000177  , 0.00146995, 0.00019588, 0.00015931,\n",
      "       0.00019422, 0.00022173, 0.00024819, 0.00128269, 0.00300641,\n",
      "       0.00021596, 0.00134358, 0.00025854, 0.00019827, 0.0002027 ,\n",
      "       0.00018926, 0.00017171, 0.00153985, 0.00333738, 0.00017724,\n",
      "       0.00505776, 0.00021353, 0.00023146, 0.00021572, 0.00019627,\n",
      "       0.00016289, 0.00109692, 0.00274334, 0.00017157, 0.0011003 ,\n",
      "       0.00026035, 0.00016375, 0.00019441, 0.00018597, 0.00016565,\n",
      "       0.00128431, 0.00261312, 0.00017462, 0.00110884, 0.00019503,\n",
      "       0.00015335, 0.00019007, 0.0001862 , 0.00016956, 0.00111947,\n",
      "       0.00256753, 0.00016789, 0.00116696, 0.00019169, 0.00015502,\n",
      "       0.00019383, 0.00018888, 0.00020628, 0.00132136, 0.00306382,\n",
      "       0.0002038 , 0.00133491, 0.00020576, 0.00021291, 0.00023379,\n",
      "       0.000212  , 0.00015512, 0.00145745, 0.00329938, 0.00015984,\n",
      "       0.00146136, 0.00018773, 0.00016632, 0.00018244, 0.00020022,\n",
      "       0.00016685, 0.00136962, 0.0031034 , 0.00021529, 0.00139475,\n",
      "       0.00025015, 0.00017757, 0.00019736, 0.00018682, 0.0001596 ,\n",
      "       0.00111055, 0.00251613, 0.00016313, 0.00102715, 0.00025249,\n",
      "       0.00016265, 0.00019174, 0.00018983, 0.00015402, 0.00120816,\n",
      "       0.00262451, 0.00019064, 0.00109529, 0.00021186, 0.00016146,\n",
      "       0.00018287, 0.00018382, 0.00015388, 0.00117593, 0.00271707,\n",
      "       0.00015812, 0.00120049, 0.00019307, 0.00016236, 0.00018411]), 'std_fit_time': array([5.45274080e-05, 7.34614032e-05, 9.99288009e-05, 8.89679371e-04,\n",
      "       1.49749645e-05, 5.43926673e-04, 3.21122832e-05, 7.46097945e-05,\n",
      "       5.32226745e-05, 2.29186610e-05, 2.28078745e-05, 1.13835422e-04,\n",
      "       1.01917448e-04, 1.09844488e-05, 1.35598571e-04, 6.92744455e-06,\n",
      "       1.80317596e-06, 1.60699075e-05, 2.54689078e-05, 3.41098921e-05,\n",
      "       1.29719989e-04, 3.76389187e-04, 4.24786710e-06, 2.25983669e-04,\n",
      "       4.02186067e-06, 6.97552626e-07, 1.84897259e-05, 2.64490358e-05,\n",
      "       2.43987840e-05, 8.64788589e-05, 2.96887155e-04, 4.02461861e-05,\n",
      "       2.15508325e-04, 4.84500343e-06, 1.57243515e-05, 3.96594382e-05,\n",
      "       7.60193293e-05, 8.34587633e-06, 5.44849002e-05, 2.95998770e-04,\n",
      "       2.27911202e-05, 2.02294386e-04, 1.52135715e-05, 2.19362714e-05,\n",
      "       6.92052546e-05, 1.05868588e-05, 4.03891488e-05, 5.23339154e-05,\n",
      "       3.44614585e-04, 4.29205362e-05, 5.82304666e-05, 7.57646079e-06,\n",
      "       2.62654615e-05, 4.41437391e-05, 5.56082906e-07, 1.28362225e-05,\n",
      "       1.82817837e-04, 3.69509369e-04, 1.64833991e-05, 1.50197423e-04,\n",
      "       4.30421545e-05, 7.43835400e-06, 1.02713867e-06, 3.95819650e-05,\n",
      "       2.51964111e-05, 2.43819527e-04, 2.71637117e-04, 5.48176112e-06,\n",
      "       3.32568216e-04, 4.34157549e-06, 5.45014651e-06, 2.57132420e-05,\n",
      "       2.89006592e-05, 6.11740633e-05, 1.29599690e-04, 4.64053846e-04,\n",
      "       1.00321824e-05, 2.39166451e-04, 4.39466950e-06, 7.57045630e-06,\n",
      "       3.59199251e-05, 1.96214869e-05, 6.37679450e-06, 5.51526851e-05,\n",
      "       3.62676982e-04, 1.64336653e-05, 2.03530030e-04, 3.21502835e-06,\n",
      "       5.96523094e-06, 1.17988053e-05, 3.37257723e-05, 3.85696125e-05,\n",
      "       6.89274009e-05, 4.55755268e-04, 1.21133533e-05, 8.45021639e-05,\n",
      "       1.76606219e-05, 1.39033810e-05, 5.40196945e-05, 1.57158178e-05,\n",
      "       2.34572866e-06, 5.22491256e-05, 4.12739557e-04, 3.70283013e-05,\n",
      "       1.77171244e-04, 1.07160068e-05, 1.46971083e-06, 5.40572265e-05,\n",
      "       2.03747334e-05, 1.57139369e-06, 1.72755082e-04, 3.09107252e-04,\n",
      "       3.85927735e-05, 1.17263322e-04, 2.67329217e-05, 6.41847613e-05,\n",
      "       2.64588341e-05, 4.86280395e-07, 5.09122765e-07, 1.98480029e-04,\n",
      "       4.06910866e-04, 7.84886129e-06, 2.41680792e-04, 2.33774736e-05,\n",
      "       2.08301989e-05, 9.84180805e-07, 2.35576861e-05, 1.75114186e-05,\n",
      "       2.75503850e-04, 2.17155673e-04, 4.82148157e-06, 3.19295039e-04,\n",
      "       1.70131328e-05, 2.05510730e-05, 1.80636338e-05, 3.57015085e-05,\n",
      "       1.05558867e-05, 7.42720982e-05, 3.85745671e-04, 2.39582084e-05,\n",
      "       2.37416709e-04, 3.53503284e-06, 1.54218308e-06, 2.83152955e-05,\n",
      "       4.22332386e-05, 3.87749834e-05, 8.10211582e-05, 3.34079423e-04,\n",
      "       3.83871386e-05, 2.63836477e-04, 1.08127491e-05, 1.06170982e-05,\n",
      "       9.55860017e-05, 2.22445429e-05, 2.94303183e-05, 1.05365864e-04,\n",
      "       4.41913261e-04, 4.67581081e-05, 8.00059716e-05, 1.79985658e-05,\n",
      "       3.86175103e-05, 3.86710526e-05, 1.08106461e-06, 1.07049677e-06,\n",
      "       2.10997851e-04, 3.60792609e-04, 4.05313267e-05, 1.82173488e-04,\n",
      "       8.34478651e-06, 8.84401178e-07, 2.00864505e-05, 2.44724797e-05,\n",
      "       3.78072032e-05, 1.61083116e-04, 2.96544043e-04, 1.79751798e-05,\n",
      "       1.77810498e-04, 5.06150009e-05, 2.45932434e-05, 8.76576636e-06,\n",
      "       1.14851454e-05, 2.24890276e-05, 7.50762805e-05, 1.46701259e-04,\n",
      "       1.58612697e-05, 6.95339663e-03, 1.78782778e-05, 4.80500455e-05,\n",
      "       1.41375583e-05, 3.77695968e-06, 1.48815980e-06, 5.04755050e-05,\n",
      "       3.73760849e-04, 1.54884754e-05, 5.02863162e-05, 1.92000245e-05,\n",
      "       8.59021843e-06, 2.62315051e-05, 1.23426238e-06, 1.51709172e-05,\n",
      "       1.29106635e-04, 1.28078443e-04, 2.50349045e-05, 1.35520560e-04,\n",
      "       1.57001848e-05, 1.41773880e-06, 2.00075099e-05, 1.31307828e-05,\n",
      "       2.25571697e-05, 2.11384209e-04, 1.91502991e-04, 1.11128636e-05,\n",
      "       1.69620006e-04, 9.44931968e-06, 7.59953377e-07, 1.93216158e-05,\n",
      "       9.14533393e-06, 2.84066107e-05, 1.10900719e-04, 4.18876097e-04,\n",
      "       1.43332205e-05, 1.43387003e-04, 1.94862525e-05, 4.62817075e-05,\n",
      "       2.91091804e-05, 2.79393210e-05, 8.20381667e-07, 1.83434241e-04,\n",
      "       2.37760427e-04, 8.28462538e-06, 1.69991116e-04, 7.82739488e-06,\n",
      "       2.39240184e-05, 9.09747316e-07, 1.77927363e-05, 1.25937379e-05,\n",
      "       2.06177329e-04, 2.12333589e-04, 8.03138738e-05, 6.90080739e-05,\n",
      "       5.06122606e-05, 1.84206089e-05, 2.45825164e-05, 1.28255900e-05,\n",
      "       1.28777818e-05, 1.01427982e-04, 2.07225529e-04, 1.22959283e-05,\n",
      "       6.05829819e-05, 3.71877960e-05, 6.79287963e-06, 1.41688854e-05,\n",
      "       1.33304772e-05, 9.53674316e-07, 2.16642114e-04, 2.86423582e-04,\n",
      "       5.54993388e-05, 1.39016801e-04, 2.44257943e-05, 1.26863778e-05,\n",
      "       7.83523403e-07, 1.30587234e-06, 7.92181383e-07, 1.88322210e-04,\n",
      "       3.24513888e-04, 5.49584562e-06, 2.60389084e-04, 1.07942284e-05,\n",
      "       1.47473021e-05, 1.04904175e-06]), 'mean_score_time': array([0.        , 0.        , 0.0006938 , 0.00082264, 0.        ,\n",
      "       0.00076299, 0.        , 0.        , 0.        , 0.        ,\n",
      "       0.        , 0.00076542, 0.00071778, 0.        , 0.00062256,\n",
      "       0.        , 0.        , 0.        , 0.        , 0.        ,\n",
      "       0.00054259, 0.0005847 , 0.        , 0.00066175, 0.        ,\n",
      "       0.        , 0.        , 0.        , 0.        , 0.0005456 ,\n",
      "       0.00073104, 0.        , 0.00063114, 0.        , 0.        ,\n",
      "       0.        , 0.        , 0.        , 0.00054045, 0.00063181,\n",
      "       0.        , 0.00067825, 0.        , 0.        , 0.        ,\n",
      "       0.        , 0.        , 0.00071902, 0.00077953, 0.        ,\n",
      "       0.00052814, 0.        , 0.        , 0.        , 0.        ,\n",
      "       0.        , 0.00065746, 0.00063968, 0.        , 0.0006001 ,\n",
      "       0.        , 0.        , 0.        , 0.        , 0.        ,\n",
      "       0.00065904, 0.0005846 , 0.        , 0.00059752, 0.        ,\n",
      "       0.        , 0.        , 0.        , 0.        , 0.00052667,\n",
      "       0.00058665, 0.        , 0.00066681, 0.        , 0.        ,\n",
      "       0.        , 0.        , 0.        , 0.00055642, 0.00067849,\n",
      "       0.        , 0.00063009, 0.        , 0.        , 0.        ,\n",
      "       0.        , 0.        , 0.00052004, 0.00064735, 0.        ,\n",
      "       0.00073256, 0.        , 0.        , 0.        , 0.        ,\n",
      "       0.        , 0.00052686, 0.00057983, 0.        , 0.00057688,\n",
      "       0.        , 0.        , 0.        , 0.        , 0.        ,\n",
      "       0.00064521, 0.00064774, 0.        , 0.0005219 , 0.        ,\n",
      "       0.        , 0.        , 0.        , 0.        , 0.00066018,\n",
      "       0.00058274, 0.        , 0.00062313, 0.        , 0.        ,\n",
      "       0.        , 0.        , 0.        , 0.00064263, 0.00064874,\n",
      "       0.        , 0.00058565, 0.        , 0.        , 0.        ,\n",
      "       0.        , 0.        , 0.00054703, 0.00070934, 0.        ,\n",
      "       0.00070028, 0.        , 0.        , 0.        , 0.        ,\n",
      "       0.        , 0.00054121, 0.00062928, 0.        , 0.00061564,\n",
      "       0.        , 0.        , 0.        , 0.        , 0.        ,\n",
      "       0.00062137, 0.00070457, 0.        , 0.0005671 , 0.        ,\n",
      "       0.        , 0.        , 0.        , 0.        , 0.00071516,\n",
      "       0.00063581, 0.        , 0.00070248, 0.        , 0.        ,\n",
      "       0.        , 0.        , 0.        , 0.00055223, 0.00072694,\n",
      "       0.        , 0.00054464, 0.        , 0.        , 0.        ,\n",
      "       0.        , 0.        , 0.00069408, 0.00074763, 0.        ,\n",
      "       0.00073605, 0.        , 0.        , 0.        , 0.        ,\n",
      "       0.        , 0.00064936, 0.0006793 , 0.        , 0.00064707,\n",
      "       0.        , 0.        , 0.        , 0.        , 0.        ,\n",
      "       0.00067167, 0.00063615, 0.        , 0.00062881, 0.        ,\n",
      "       0.        , 0.        , 0.        , 0.        , 0.00060415,\n",
      "       0.0006103 , 0.        , 0.0006547 , 0.        , 0.        ,\n",
      "       0.        , 0.        , 0.        , 0.00053639, 0.0006639 ,\n",
      "       0.        , 0.00053945, 0.        , 0.        , 0.        ,\n",
      "       0.        , 0.        , 0.00063181, 0.00067887, 0.        ,\n",
      "       0.00062623, 0.        , 0.        , 0.        , 0.        ,\n",
      "       0.        , 0.00056152, 0.00069079, 0.        , 0.00058947,\n",
      "       0.        , 0.        , 0.        , 0.        , 0.        ,\n",
      "       0.00066776, 0.00063119, 0.        , 0.00059409, 0.        ,\n",
      "       0.        , 0.        , 0.        , 0.        , 0.00064244,\n",
      "       0.00060682, 0.        , 0.00061121, 0.        , 0.        ,\n",
      "       0.        , 0.        , 0.        , 0.00063033, 0.00059052,\n",
      "       0.        , 0.00063882, 0.        , 0.        , 0.        ]), 'std_score_time': array([0.00000000e+00, 0.00000000e+00, 5.83503353e-05, 1.31449104e-04,\n",
      "       0.00000000e+00, 1.70295460e-04, 0.00000000e+00, 0.00000000e+00,\n",
      "       0.00000000e+00, 0.00000000e+00, 0.00000000e+00, 4.62378644e-05,\n",
      "       5.32197267e-05, 0.00000000e+00, 1.05831577e-04, 0.00000000e+00,\n",
      "       0.00000000e+00, 0.00000000e+00, 0.00000000e+00, 0.00000000e+00,\n",
      "       4.89552713e-05, 1.03997255e-04, 0.00000000e+00, 1.38465218e-04,\n",
      "       0.00000000e+00, 0.00000000e+00, 0.00000000e+00, 0.00000000e+00,\n",
      "       0.00000000e+00, 2.62280377e-05, 2.20466391e-04, 0.00000000e+00,\n",
      "       1.18107126e-04, 0.00000000e+00, 0.00000000e+00, 0.00000000e+00,\n",
      "       0.00000000e+00, 0.00000000e+00, 3.61753823e-05, 1.42325069e-04,\n",
      "       0.00000000e+00, 1.54181400e-04, 0.00000000e+00, 0.00000000e+00,\n",
      "       0.00000000e+00, 0.00000000e+00, 0.00000000e+00, 8.87681263e-05,\n",
      "       1.53801207e-04, 0.00000000e+00, 2.38696890e-05, 0.00000000e+00,\n",
      "       0.00000000e+00, 0.00000000e+00, 0.00000000e+00, 0.00000000e+00,\n",
      "       1.61710772e-04, 1.24893747e-04, 0.00000000e+00, 1.60773693e-04,\n",
      "       0.00000000e+00, 0.00000000e+00, 0.00000000e+00, 0.00000000e+00,\n",
      "       0.00000000e+00, 1.42881563e-04, 1.00791014e-04, 0.00000000e+00,\n",
      "       7.38848983e-05, 0.00000000e+00, 0.00000000e+00, 0.00000000e+00,\n",
      "       0.00000000e+00, 0.00000000e+00, 5.16630561e-05, 5.80039819e-05,\n",
      "       0.00000000e+00, 1.45981218e-04, 0.00000000e+00, 0.00000000e+00,\n",
      "       0.00000000e+00, 0.00000000e+00, 0.00000000e+00, 8.50123762e-05,\n",
      "       2.22077476e-04, 0.00000000e+00, 1.37559495e-04, 0.00000000e+00,\n",
      "       0.00000000e+00, 0.00000000e+00, 0.00000000e+00, 0.00000000e+00,\n",
      "       2.40201956e-05, 6.82277828e-05, 0.00000000e+00, 5.33901345e-05,\n",
      "       0.00000000e+00, 0.00000000e+00, 0.00000000e+00, 0.00000000e+00,\n",
      "       0.00000000e+00, 2.77236421e-05, 8.35843990e-05, 0.00000000e+00,\n",
      "       7.17513336e-05, 0.00000000e+00, 0.00000000e+00, 0.00000000e+00,\n",
      "       0.00000000e+00, 0.00000000e+00, 2.34672558e-04, 1.86916784e-04,\n",
      "       0.00000000e+00, 1.61076411e-05, 0.00000000e+00, 0.00000000e+00,\n",
      "       0.00000000e+00, 0.00000000e+00, 0.00000000e+00, 1.68745051e-04,\n",
      "       8.29161274e-05, 0.00000000e+00, 1.28249039e-04, 0.00000000e+00,\n",
      "       0.00000000e+00, 0.00000000e+00, 0.00000000e+00, 0.00000000e+00,\n",
      "       1.10072733e-04, 1.88051360e-04, 0.00000000e+00, 8.56079549e-05,\n",
      "       0.00000000e+00, 0.00000000e+00, 0.00000000e+00, 0.00000000e+00,\n",
      "       0.00000000e+00, 5.72450108e-05, 2.19162751e-04, 0.00000000e+00,\n",
      "       1.99470815e-04, 0.00000000e+00, 0.00000000e+00, 0.00000000e+00,\n",
      "       0.00000000e+00, 0.00000000e+00, 2.83944416e-05, 1.27803443e-04,\n",
      "       0.00000000e+00, 1.17181643e-04, 0.00000000e+00, 0.00000000e+00,\n",
      "       0.00000000e+00, 0.00000000e+00, 0.00000000e+00, 1.08453297e-04,\n",
      "       1.98768207e-04, 0.00000000e+00, 5.97483999e-05, 0.00000000e+00,\n",
      "       0.00000000e+00, 0.00000000e+00, 0.00000000e+00, 0.00000000e+00,\n",
      "       2.15863744e-04, 8.02254110e-05, 0.00000000e+00, 1.74183830e-04,\n",
      "       0.00000000e+00, 0.00000000e+00, 0.00000000e+00, 0.00000000e+00,\n",
      "       0.00000000e+00, 3.29657637e-05, 1.85967592e-04, 0.00000000e+00,\n",
      "       2.35567209e-05, 0.00000000e+00, 0.00000000e+00, 0.00000000e+00,\n",
      "       0.00000000e+00, 0.00000000e+00, 7.58928544e-05, 2.83938010e-05,\n",
      "       0.00000000e+00, 1.17057297e-04, 0.00000000e+00, 0.00000000e+00,\n",
      "       0.00000000e+00, 0.00000000e+00, 0.00000000e+00, 8.12519324e-05,\n",
      "       8.72734978e-05, 0.00000000e+00, 1.09940699e-04, 0.00000000e+00,\n",
      "       0.00000000e+00, 0.00000000e+00, 0.00000000e+00, 0.00000000e+00,\n",
      "       5.41795716e-05, 1.56670898e-04, 0.00000000e+00, 9.83809473e-05,\n",
      "       0.00000000e+00, 0.00000000e+00, 0.00000000e+00, 0.00000000e+00,\n",
      "       0.00000000e+00, 1.01223555e-04, 9.16865484e-05, 0.00000000e+00,\n",
      "       1.07180011e-04, 0.00000000e+00, 0.00000000e+00, 0.00000000e+00,\n",
      "       0.00000000e+00, 0.00000000e+00, 3.51352955e-05, 1.43800569e-04,\n",
      "       0.00000000e+00, 3.88420673e-05, 0.00000000e+00, 0.00000000e+00,\n",
      "       0.00000000e+00, 0.00000000e+00, 0.00000000e+00, 8.60538496e-05,\n",
      "       9.17777882e-05, 0.00000000e+00, 9.27883453e-05, 0.00000000e+00,\n",
      "       0.00000000e+00, 0.00000000e+00, 0.00000000e+00, 0.00000000e+00,\n",
      "       5.48463066e-05, 1.66229195e-04, 0.00000000e+00, 4.38071935e-05,\n",
      "       0.00000000e+00, 0.00000000e+00, 0.00000000e+00, 0.00000000e+00,\n",
      "       0.00000000e+00, 1.04622832e-04, 1.32717976e-04, 0.00000000e+00,\n",
      "       1.51467562e-04, 0.00000000e+00, 0.00000000e+00, 0.00000000e+00,\n",
      "       0.00000000e+00, 0.00000000e+00, 6.34321759e-05, 1.01582700e-04,\n",
      "       0.00000000e+00, 1.39108004e-04, 0.00000000e+00, 0.00000000e+00,\n",
      "       0.00000000e+00, 0.00000000e+00, 0.00000000e+00, 1.38011980e-04,\n",
      "       5.98075085e-05, 0.00000000e+00, 7.19427974e-05, 0.00000000e+00,\n",
      "       0.00000000e+00, 0.00000000e+00]), 'param_C': masked_array(data=[0.001, 0.001, 0.001, 0.001, 0.001, 0.001, 0.001, 0.001,\n",
      "                   0.001, 0.001, 0.001, 0.001, 0.001, 0.001, 0.001, 0.001,\n",
      "                   0.001, 0.001, 0.001, 0.001, 0.001, 0.001, 0.001, 0.001,\n",
      "                   0.001, 0.001, 0.001, 0.001, 0.001, 0.001, 0.001, 0.001,\n",
      "                   0.001, 0.001, 0.001, 0.001, 0.001, 0.001, 0.001, 0.001,\n",
      "                   0.001, 0.001, 0.001, 0.001, 0.001, 0.001, 0.001, 0.001,\n",
      "                   0.001, 0.001, 0.001, 0.001, 0.001, 0.001, 0.01, 0.01,\n",
      "                   0.01, 0.01, 0.01, 0.01, 0.01, 0.01, 0.01, 0.01, 0.01,\n",
      "                   0.01, 0.01, 0.01, 0.01, 0.01, 0.01, 0.01, 0.01, 0.01,\n",
      "                   0.01, 0.01, 0.01, 0.01, 0.01, 0.01, 0.01, 0.01, 0.01,\n",
      "                   0.01, 0.01, 0.01, 0.01, 0.01, 0.01, 0.01, 0.01, 0.01,\n",
      "                   0.01, 0.01, 0.01, 0.01, 0.01, 0.01, 0.01, 0.01, 0.01,\n",
      "                   0.01, 0.01, 0.01, 0.01, 0.01, 0.01, 0.01, 0.1, 0.1,\n",
      "                   0.1, 0.1, 0.1, 0.1, 0.1, 0.1, 0.1, 0.1, 0.1, 0.1, 0.1,\n",
      "                   0.1, 0.1, 0.1, 0.1, 0.1, 0.1, 0.1, 0.1, 0.1, 0.1, 0.1,\n",
      "                   0.1, 0.1, 0.1, 0.1, 0.1, 0.1, 0.1, 0.1, 0.1, 0.1, 0.1,\n",
      "                   0.1, 0.1, 0.1, 0.1, 0.1, 0.1, 0.1, 0.1, 0.1, 0.1, 0.1,\n",
      "                   0.1, 0.1, 0.1, 0.1, 0.1, 0.1, 0.1, 0.1, 1, 1, 1, 1, 1,\n",
      "                   1, 1, 1, 1, 1, 1, 1, 1, 1, 1, 1, 1, 1, 1, 1, 1, 1, 1,\n",
      "                   1, 1, 1, 1, 1, 1, 1, 1, 1, 1, 1, 1, 1, 1, 1, 1, 1, 1,\n",
      "                   1, 1, 1, 1, 1, 1, 1, 1, 1, 1, 1, 1, 1, 10, 10, 10, 10,\n",
      "                   10, 10, 10, 10, 10, 10, 10, 10, 10, 10, 10, 10, 10, 10,\n",
      "                   10, 10, 10, 10, 10, 10, 10, 10, 10, 10, 10, 10, 10, 10,\n",
      "                   10, 10, 10, 10, 10, 10, 10, 10, 10, 10, 10, 10, 10, 10,\n",
      "                   10, 10, 10, 10, 10, 10, 10, 10],\n",
      "             mask=[False, False, False, False, False, False, False, False,\n",
      "                   False, False, False, False, False, False, False, False,\n",
      "                   False, False, False, False, False, False, False, False,\n",
      "                   False, False, False, False, False, False, False, False,\n",
      "                   False, False, False, False, False, False, False, False,\n",
      "                   False, False, False, False, False, False, False, False,\n",
      "                   False, False, False, False, False, False, False, False,\n",
      "                   False, False, False, False, False, False, False, False,\n",
      "                   False, False, False, False, False, False, False, False,\n",
      "                   False, False, False, False, False, False, False, False,\n",
      "                   False, False, False, False, False, False, False, False,\n",
      "                   False, False, False, False, False, False, False, False,\n",
      "                   False, False, False, False, False, False, False, False,\n",
      "                   False, False, False, False, False, False, False, False,\n",
      "                   False, False, False, False, False, False, False, False,\n",
      "                   False, False, False, False, False, False, False, False,\n",
      "                   False, False, False, False, False, False, False, False,\n",
      "                   False, False, False, False, False, False, False, False,\n",
      "                   False, False, False, False, False, False, False, False,\n",
      "                   False, False, False, False, False, False, False, False,\n",
      "                   False, False, False, False, False, False, False, False,\n",
      "                   False, False, False, False, False, False, False, False,\n",
      "                   False, False, False, False, False, False, False, False,\n",
      "                   False, False, False, False, False, False, False, False,\n",
      "                   False, False, False, False, False, False, False, False,\n",
      "                   False, False, False, False, False, False, False, False,\n",
      "                   False, False, False, False, False, False, False, False,\n",
      "                   False, False, False, False, False, False, False, False,\n",
      "                   False, False, False, False, False, False, False, False,\n",
      "                   False, False, False, False, False, False, False, False,\n",
      "                   False, False, False, False, False, False, False, False,\n",
      "                   False, False, False, False, False, False, False, False,\n",
      "                   False, False, False, False, False, False, False, False,\n",
      "                   False, False, False, False, False, False],\n",
      "       fill_value='?',\n",
      "            dtype=object), 'param_class_weight': masked_array(data=['balanced', 'balanced', 'balanced', 'balanced',\n",
      "                   'balanced', 'balanced', 'balanced', 'balanced',\n",
      "                   'balanced', 'balanced', 'balanced', 'balanced',\n",
      "                   'balanced', 'balanced', 'balanced', 'balanced',\n",
      "                   'balanced', 'balanced', 'balanced', 'balanced',\n",
      "                   'balanced', 'balanced', 'balanced', 'balanced',\n",
      "                   'balanced', 'balanced', 'balanced', None, None, None,\n",
      "                   None, None, None, None, None, None, None, None, None,\n",
      "                   None, None, None, None, None, None, None, None, None,\n",
      "                   None, None, None, None, None, None, 'balanced',\n",
      "                   'balanced', 'balanced', 'balanced', 'balanced',\n",
      "                   'balanced', 'balanced', 'balanced', 'balanced',\n",
      "                   'balanced', 'balanced', 'balanced', 'balanced',\n",
      "                   'balanced', 'balanced', 'balanced', 'balanced',\n",
      "                   'balanced', 'balanced', 'balanced', 'balanced',\n",
      "                   'balanced', 'balanced', 'balanced', 'balanced',\n",
      "                   'balanced', 'balanced', None, None, None, None, None,\n",
      "                   None, None, None, None, None, None, None, None, None,\n",
      "                   None, None, None, None, None, None, None, None, None,\n",
      "                   None, None, None, None, 'balanced', 'balanced',\n",
      "                   'balanced', 'balanced', 'balanced', 'balanced',\n",
      "                   'balanced', 'balanced', 'balanced', 'balanced',\n",
      "                   'balanced', 'balanced', 'balanced', 'balanced',\n",
      "                   'balanced', 'balanced', 'balanced', 'balanced',\n",
      "                   'balanced', 'balanced', 'balanced', 'balanced',\n",
      "                   'balanced', 'balanced', 'balanced', 'balanced',\n",
      "                   'balanced', None, None, None, None, None, None, None,\n",
      "                   None, None, None, None, None, None, None, None, None,\n",
      "                   None, None, None, None, None, None, None, None, None,\n",
      "                   None, None, 'balanced', 'balanced', 'balanced',\n",
      "                   'balanced', 'balanced', 'balanced', 'balanced',\n",
      "                   'balanced', 'balanced', 'balanced', 'balanced',\n",
      "                   'balanced', 'balanced', 'balanced', 'balanced',\n",
      "                   'balanced', 'balanced', 'balanced', 'balanced',\n",
      "                   'balanced', 'balanced', 'balanced', 'balanced',\n",
      "                   'balanced', 'balanced', 'balanced', 'balanced', None,\n",
      "                   None, None, None, None, None, None, None, None, None,\n",
      "                   None, None, None, None, None, None, None, None, None,\n",
      "                   None, None, None, None, None, None, None, None,\n",
      "                   'balanced', 'balanced', 'balanced', 'balanced',\n",
      "                   'balanced', 'balanced', 'balanced', 'balanced',\n",
      "                   'balanced', 'balanced', 'balanced', 'balanced',\n",
      "                   'balanced', 'balanced', 'balanced', 'balanced',\n",
      "                   'balanced', 'balanced', 'balanced', 'balanced',\n",
      "                   'balanced', 'balanced', 'balanced', 'balanced',\n",
      "                   'balanced', 'balanced', 'balanced', None, None, None,\n",
      "                   None, None, None, None, None, None, None, None, None,\n",
      "                   None, None, None, None, None, None, None, None, None,\n",
      "                   None, None, None, None, None, None],\n",
      "             mask=[False, False, False, False, False, False, False, False,\n",
      "                   False, False, False, False, False, False, False, False,\n",
      "                   False, False, False, False, False, False, False, False,\n",
      "                   False, False, False, False, False, False, False, False,\n",
      "                   False, False, False, False, False, False, False, False,\n",
      "                   False, False, False, False, False, False, False, False,\n",
      "                   False, False, False, False, False, False, False, False,\n",
      "                   False, False, False, False, False, False, False, False,\n",
      "                   False, False, False, False, False, False, False, False,\n",
      "                   False, False, False, False, False, False, False, False,\n",
      "                   False, False, False, False, False, False, False, False,\n",
      "                   False, False, False, False, False, False, False, False,\n",
      "                   False, False, False, False, False, False, False, False,\n",
      "                   False, False, False, False, False, False, False, False,\n",
      "                   False, False, False, False, False, False, False, False,\n",
      "                   False, False, False, False, False, False, False, False,\n",
      "                   False, False, False, False, False, False, False, False,\n",
      "                   False, False, False, False, False, False, False, False,\n",
      "                   False, False, False, False, False, False, False, False,\n",
      "                   False, False, False, False, False, False, False, False,\n",
      "                   False, False, False, False, False, False, False, False,\n",
      "                   False, False, False, False, False, False, False, False,\n",
      "                   False, False, False, False, False, False, False, False,\n",
      "                   False, False, False, False, False, False, False, False,\n",
      "                   False, False, False, False, False, False, False, False,\n",
      "                   False, False, False, False, False, False, False, False,\n",
      "                   False, False, False, False, False, False, False, False,\n",
      "                   False, False, False, False, False, False, False, False,\n",
      "                   False, False, False, False, False, False, False, False,\n",
      "                   False, False, False, False, False, False, False, False,\n",
      "                   False, False, False, False, False, False, False, False,\n",
      "                   False, False, False, False, False, False, False, False,\n",
      "                   False, False, False, False, False, False, False, False,\n",
      "                   False, False, False, False, False, False],\n",
      "       fill_value='?',\n",
      "            dtype=object), 'param_max_iter': masked_array(data=[100, 100, 100, 100, 100, 100, 100, 100, 100, 200, 200,\n",
      "                   200, 200, 200, 200, 200, 200, 200, 500, 500, 500, 500,\n",
      "                   500, 500, 500, 500, 500, 100, 100, 100, 100, 100, 100,\n",
      "                   100, 100, 100, 200, 200, 200, 200, 200, 200, 200, 200,\n",
      "                   200, 500, 500, 500, 500, 500, 500, 500, 500, 500, 100,\n",
      "                   100, 100, 100, 100, 100, 100, 100, 100, 200, 200, 200,\n",
      "                   200, 200, 200, 200, 200, 200, 500, 500, 500, 500, 500,\n",
      "                   500, 500, 500, 500, 100, 100, 100, 100, 100, 100, 100,\n",
      "                   100, 100, 200, 200, 200, 200, 200, 200, 200, 200, 200,\n",
      "                   500, 500, 500, 500, 500, 500, 500, 500, 500, 100, 100,\n",
      "                   100, 100, 100, 100, 100, 100, 100, 200, 200, 200, 200,\n",
      "                   200, 200, 200, 200, 200, 500, 500, 500, 500, 500, 500,\n",
      "                   500, 500, 500, 100, 100, 100, 100, 100, 100, 100, 100,\n",
      "                   100, 200, 200, 200, 200, 200, 200, 200, 200, 200, 500,\n",
      "                   500, 500, 500, 500, 500, 500, 500, 500, 100, 100, 100,\n",
      "                   100, 100, 100, 100, 100, 100, 200, 200, 200, 200, 200,\n",
      "                   200, 200, 200, 200, 500, 500, 500, 500, 500, 500, 500,\n",
      "                   500, 500, 100, 100, 100, 100, 100, 100, 100, 100, 100,\n",
      "                   200, 200, 200, 200, 200, 200, 200, 200, 200, 500, 500,\n",
      "                   500, 500, 500, 500, 500, 500, 500, 100, 100, 100, 100,\n",
      "                   100, 100, 100, 100, 100, 200, 200, 200, 200, 200, 200,\n",
      "                   200, 200, 200, 500, 500, 500, 500, 500, 500, 500, 500,\n",
      "                   500, 100, 100, 100, 100, 100, 100, 100, 100, 100, 200,\n",
      "                   200, 200, 200, 200, 200, 200, 200, 200, 500, 500, 500,\n",
      "                   500, 500, 500, 500, 500, 500],\n",
      "             mask=[False, False, False, False, False, False, False, False,\n",
      "                   False, False, False, False, False, False, False, False,\n",
      "                   False, False, False, False, False, False, False, False,\n",
      "                   False, False, False, False, False, False, False, False,\n",
      "                   False, False, False, False, False, False, False, False,\n",
      "                   False, False, False, False, False, False, False, False,\n",
      "                   False, False, False, False, False, False, False, False,\n",
      "                   False, False, False, False, False, False, False, False,\n",
      "                   False, False, False, False, False, False, False, False,\n",
      "                   False, False, False, False, False, False, False, False,\n",
      "                   False, False, False, False, False, False, False, False,\n",
      "                   False, False, False, False, False, False, False, False,\n",
      "                   False, False, False, False, False, False, False, False,\n",
      "                   False, False, False, False, False, False, False, False,\n",
      "                   False, False, False, False, False, False, False, False,\n",
      "                   False, False, False, False, False, False, False, False,\n",
      "                   False, False, False, False, False, False, False, False,\n",
      "                   False, False, False, False, False, False, False, False,\n",
      "                   False, False, False, False, False, False, False, False,\n",
      "                   False, False, False, False, False, False, False, False,\n",
      "                   False, False, False, False, False, False, False, False,\n",
      "                   False, False, False, False, False, False, False, False,\n",
      "                   False, False, False, False, False, False, False, False,\n",
      "                   False, False, False, False, False, False, False, False,\n",
      "                   False, False, False, False, False, False, False, False,\n",
      "                   False, False, False, False, False, False, False, False,\n",
      "                   False, False, False, False, False, False, False, False,\n",
      "                   False, False, False, False, False, False, False, False,\n",
      "                   False, False, False, False, False, False, False, False,\n",
      "                   False, False, False, False, False, False, False, False,\n",
      "                   False, False, False, False, False, False, False, False,\n",
      "                   False, False, False, False, False, False, False, False,\n",
      "                   False, False, False, False, False, False, False, False,\n",
      "                   False, False, False, False, False, False],\n",
      "       fill_value='?',\n",
      "            dtype=object), 'param_penalty': masked_array(data=['l1', 'l1', 'l1', 'l2', 'l2', 'l2', 'elasticnet',\n",
      "                   'elasticnet', 'elasticnet', 'l1', 'l1', 'l1', 'l2',\n",
      "                   'l2', 'l2', 'elasticnet', 'elasticnet', 'elasticnet',\n",
      "                   'l1', 'l1', 'l1', 'l2', 'l2', 'l2', 'elasticnet',\n",
      "                   'elasticnet', 'elasticnet', 'l1', 'l1', 'l1', 'l2',\n",
      "                   'l2', 'l2', 'elasticnet', 'elasticnet', 'elasticnet',\n",
      "                   'l1', 'l1', 'l1', 'l2', 'l2', 'l2', 'elasticnet',\n",
      "                   'elasticnet', 'elasticnet', 'l1', 'l1', 'l1', 'l2',\n",
      "                   'l2', 'l2', 'elasticnet', 'elasticnet', 'elasticnet',\n",
      "                   'l1', 'l1', 'l1', 'l2', 'l2', 'l2', 'elasticnet',\n",
      "                   'elasticnet', 'elasticnet', 'l1', 'l1', 'l1', 'l2',\n",
      "                   'l2', 'l2', 'elasticnet', 'elasticnet', 'elasticnet',\n",
      "                   'l1', 'l1', 'l1', 'l2', 'l2', 'l2', 'elasticnet',\n",
      "                   'elasticnet', 'elasticnet', 'l1', 'l1', 'l1', 'l2',\n",
      "                   'l2', 'l2', 'elasticnet', 'elasticnet', 'elasticnet',\n",
      "                   'l1', 'l1', 'l1', 'l2', 'l2', 'l2', 'elasticnet',\n",
      "                   'elasticnet', 'elasticnet', 'l1', 'l1', 'l1', 'l2',\n",
      "                   'l2', 'l2', 'elasticnet', 'elasticnet', 'elasticnet',\n",
      "                   'l1', 'l1', 'l1', 'l2', 'l2', 'l2', 'elasticnet',\n",
      "                   'elasticnet', 'elasticnet', 'l1', 'l1', 'l1', 'l2',\n",
      "                   'l2', 'l2', 'elasticnet', 'elasticnet', 'elasticnet',\n",
      "                   'l1', 'l1', 'l1', 'l2', 'l2', 'l2', 'elasticnet',\n",
      "                   'elasticnet', 'elasticnet', 'l1', 'l1', 'l1', 'l2',\n",
      "                   'l2', 'l2', 'elasticnet', 'elasticnet', 'elasticnet',\n",
      "                   'l1', 'l1', 'l1', 'l2', 'l2', 'l2', 'elasticnet',\n",
      "                   'elasticnet', 'elasticnet', 'l1', 'l1', 'l1', 'l2',\n",
      "                   'l2', 'l2', 'elasticnet', 'elasticnet', 'elasticnet',\n",
      "                   'l1', 'l1', 'l1', 'l2', 'l2', 'l2', 'elasticnet',\n",
      "                   'elasticnet', 'elasticnet', 'l1', 'l1', 'l1', 'l2',\n",
      "                   'l2', 'l2', 'elasticnet', 'elasticnet', 'elasticnet',\n",
      "                   'l1', 'l1', 'l1', 'l2', 'l2', 'l2', 'elasticnet',\n",
      "                   'elasticnet', 'elasticnet', 'l1', 'l1', 'l1', 'l2',\n",
      "                   'l2', 'l2', 'elasticnet', 'elasticnet', 'elasticnet',\n",
      "                   'l1', 'l1', 'l1', 'l2', 'l2', 'l2', 'elasticnet',\n",
      "                   'elasticnet', 'elasticnet', 'l1', 'l1', 'l1', 'l2',\n",
      "                   'l2', 'l2', 'elasticnet', 'elasticnet', 'elasticnet',\n",
      "                   'l1', 'l1', 'l1', 'l2', 'l2', 'l2', 'elasticnet',\n",
      "                   'elasticnet', 'elasticnet', 'l1', 'l1', 'l1', 'l2',\n",
      "                   'l2', 'l2', 'elasticnet', 'elasticnet', 'elasticnet',\n",
      "                   'l1', 'l1', 'l1', 'l2', 'l2', 'l2', 'elasticnet',\n",
      "                   'elasticnet', 'elasticnet', 'l1', 'l1', 'l1', 'l2',\n",
      "                   'l2', 'l2', 'elasticnet', 'elasticnet', 'elasticnet',\n",
      "                   'l1', 'l1', 'l1', 'l2', 'l2', 'l2', 'elasticnet',\n",
      "                   'elasticnet', 'elasticnet', 'l1', 'l1', 'l1', 'l2',\n",
      "                   'l2', 'l2', 'elasticnet', 'elasticnet', 'elasticnet'],\n",
      "             mask=[False, False, False, False, False, False, False, False,\n",
      "                   False, False, False, False, False, False, False, False,\n",
      "                   False, False, False, False, False, False, False, False,\n",
      "                   False, False, False, False, False, False, False, False,\n",
      "                   False, False, False, False, False, False, False, False,\n",
      "                   False, False, False, False, False, False, False, False,\n",
      "                   False, False, False, False, False, False, False, False,\n",
      "                   False, False, False, False, False, False, False, False,\n",
      "                   False, False, False, False, False, False, False, False,\n",
      "                   False, False, False, False, False, False, False, False,\n",
      "                   False, False, False, False, False, False, False, False,\n",
      "                   False, False, False, False, False, False, False, False,\n",
      "                   False, False, False, False, False, False, False, False,\n",
      "                   False, False, False, False, False, False, False, False,\n",
      "                   False, False, False, False, False, False, False, False,\n",
      "                   False, False, False, False, False, False, False, False,\n",
      "                   False, False, False, False, False, False, False, False,\n",
      "                   False, False, False, False, False, False, False, False,\n",
      "                   False, False, False, False, False, False, False, False,\n",
      "                   False, False, False, False, False, False, False, False,\n",
      "                   False, False, False, False, False, False, False, False,\n",
      "                   False, False, False, False, False, False, False, False,\n",
      "                   False, False, False, False, False, False, False, False,\n",
      "                   False, False, False, False, False, False, False, False,\n",
      "                   False, False, False, False, False, False, False, False,\n",
      "                   False, False, False, False, False, False, False, False,\n",
      "                   False, False, False, False, False, False, False, False,\n",
      "                   False, False, False, False, False, False, False, False,\n",
      "                   False, False, False, False, False, False, False, False,\n",
      "                   False, False, False, False, False, False, False, False,\n",
      "                   False, False, False, False, False, False, False, False,\n",
      "                   False, False, False, False, False, False, False, False,\n",
      "                   False, False, False, False, False, False, False, False,\n",
      "                   False, False, False, False, False, False],\n",
      "       fill_value='?',\n",
      "            dtype=object), 'param_solver': masked_array(data=['lbfgs', 'sgd', 'liblinear', 'lbfgs', 'sgd',\n",
      "                   'liblinear', 'lbfgs', 'sgd', 'liblinear', 'lbfgs',\n",
      "                   'sgd', 'liblinear', 'lbfgs', 'sgd', 'liblinear',\n",
      "                   'lbfgs', 'sgd', 'liblinear', 'lbfgs', 'sgd',\n",
      "                   'liblinear', 'lbfgs', 'sgd', 'liblinear', 'lbfgs',\n",
      "                   'sgd', 'liblinear', 'lbfgs', 'sgd', 'liblinear',\n",
      "                   'lbfgs', 'sgd', 'liblinear', 'lbfgs', 'sgd',\n",
      "                   'liblinear', 'lbfgs', 'sgd', 'liblinear', 'lbfgs',\n",
      "                   'sgd', 'liblinear', 'lbfgs', 'sgd', 'liblinear',\n",
      "                   'lbfgs', 'sgd', 'liblinear', 'lbfgs', 'sgd',\n",
      "                   'liblinear', 'lbfgs', 'sgd', 'liblinear', 'lbfgs',\n",
      "                   'sgd', 'liblinear', 'lbfgs', 'sgd', 'liblinear',\n",
      "                   'lbfgs', 'sgd', 'liblinear', 'lbfgs', 'sgd',\n",
      "                   'liblinear', 'lbfgs', 'sgd', 'liblinear', 'lbfgs',\n",
      "                   'sgd', 'liblinear', 'lbfgs', 'sgd', 'liblinear',\n",
      "                   'lbfgs', 'sgd', 'liblinear', 'lbfgs', 'sgd',\n",
      "                   'liblinear', 'lbfgs', 'sgd', 'liblinear', 'lbfgs',\n",
      "                   'sgd', 'liblinear', 'lbfgs', 'sgd', 'liblinear',\n",
      "                   'lbfgs', 'sgd', 'liblinear', 'lbfgs', 'sgd',\n",
      "                   'liblinear', 'lbfgs', 'sgd', 'liblinear', 'lbfgs',\n",
      "                   'sgd', 'liblinear', 'lbfgs', 'sgd', 'liblinear',\n",
      "                   'lbfgs', 'sgd', 'liblinear', 'lbfgs', 'sgd',\n",
      "                   'liblinear', 'lbfgs', 'sgd', 'liblinear', 'lbfgs',\n",
      "                   'sgd', 'liblinear', 'lbfgs', 'sgd', 'liblinear',\n",
      "                   'lbfgs', 'sgd', 'liblinear', 'lbfgs', 'sgd',\n",
      "                   'liblinear', 'lbfgs', 'sgd', 'liblinear', 'lbfgs',\n",
      "                   'sgd', 'liblinear', 'lbfgs', 'sgd', 'liblinear',\n",
      "                   'lbfgs', 'sgd', 'liblinear', 'lbfgs', 'sgd',\n",
      "                   'liblinear', 'lbfgs', 'sgd', 'liblinear', 'lbfgs',\n",
      "                   'sgd', 'liblinear', 'lbfgs', 'sgd', 'liblinear',\n",
      "                   'lbfgs', 'sgd', 'liblinear', 'lbfgs', 'sgd',\n",
      "                   'liblinear', 'lbfgs', 'sgd', 'liblinear', 'lbfgs',\n",
      "                   'sgd', 'liblinear', 'lbfgs', 'sgd', 'liblinear',\n",
      "                   'lbfgs', 'sgd', 'liblinear', 'lbfgs', 'sgd',\n",
      "                   'liblinear', 'lbfgs', 'sgd', 'liblinear', 'lbfgs',\n",
      "                   'sgd', 'liblinear', 'lbfgs', 'sgd', 'liblinear',\n",
      "                   'lbfgs', 'sgd', 'liblinear', 'lbfgs', 'sgd',\n",
      "                   'liblinear', 'lbfgs', 'sgd', 'liblinear', 'lbfgs',\n",
      "                   'sgd', 'liblinear', 'lbfgs', 'sgd', 'liblinear',\n",
      "                   'lbfgs', 'sgd', 'liblinear', 'lbfgs', 'sgd',\n",
      "                   'liblinear', 'lbfgs', 'sgd', 'liblinear', 'lbfgs',\n",
      "                   'sgd', 'liblinear', 'lbfgs', 'sgd', 'liblinear',\n",
      "                   'lbfgs', 'sgd', 'liblinear', 'lbfgs', 'sgd',\n",
      "                   'liblinear', 'lbfgs', 'sgd', 'liblinear', 'lbfgs',\n",
      "                   'sgd', 'liblinear', 'lbfgs', 'sgd', 'liblinear',\n",
      "                   'lbfgs', 'sgd', 'liblinear', 'lbfgs', 'sgd',\n",
      "                   'liblinear', 'lbfgs', 'sgd', 'liblinear', 'lbfgs',\n",
      "                   'sgd', 'liblinear', 'lbfgs', 'sgd', 'liblinear',\n",
      "                   'lbfgs', 'sgd', 'liblinear', 'lbfgs', 'sgd',\n",
      "                   'liblinear', 'lbfgs', 'sgd', 'liblinear', 'lbfgs',\n",
      "                   'sgd', 'liblinear', 'lbfgs', 'sgd', 'liblinear',\n",
      "                   'lbfgs', 'sgd', 'liblinear', 'lbfgs', 'sgd',\n",
      "                   'liblinear', 'lbfgs', 'sgd', 'liblinear', 'lbfgs',\n",
      "                   'sgd', 'liblinear', 'lbfgs', 'sgd', 'liblinear'],\n",
      "             mask=[False, False, False, False, False, False, False, False,\n",
      "                   False, False, False, False, False, False, False, False,\n",
      "                   False, False, False, False, False, False, False, False,\n",
      "                   False, False, False, False, False, False, False, False,\n",
      "                   False, False, False, False, False, False, False, False,\n",
      "                   False, False, False, False, False, False, False, False,\n",
      "                   False, False, False, False, False, False, False, False,\n",
      "                   False, False, False, False, False, False, False, False,\n",
      "                   False, False, False, False, False, False, False, False,\n",
      "                   False, False, False, False, False, False, False, False,\n",
      "                   False, False, False, False, False, False, False, False,\n",
      "                   False, False, False, False, False, False, False, False,\n",
      "                   False, False, False, False, False, False, False, False,\n",
      "                   False, False, False, False, False, False, False, False,\n",
      "                   False, False, False, False, False, False, False, False,\n",
      "                   False, False, False, False, False, False, False, False,\n",
      "                   False, False, False, False, False, False, False, False,\n",
      "                   False, False, False, False, False, False, False, False,\n",
      "                   False, False, False, False, False, False, False, False,\n",
      "                   False, False, False, False, False, False, False, False,\n",
      "                   False, False, False, False, False, False, False, False,\n",
      "                   False, False, False, False, False, False, False, False,\n",
      "                   False, False, False, False, False, False, False, False,\n",
      "                   False, False, False, False, False, False, False, False,\n",
      "                   False, False, False, False, False, False, False, False,\n",
      "                   False, False, False, False, False, False, False, False,\n",
      "                   False, False, False, False, False, False, False, False,\n",
      "                   False, False, False, False, False, False, False, False,\n",
      "                   False, False, False, False, False, False, False, False,\n",
      "                   False, False, False, False, False, False, False, False,\n",
      "                   False, False, False, False, False, False, False, False,\n",
      "                   False, False, False, False, False, False, False, False,\n",
      "                   False, False, False, False, False, False, False, False,\n",
      "                   False, False, False, False, False, False],\n",
      "       fill_value='?',\n",
      "            dtype=object), 'params': [{'C': 0.001, 'class_weight': 'balanced', 'max_iter': 100, 'penalty': 'l1', 'solver': 'lbfgs'}, {'C': 0.001, 'class_weight': 'balanced', 'max_iter': 100, 'penalty': 'l1', 'solver': 'sgd'}, {'C': 0.001, 'class_weight': 'balanced', 'max_iter': 100, 'penalty': 'l1', 'solver': 'liblinear'}, {'C': 0.001, 'class_weight': 'balanced', 'max_iter': 100, 'penalty': 'l2', 'solver': 'lbfgs'}, {'C': 0.001, 'class_weight': 'balanced', 'max_iter': 100, 'penalty': 'l2', 'solver': 'sgd'}, {'C': 0.001, 'class_weight': 'balanced', 'max_iter': 100, 'penalty': 'l2', 'solver': 'liblinear'}, {'C': 0.001, 'class_weight': 'balanced', 'max_iter': 100, 'penalty': 'elasticnet', 'solver': 'lbfgs'}, {'C': 0.001, 'class_weight': 'balanced', 'max_iter': 100, 'penalty': 'elasticnet', 'solver': 'sgd'}, {'C': 0.001, 'class_weight': 'balanced', 'max_iter': 100, 'penalty': 'elasticnet', 'solver': 'liblinear'}, {'C': 0.001, 'class_weight': 'balanced', 'max_iter': 200, 'penalty': 'l1', 'solver': 'lbfgs'}, {'C': 0.001, 'class_weight': 'balanced', 'max_iter': 200, 'penalty': 'l1', 'solver': 'sgd'}, {'C': 0.001, 'class_weight': 'balanced', 'max_iter': 200, 'penalty': 'l1', 'solver': 'liblinear'}, {'C': 0.001, 'class_weight': 'balanced', 'max_iter': 200, 'penalty': 'l2', 'solver': 'lbfgs'}, {'C': 0.001, 'class_weight': 'balanced', 'max_iter': 200, 'penalty': 'l2', 'solver': 'sgd'}, {'C': 0.001, 'class_weight': 'balanced', 'max_iter': 200, 'penalty': 'l2', 'solver': 'liblinear'}, {'C': 0.001, 'class_weight': 'balanced', 'max_iter': 200, 'penalty': 'elasticnet', 'solver': 'lbfgs'}, {'C': 0.001, 'class_weight': 'balanced', 'max_iter': 200, 'penalty': 'elasticnet', 'solver': 'sgd'}, {'C': 0.001, 'class_weight': 'balanced', 'max_iter': 200, 'penalty': 'elasticnet', 'solver': 'liblinear'}, {'C': 0.001, 'class_weight': 'balanced', 'max_iter': 500, 'penalty': 'l1', 'solver': 'lbfgs'}, {'C': 0.001, 'class_weight': 'balanced', 'max_iter': 500, 'penalty': 'l1', 'solver': 'sgd'}, {'C': 0.001, 'class_weight': 'balanced', 'max_iter': 500, 'penalty': 'l1', 'solver': 'liblinear'}, {'C': 0.001, 'class_weight': 'balanced', 'max_iter': 500, 'penalty': 'l2', 'solver': 'lbfgs'}, {'C': 0.001, 'class_weight': 'balanced', 'max_iter': 500, 'penalty': 'l2', 'solver': 'sgd'}, {'C': 0.001, 'class_weight': 'balanced', 'max_iter': 500, 'penalty': 'l2', 'solver': 'liblinear'}, {'C': 0.001, 'class_weight': 'balanced', 'max_iter': 500, 'penalty': 'elasticnet', 'solver': 'lbfgs'}, {'C': 0.001, 'class_weight': 'balanced', 'max_iter': 500, 'penalty': 'elasticnet', 'solver': 'sgd'}, {'C': 0.001, 'class_weight': 'balanced', 'max_iter': 500, 'penalty': 'elasticnet', 'solver': 'liblinear'}, {'C': 0.001, 'class_weight': None, 'max_iter': 100, 'penalty': 'l1', 'solver': 'lbfgs'}, {'C': 0.001, 'class_weight': None, 'max_iter': 100, 'penalty': 'l1', 'solver': 'sgd'}, {'C': 0.001, 'class_weight': None, 'max_iter': 100, 'penalty': 'l1', 'solver': 'liblinear'}, {'C': 0.001, 'class_weight': None, 'max_iter': 100, 'penalty': 'l2', 'solver': 'lbfgs'}, {'C': 0.001, 'class_weight': None, 'max_iter': 100, 'penalty': 'l2', 'solver': 'sgd'}, {'C': 0.001, 'class_weight': None, 'max_iter': 100, 'penalty': 'l2', 'solver': 'liblinear'}, {'C': 0.001, 'class_weight': None, 'max_iter': 100, 'penalty': 'elasticnet', 'solver': 'lbfgs'}, {'C': 0.001, 'class_weight': None, 'max_iter': 100, 'penalty': 'elasticnet', 'solver': 'sgd'}, {'C': 0.001, 'class_weight': None, 'max_iter': 100, 'penalty': 'elasticnet', 'solver': 'liblinear'}, {'C': 0.001, 'class_weight': None, 'max_iter': 200, 'penalty': 'l1', 'solver': 'lbfgs'}, {'C': 0.001, 'class_weight': None, 'max_iter': 200, 'penalty': 'l1', 'solver': 'sgd'}, {'C': 0.001, 'class_weight': None, 'max_iter': 200, 'penalty': 'l1', 'solver': 'liblinear'}, {'C': 0.001, 'class_weight': None, 'max_iter': 200, 'penalty': 'l2', 'solver': 'lbfgs'}, {'C': 0.001, 'class_weight': None, 'max_iter': 200, 'penalty': 'l2', 'solver': 'sgd'}, {'C': 0.001, 'class_weight': None, 'max_iter': 200, 'penalty': 'l2', 'solver': 'liblinear'}, {'C': 0.001, 'class_weight': None, 'max_iter': 200, 'penalty': 'elasticnet', 'solver': 'lbfgs'}, {'C': 0.001, 'class_weight': None, 'max_iter': 200, 'penalty': 'elasticnet', 'solver': 'sgd'}, {'C': 0.001, 'class_weight': None, 'max_iter': 200, 'penalty': 'elasticnet', 'solver': 'liblinear'}, {'C': 0.001, 'class_weight': None, 'max_iter': 500, 'penalty': 'l1', 'solver': 'lbfgs'}, {'C': 0.001, 'class_weight': None, 'max_iter': 500, 'penalty': 'l1', 'solver': 'sgd'}, {'C': 0.001, 'class_weight': None, 'max_iter': 500, 'penalty': 'l1', 'solver': 'liblinear'}, {'C': 0.001, 'class_weight': None, 'max_iter': 500, 'penalty': 'l2', 'solver': 'lbfgs'}, {'C': 0.001, 'class_weight': None, 'max_iter': 500, 'penalty': 'l2', 'solver': 'sgd'}, {'C': 0.001, 'class_weight': None, 'max_iter': 500, 'penalty': 'l2', 'solver': 'liblinear'}, {'C': 0.001, 'class_weight': None, 'max_iter': 500, 'penalty': 'elasticnet', 'solver': 'lbfgs'}, {'C': 0.001, 'class_weight': None, 'max_iter': 500, 'penalty': 'elasticnet', 'solver': 'sgd'}, {'C': 0.001, 'class_weight': None, 'max_iter': 500, 'penalty': 'elasticnet', 'solver': 'liblinear'}, {'C': 0.01, 'class_weight': 'balanced', 'max_iter': 100, 'penalty': 'l1', 'solver': 'lbfgs'}, {'C': 0.01, 'class_weight': 'balanced', 'max_iter': 100, 'penalty': 'l1', 'solver': 'sgd'}, {'C': 0.01, 'class_weight': 'balanced', 'max_iter': 100, 'penalty': 'l1', 'solver': 'liblinear'}, {'C': 0.01, 'class_weight': 'balanced', 'max_iter': 100, 'penalty': 'l2', 'solver': 'lbfgs'}, {'C': 0.01, 'class_weight': 'balanced', 'max_iter': 100, 'penalty': 'l2', 'solver': 'sgd'}, {'C': 0.01, 'class_weight': 'balanced', 'max_iter': 100, 'penalty': 'l2', 'solver': 'liblinear'}, {'C': 0.01, 'class_weight': 'balanced', 'max_iter': 100, 'penalty': 'elasticnet', 'solver': 'lbfgs'}, {'C': 0.01, 'class_weight': 'balanced', 'max_iter': 100, 'penalty': 'elasticnet', 'solver': 'sgd'}, {'C': 0.01, 'class_weight': 'balanced', 'max_iter': 100, 'penalty': 'elasticnet', 'solver': 'liblinear'}, {'C': 0.01, 'class_weight': 'balanced', 'max_iter': 200, 'penalty': 'l1', 'solver': 'lbfgs'}, {'C': 0.01, 'class_weight': 'balanced', 'max_iter': 200, 'penalty': 'l1', 'solver': 'sgd'}, {'C': 0.01, 'class_weight': 'balanced', 'max_iter': 200, 'penalty': 'l1', 'solver': 'liblinear'}, {'C': 0.01, 'class_weight': 'balanced', 'max_iter': 200, 'penalty': 'l2', 'solver': 'lbfgs'}, {'C': 0.01, 'class_weight': 'balanced', 'max_iter': 200, 'penalty': 'l2', 'solver': 'sgd'}, {'C': 0.01, 'class_weight': 'balanced', 'max_iter': 200, 'penalty': 'l2', 'solver': 'liblinear'}, {'C': 0.01, 'class_weight': 'balanced', 'max_iter': 200, 'penalty': 'elasticnet', 'solver': 'lbfgs'}, {'C': 0.01, 'class_weight': 'balanced', 'max_iter': 200, 'penalty': 'elasticnet', 'solver': 'sgd'}, {'C': 0.01, 'class_weight': 'balanced', 'max_iter': 200, 'penalty': 'elasticnet', 'solver': 'liblinear'}, {'C': 0.01, 'class_weight': 'balanced', 'max_iter': 500, 'penalty': 'l1', 'solver': 'lbfgs'}, {'C': 0.01, 'class_weight': 'balanced', 'max_iter': 500, 'penalty': 'l1', 'solver': 'sgd'}, {'C': 0.01, 'class_weight': 'balanced', 'max_iter': 500, 'penalty': 'l1', 'solver': 'liblinear'}, {'C': 0.01, 'class_weight': 'balanced', 'max_iter': 500, 'penalty': 'l2', 'solver': 'lbfgs'}, {'C': 0.01, 'class_weight': 'balanced', 'max_iter': 500, 'penalty': 'l2', 'solver': 'sgd'}, {'C': 0.01, 'class_weight': 'balanced', 'max_iter': 500, 'penalty': 'l2', 'solver': 'liblinear'}, {'C': 0.01, 'class_weight': 'balanced', 'max_iter': 500, 'penalty': 'elasticnet', 'solver': 'lbfgs'}, {'C': 0.01, 'class_weight': 'balanced', 'max_iter': 500, 'penalty': 'elasticnet', 'solver': 'sgd'}, {'C': 0.01, 'class_weight': 'balanced', 'max_iter': 500, 'penalty': 'elasticnet', 'solver': 'liblinear'}, {'C': 0.01, 'class_weight': None, 'max_iter': 100, 'penalty': 'l1', 'solver': 'lbfgs'}, {'C': 0.01, 'class_weight': None, 'max_iter': 100, 'penalty': 'l1', 'solver': 'sgd'}, {'C': 0.01, 'class_weight': None, 'max_iter': 100, 'penalty': 'l1', 'solver': 'liblinear'}, {'C': 0.01, 'class_weight': None, 'max_iter': 100, 'penalty': 'l2', 'solver': 'lbfgs'}, {'C': 0.01, 'class_weight': None, 'max_iter': 100, 'penalty': 'l2', 'solver': 'sgd'}, {'C': 0.01, 'class_weight': None, 'max_iter': 100, 'penalty': 'l2', 'solver': 'liblinear'}, {'C': 0.01, 'class_weight': None, 'max_iter': 100, 'penalty': 'elasticnet', 'solver': 'lbfgs'}, {'C': 0.01, 'class_weight': None, 'max_iter': 100, 'penalty': 'elasticnet', 'solver': 'sgd'}, {'C': 0.01, 'class_weight': None, 'max_iter': 100, 'penalty': 'elasticnet', 'solver': 'liblinear'}, {'C': 0.01, 'class_weight': None, 'max_iter': 200, 'penalty': 'l1', 'solver': 'lbfgs'}, {'C': 0.01, 'class_weight': None, 'max_iter': 200, 'penalty': 'l1', 'solver': 'sgd'}, {'C': 0.01, 'class_weight': None, 'max_iter': 200, 'penalty': 'l1', 'solver': 'liblinear'}, {'C': 0.01, 'class_weight': None, 'max_iter': 200, 'penalty': 'l2', 'solver': 'lbfgs'}, {'C': 0.01, 'class_weight': None, 'max_iter': 200, 'penalty': 'l2', 'solver': 'sgd'}, {'C': 0.01, 'class_weight': None, 'max_iter': 200, 'penalty': 'l2', 'solver': 'liblinear'}, {'C': 0.01, 'class_weight': None, 'max_iter': 200, 'penalty': 'elasticnet', 'solver': 'lbfgs'}, {'C': 0.01, 'class_weight': None, 'max_iter': 200, 'penalty': 'elasticnet', 'solver': 'sgd'}, {'C': 0.01, 'class_weight': None, 'max_iter': 200, 'penalty': 'elasticnet', 'solver': 'liblinear'}, {'C': 0.01, 'class_weight': None, 'max_iter': 500, 'penalty': 'l1', 'solver': 'lbfgs'}, {'C': 0.01, 'class_weight': None, 'max_iter': 500, 'penalty': 'l1', 'solver': 'sgd'}, {'C': 0.01, 'class_weight': None, 'max_iter': 500, 'penalty': 'l1', 'solver': 'liblinear'}, {'C': 0.01, 'class_weight': None, 'max_iter': 500, 'penalty': 'l2', 'solver': 'lbfgs'}, {'C': 0.01, 'class_weight': None, 'max_iter': 500, 'penalty': 'l2', 'solver': 'sgd'}, {'C': 0.01, 'class_weight': None, 'max_iter': 500, 'penalty': 'l2', 'solver': 'liblinear'}, {'C': 0.01, 'class_weight': None, 'max_iter': 500, 'penalty': 'elasticnet', 'solver': 'lbfgs'}, {'C': 0.01, 'class_weight': None, 'max_iter': 500, 'penalty': 'elasticnet', 'solver': 'sgd'}, {'C': 0.01, 'class_weight': None, 'max_iter': 500, 'penalty': 'elasticnet', 'solver': 'liblinear'}, {'C': 0.1, 'class_weight': 'balanced', 'max_iter': 100, 'penalty': 'l1', 'solver': 'lbfgs'}, {'C': 0.1, 'class_weight': 'balanced', 'max_iter': 100, 'penalty': 'l1', 'solver': 'sgd'}, {'C': 0.1, 'class_weight': 'balanced', 'max_iter': 100, 'penalty': 'l1', 'solver': 'liblinear'}, {'C': 0.1, 'class_weight': 'balanced', 'max_iter': 100, 'penalty': 'l2', 'solver': 'lbfgs'}, {'C': 0.1, 'class_weight': 'balanced', 'max_iter': 100, 'penalty': 'l2', 'solver': 'sgd'}, {'C': 0.1, 'class_weight': 'balanced', 'max_iter': 100, 'penalty': 'l2', 'solver': 'liblinear'}, {'C': 0.1, 'class_weight': 'balanced', 'max_iter': 100, 'penalty': 'elasticnet', 'solver': 'lbfgs'}, {'C': 0.1, 'class_weight': 'balanced', 'max_iter': 100, 'penalty': 'elasticnet', 'solver': 'sgd'}, {'C': 0.1, 'class_weight': 'balanced', 'max_iter': 100, 'penalty': 'elasticnet', 'solver': 'liblinear'}, {'C': 0.1, 'class_weight': 'balanced', 'max_iter': 200, 'penalty': 'l1', 'solver': 'lbfgs'}, {'C': 0.1, 'class_weight': 'balanced', 'max_iter': 200, 'penalty': 'l1', 'solver': 'sgd'}, {'C': 0.1, 'class_weight': 'balanced', 'max_iter': 200, 'penalty': 'l1', 'solver': 'liblinear'}, {'C': 0.1, 'class_weight': 'balanced', 'max_iter': 200, 'penalty': 'l2', 'solver': 'lbfgs'}, {'C': 0.1, 'class_weight': 'balanced', 'max_iter': 200, 'penalty': 'l2', 'solver': 'sgd'}, {'C': 0.1, 'class_weight': 'balanced', 'max_iter': 200, 'penalty': 'l2', 'solver': 'liblinear'}, {'C': 0.1, 'class_weight': 'balanced', 'max_iter': 200, 'penalty': 'elasticnet', 'solver': 'lbfgs'}, {'C': 0.1, 'class_weight': 'balanced', 'max_iter': 200, 'penalty': 'elasticnet', 'solver': 'sgd'}, {'C': 0.1, 'class_weight': 'balanced', 'max_iter': 200, 'penalty': 'elasticnet', 'solver': 'liblinear'}, {'C': 0.1, 'class_weight': 'balanced', 'max_iter': 500, 'penalty': 'l1', 'solver': 'lbfgs'}, {'C': 0.1, 'class_weight': 'balanced', 'max_iter': 500, 'penalty': 'l1', 'solver': 'sgd'}, {'C': 0.1, 'class_weight': 'balanced', 'max_iter': 500, 'penalty': 'l1', 'solver': 'liblinear'}, {'C': 0.1, 'class_weight': 'balanced', 'max_iter': 500, 'penalty': 'l2', 'solver': 'lbfgs'}, {'C': 0.1, 'class_weight': 'balanced', 'max_iter': 500, 'penalty': 'l2', 'solver': 'sgd'}, {'C': 0.1, 'class_weight': 'balanced', 'max_iter': 500, 'penalty': 'l2', 'solver': 'liblinear'}, {'C': 0.1, 'class_weight': 'balanced', 'max_iter': 500, 'penalty': 'elasticnet', 'solver': 'lbfgs'}, {'C': 0.1, 'class_weight': 'balanced', 'max_iter': 500, 'penalty': 'elasticnet', 'solver': 'sgd'}, {'C': 0.1, 'class_weight': 'balanced', 'max_iter': 500, 'penalty': 'elasticnet', 'solver': 'liblinear'}, {'C': 0.1, 'class_weight': None, 'max_iter': 100, 'penalty': 'l1', 'solver': 'lbfgs'}, {'C': 0.1, 'class_weight': None, 'max_iter': 100, 'penalty': 'l1', 'solver': 'sgd'}, {'C': 0.1, 'class_weight': None, 'max_iter': 100, 'penalty': 'l1', 'solver': 'liblinear'}, {'C': 0.1, 'class_weight': None, 'max_iter': 100, 'penalty': 'l2', 'solver': 'lbfgs'}, {'C': 0.1, 'class_weight': None, 'max_iter': 100, 'penalty': 'l2', 'solver': 'sgd'}, {'C': 0.1, 'class_weight': None, 'max_iter': 100, 'penalty': 'l2', 'solver': 'liblinear'}, {'C': 0.1, 'class_weight': None, 'max_iter': 100, 'penalty': 'elasticnet', 'solver': 'lbfgs'}, {'C': 0.1, 'class_weight': None, 'max_iter': 100, 'penalty': 'elasticnet', 'solver': 'sgd'}, {'C': 0.1, 'class_weight': None, 'max_iter': 100, 'penalty': 'elasticnet', 'solver': 'liblinear'}, {'C': 0.1, 'class_weight': None, 'max_iter': 200, 'penalty': 'l1', 'solver': 'lbfgs'}, {'C': 0.1, 'class_weight': None, 'max_iter': 200, 'penalty': 'l1', 'solver': 'sgd'}, {'C': 0.1, 'class_weight': None, 'max_iter': 200, 'penalty': 'l1', 'solver': 'liblinear'}, {'C': 0.1, 'class_weight': None, 'max_iter': 200, 'penalty': 'l2', 'solver': 'lbfgs'}, {'C': 0.1, 'class_weight': None, 'max_iter': 200, 'penalty': 'l2', 'solver': 'sgd'}, {'C': 0.1, 'class_weight': None, 'max_iter': 200, 'penalty': 'l2', 'solver': 'liblinear'}, {'C': 0.1, 'class_weight': None, 'max_iter': 200, 'penalty': 'elasticnet', 'solver': 'lbfgs'}, {'C': 0.1, 'class_weight': None, 'max_iter': 200, 'penalty': 'elasticnet', 'solver': 'sgd'}, {'C': 0.1, 'class_weight': None, 'max_iter': 200, 'penalty': 'elasticnet', 'solver': 'liblinear'}, {'C': 0.1, 'class_weight': None, 'max_iter': 500, 'penalty': 'l1', 'solver': 'lbfgs'}, {'C': 0.1, 'class_weight': None, 'max_iter': 500, 'penalty': 'l1', 'solver': 'sgd'}, {'C': 0.1, 'class_weight': None, 'max_iter': 500, 'penalty': 'l1', 'solver': 'liblinear'}, {'C': 0.1, 'class_weight': None, 'max_iter': 500, 'penalty': 'l2', 'solver': 'lbfgs'}, {'C': 0.1, 'class_weight': None, 'max_iter': 500, 'penalty': 'l2', 'solver': 'sgd'}, {'C': 0.1, 'class_weight': None, 'max_iter': 500, 'penalty': 'l2', 'solver': 'liblinear'}, {'C': 0.1, 'class_weight': None, 'max_iter': 500, 'penalty': 'elasticnet', 'solver': 'lbfgs'}, {'C': 0.1, 'class_weight': None, 'max_iter': 500, 'penalty': 'elasticnet', 'solver': 'sgd'}, {'C': 0.1, 'class_weight': None, 'max_iter': 500, 'penalty': 'elasticnet', 'solver': 'liblinear'}, {'C': 1, 'class_weight': 'balanced', 'max_iter': 100, 'penalty': 'l1', 'solver': 'lbfgs'}, {'C': 1, 'class_weight': 'balanced', 'max_iter': 100, 'penalty': 'l1', 'solver': 'sgd'}, {'C': 1, 'class_weight': 'balanced', 'max_iter': 100, 'penalty': 'l1', 'solver': 'liblinear'}, {'C': 1, 'class_weight': 'balanced', 'max_iter': 100, 'penalty': 'l2', 'solver': 'lbfgs'}, {'C': 1, 'class_weight': 'balanced', 'max_iter': 100, 'penalty': 'l2', 'solver': 'sgd'}, {'C': 1, 'class_weight': 'balanced', 'max_iter': 100, 'penalty': 'l2', 'solver': 'liblinear'}, {'C': 1, 'class_weight': 'balanced', 'max_iter': 100, 'penalty': 'elasticnet', 'solver': 'lbfgs'}, {'C': 1, 'class_weight': 'balanced', 'max_iter': 100, 'penalty': 'elasticnet', 'solver': 'sgd'}, {'C': 1, 'class_weight': 'balanced', 'max_iter': 100, 'penalty': 'elasticnet', 'solver': 'liblinear'}, {'C': 1, 'class_weight': 'balanced', 'max_iter': 200, 'penalty': 'l1', 'solver': 'lbfgs'}, {'C': 1, 'class_weight': 'balanced', 'max_iter': 200, 'penalty': 'l1', 'solver': 'sgd'}, {'C': 1, 'class_weight': 'balanced', 'max_iter': 200, 'penalty': 'l1', 'solver': 'liblinear'}, {'C': 1, 'class_weight': 'balanced', 'max_iter': 200, 'penalty': 'l2', 'solver': 'lbfgs'}, {'C': 1, 'class_weight': 'balanced', 'max_iter': 200, 'penalty': 'l2', 'solver': 'sgd'}, {'C': 1, 'class_weight': 'balanced', 'max_iter': 200, 'penalty': 'l2', 'solver': 'liblinear'}, {'C': 1, 'class_weight': 'balanced', 'max_iter': 200, 'penalty': 'elasticnet', 'solver': 'lbfgs'}, {'C': 1, 'class_weight': 'balanced', 'max_iter': 200, 'penalty': 'elasticnet', 'solver': 'sgd'}, {'C': 1, 'class_weight': 'balanced', 'max_iter': 200, 'penalty': 'elasticnet', 'solver': 'liblinear'}, {'C': 1, 'class_weight': 'balanced', 'max_iter': 500, 'penalty': 'l1', 'solver': 'lbfgs'}, {'C': 1, 'class_weight': 'balanced', 'max_iter': 500, 'penalty': 'l1', 'solver': 'sgd'}, {'C': 1, 'class_weight': 'balanced', 'max_iter': 500, 'penalty': 'l1', 'solver': 'liblinear'}, {'C': 1, 'class_weight': 'balanced', 'max_iter': 500, 'penalty': 'l2', 'solver': 'lbfgs'}, {'C': 1, 'class_weight': 'balanced', 'max_iter': 500, 'penalty': 'l2', 'solver': 'sgd'}, {'C': 1, 'class_weight': 'balanced', 'max_iter': 500, 'penalty': 'l2', 'solver': 'liblinear'}, {'C': 1, 'class_weight': 'balanced', 'max_iter': 500, 'penalty': 'elasticnet', 'solver': 'lbfgs'}, {'C': 1, 'class_weight': 'balanced', 'max_iter': 500, 'penalty': 'elasticnet', 'solver': 'sgd'}, {'C': 1, 'class_weight': 'balanced', 'max_iter': 500, 'penalty': 'elasticnet', 'solver': 'liblinear'}, {'C': 1, 'class_weight': None, 'max_iter': 100, 'penalty': 'l1', 'solver': 'lbfgs'}, {'C': 1, 'class_weight': None, 'max_iter': 100, 'penalty': 'l1', 'solver': 'sgd'}, {'C': 1, 'class_weight': None, 'max_iter': 100, 'penalty': 'l1', 'solver': 'liblinear'}, {'C': 1, 'class_weight': None, 'max_iter': 100, 'penalty': 'l2', 'solver': 'lbfgs'}, {'C': 1, 'class_weight': None, 'max_iter': 100, 'penalty': 'l2', 'solver': 'sgd'}, {'C': 1, 'class_weight': None, 'max_iter': 100, 'penalty': 'l2', 'solver': 'liblinear'}, {'C': 1, 'class_weight': None, 'max_iter': 100, 'penalty': 'elasticnet', 'solver': 'lbfgs'}, {'C': 1, 'class_weight': None, 'max_iter': 100, 'penalty': 'elasticnet', 'solver': 'sgd'}, {'C': 1, 'class_weight': None, 'max_iter': 100, 'penalty': 'elasticnet', 'solver': 'liblinear'}, {'C': 1, 'class_weight': None, 'max_iter': 200, 'penalty': 'l1', 'solver': 'lbfgs'}, {'C': 1, 'class_weight': None, 'max_iter': 200, 'penalty': 'l1', 'solver': 'sgd'}, {'C': 1, 'class_weight': None, 'max_iter': 200, 'penalty': 'l1', 'solver': 'liblinear'}, {'C': 1, 'class_weight': None, 'max_iter': 200, 'penalty': 'l2', 'solver': 'lbfgs'}, {'C': 1, 'class_weight': None, 'max_iter': 200, 'penalty': 'l2', 'solver': 'sgd'}, {'C': 1, 'class_weight': None, 'max_iter': 200, 'penalty': 'l2', 'solver': 'liblinear'}, {'C': 1, 'class_weight': None, 'max_iter': 200, 'penalty': 'elasticnet', 'solver': 'lbfgs'}, {'C': 1, 'class_weight': None, 'max_iter': 200, 'penalty': 'elasticnet', 'solver': 'sgd'}, {'C': 1, 'class_weight': None, 'max_iter': 200, 'penalty': 'elasticnet', 'solver': 'liblinear'}, {'C': 1, 'class_weight': None, 'max_iter': 500, 'penalty': 'l1', 'solver': 'lbfgs'}, {'C': 1, 'class_weight': None, 'max_iter': 500, 'penalty': 'l1', 'solver': 'sgd'}, {'C': 1, 'class_weight': None, 'max_iter': 500, 'penalty': 'l1', 'solver': 'liblinear'}, {'C': 1, 'class_weight': None, 'max_iter': 500, 'penalty': 'l2', 'solver': 'lbfgs'}, {'C': 1, 'class_weight': None, 'max_iter': 500, 'penalty': 'l2', 'solver': 'sgd'}, {'C': 1, 'class_weight': None, 'max_iter': 500, 'penalty': 'l2', 'solver': 'liblinear'}, {'C': 1, 'class_weight': None, 'max_iter': 500, 'penalty': 'elasticnet', 'solver': 'lbfgs'}, {'C': 1, 'class_weight': None, 'max_iter': 500, 'penalty': 'elasticnet', 'solver': 'sgd'}, {'C': 1, 'class_weight': None, 'max_iter': 500, 'penalty': 'elasticnet', 'solver': 'liblinear'}, {'C': 10, 'class_weight': 'balanced', 'max_iter': 100, 'penalty': 'l1', 'solver': 'lbfgs'}, {'C': 10, 'class_weight': 'balanced', 'max_iter': 100, 'penalty': 'l1', 'solver': 'sgd'}, {'C': 10, 'class_weight': 'balanced', 'max_iter': 100, 'penalty': 'l1', 'solver': 'liblinear'}, {'C': 10, 'class_weight': 'balanced', 'max_iter': 100, 'penalty': 'l2', 'solver': 'lbfgs'}, {'C': 10, 'class_weight': 'balanced', 'max_iter': 100, 'penalty': 'l2', 'solver': 'sgd'}, {'C': 10, 'class_weight': 'balanced', 'max_iter': 100, 'penalty': 'l2', 'solver': 'liblinear'}, {'C': 10, 'class_weight': 'balanced', 'max_iter': 100, 'penalty': 'elasticnet', 'solver': 'lbfgs'}, {'C': 10, 'class_weight': 'balanced', 'max_iter': 100, 'penalty': 'elasticnet', 'solver': 'sgd'}, {'C': 10, 'class_weight': 'balanced', 'max_iter': 100, 'penalty': 'elasticnet', 'solver': 'liblinear'}, {'C': 10, 'class_weight': 'balanced', 'max_iter': 200, 'penalty': 'l1', 'solver': 'lbfgs'}, {'C': 10, 'class_weight': 'balanced', 'max_iter': 200, 'penalty': 'l1', 'solver': 'sgd'}, {'C': 10, 'class_weight': 'balanced', 'max_iter': 200, 'penalty': 'l1', 'solver': 'liblinear'}, {'C': 10, 'class_weight': 'balanced', 'max_iter': 200, 'penalty': 'l2', 'solver': 'lbfgs'}, {'C': 10, 'class_weight': 'balanced', 'max_iter': 200, 'penalty': 'l2', 'solver': 'sgd'}, {'C': 10, 'class_weight': 'balanced', 'max_iter': 200, 'penalty': 'l2', 'solver': 'liblinear'}, {'C': 10, 'class_weight': 'balanced', 'max_iter': 200, 'penalty': 'elasticnet', 'solver': 'lbfgs'}, {'C': 10, 'class_weight': 'balanced', 'max_iter': 200, 'penalty': 'elasticnet', 'solver': 'sgd'}, {'C': 10, 'class_weight': 'balanced', 'max_iter': 200, 'penalty': 'elasticnet', 'solver': 'liblinear'}, {'C': 10, 'class_weight': 'balanced', 'max_iter': 500, 'penalty': 'l1', 'solver': 'lbfgs'}, {'C': 10, 'class_weight': 'balanced', 'max_iter': 500, 'penalty': 'l1', 'solver': 'sgd'}, {'C': 10, 'class_weight': 'balanced', 'max_iter': 500, 'penalty': 'l1', 'solver': 'liblinear'}, {'C': 10, 'class_weight': 'balanced', 'max_iter': 500, 'penalty': 'l2', 'solver': 'lbfgs'}, {'C': 10, 'class_weight': 'balanced', 'max_iter': 500, 'penalty': 'l2', 'solver': 'sgd'}, {'C': 10, 'class_weight': 'balanced', 'max_iter': 500, 'penalty': 'l2', 'solver': 'liblinear'}, {'C': 10, 'class_weight': 'balanced', 'max_iter': 500, 'penalty': 'elasticnet', 'solver': 'lbfgs'}, {'C': 10, 'class_weight': 'balanced', 'max_iter': 500, 'penalty': 'elasticnet', 'solver': 'sgd'}, {'C': 10, 'class_weight': 'balanced', 'max_iter': 500, 'penalty': 'elasticnet', 'solver': 'liblinear'}, {'C': 10, 'class_weight': None, 'max_iter': 100, 'penalty': 'l1', 'solver': 'lbfgs'}, {'C': 10, 'class_weight': None, 'max_iter': 100, 'penalty': 'l1', 'solver': 'sgd'}, {'C': 10, 'class_weight': None, 'max_iter': 100, 'penalty': 'l1', 'solver': 'liblinear'}, {'C': 10, 'class_weight': None, 'max_iter': 100, 'penalty': 'l2', 'solver': 'lbfgs'}, {'C': 10, 'class_weight': None, 'max_iter': 100, 'penalty': 'l2', 'solver': 'sgd'}, {'C': 10, 'class_weight': None, 'max_iter': 100, 'penalty': 'l2', 'solver': 'liblinear'}, {'C': 10, 'class_weight': None, 'max_iter': 100, 'penalty': 'elasticnet', 'solver': 'lbfgs'}, {'C': 10, 'class_weight': None, 'max_iter': 100, 'penalty': 'elasticnet', 'solver': 'sgd'}, {'C': 10, 'class_weight': None, 'max_iter': 100, 'penalty': 'elasticnet', 'solver': 'liblinear'}, {'C': 10, 'class_weight': None, 'max_iter': 200, 'penalty': 'l1', 'solver': 'lbfgs'}, {'C': 10, 'class_weight': None, 'max_iter': 200, 'penalty': 'l1', 'solver': 'sgd'}, {'C': 10, 'class_weight': None, 'max_iter': 200, 'penalty': 'l1', 'solver': 'liblinear'}, {'C': 10, 'class_weight': None, 'max_iter': 200, 'penalty': 'l2', 'solver': 'lbfgs'}, {'C': 10, 'class_weight': None, 'max_iter': 200, 'penalty': 'l2', 'solver': 'sgd'}, {'C': 10, 'class_weight': None, 'max_iter': 200, 'penalty': 'l2', 'solver': 'liblinear'}, {'C': 10, 'class_weight': None, 'max_iter': 200, 'penalty': 'elasticnet', 'solver': 'lbfgs'}, {'C': 10, 'class_weight': None, 'max_iter': 200, 'penalty': 'elasticnet', 'solver': 'sgd'}, {'C': 10, 'class_weight': None, 'max_iter': 200, 'penalty': 'elasticnet', 'solver': 'liblinear'}, {'C': 10, 'class_weight': None, 'max_iter': 500, 'penalty': 'l1', 'solver': 'lbfgs'}, {'C': 10, 'class_weight': None, 'max_iter': 500, 'penalty': 'l1', 'solver': 'sgd'}, {'C': 10, 'class_weight': None, 'max_iter': 500, 'penalty': 'l1', 'solver': 'liblinear'}, {'C': 10, 'class_weight': None, 'max_iter': 500, 'penalty': 'l2', 'solver': 'lbfgs'}, {'C': 10, 'class_weight': None, 'max_iter': 500, 'penalty': 'l2', 'solver': 'sgd'}, {'C': 10, 'class_weight': None, 'max_iter': 500, 'penalty': 'l2', 'solver': 'liblinear'}, {'C': 10, 'class_weight': None, 'max_iter': 500, 'penalty': 'elasticnet', 'solver': 'lbfgs'}, {'C': 10, 'class_weight': None, 'max_iter': 500, 'penalty': 'elasticnet', 'solver': 'sgd'}, {'C': 10, 'class_weight': None, 'max_iter': 500, 'penalty': 'elasticnet', 'solver': 'liblinear'}], 'split0_test_score': array([       nan,        nan, 0.55769231, 0.84615385,        nan,\n",
      "       0.86538462,        nan,        nan,        nan,        nan,\n",
      "              nan, 0.55769231, 0.84615385,        nan, 0.86538462,\n",
      "              nan,        nan,        nan,        nan,        nan,\n",
      "       0.55769231, 0.84615385,        nan, 0.86538462,        nan,\n",
      "              nan,        nan,        nan,        nan, 0.55769231,\n",
      "       0.65384615,        nan, 0.84615385,        nan,        nan,\n",
      "              nan,        nan,        nan, 0.55769231, 0.65384615,\n",
      "              nan, 0.84615385,        nan,        nan,        nan,\n",
      "              nan,        nan, 0.55769231, 0.65384615,        nan,\n",
      "       0.84615385,        nan,        nan,        nan,        nan,\n",
      "              nan, 0.55769231, 0.84615385,        nan, 0.82692308,\n",
      "              nan,        nan,        nan,        nan,        nan,\n",
      "       0.55769231, 0.84615385,        nan, 0.82692308,        nan,\n",
      "              nan,        nan,        nan,        nan, 0.55769231,\n",
      "       0.84615385,        nan, 0.82692308,        nan,        nan,\n",
      "              nan,        nan,        nan, 0.55769231, 0.84615385,\n",
      "              nan, 0.86538462,        nan,        nan,        nan,\n",
      "              nan,        nan, 0.55769231, 0.84615385,        nan,\n",
      "       0.86538462,        nan,        nan,        nan,        nan,\n",
      "              nan, 0.55769231, 0.84615385,        nan, 0.86538462,\n",
      "              nan,        nan,        nan,        nan,        nan,\n",
      "       0.78846154, 0.80769231,        nan, 0.80769231,        nan,\n",
      "              nan,        nan,        nan,        nan, 0.78846154,\n",
      "       0.80769231,        nan, 0.80769231,        nan,        nan,\n",
      "              nan,        nan,        nan, 0.78846154, 0.80769231,\n",
      "              nan, 0.80769231,        nan,        nan,        nan,\n",
      "              nan,        nan, 0.78846154, 0.86538462,        nan,\n",
      "       0.84615385,        nan,        nan,        nan,        nan,\n",
      "              nan, 0.78846154, 0.86538462,        nan, 0.84615385,\n",
      "              nan,        nan,        nan,        nan,        nan,\n",
      "       0.78846154, 0.86538462,        nan, 0.84615385,        nan,\n",
      "              nan,        nan,        nan,        nan, 0.78846154,\n",
      "       0.78846154,        nan, 0.78846154,        nan,        nan,\n",
      "              nan,        nan,        nan, 0.78846154, 0.78846154,\n",
      "              nan, 0.78846154,        nan,        nan,        nan,\n",
      "              nan,        nan, 0.78846154, 0.78846154,        nan,\n",
      "       0.78846154,        nan,        nan,        nan,        nan,\n",
      "              nan, 0.78846154, 0.82692308,        nan, 0.80769231,\n",
      "              nan,        nan,        nan,        nan,        nan,\n",
      "       0.78846154, 0.82692308,        nan, 0.80769231,        nan,\n",
      "              nan,        nan,        nan,        nan, 0.78846154,\n",
      "       0.82692308,        nan, 0.80769231,        nan,        nan,\n",
      "              nan,        nan,        nan, 0.78846154, 0.78846154,\n",
      "              nan, 0.78846154,        nan,        nan,        nan,\n",
      "              nan,        nan, 0.78846154, 0.78846154,        nan,\n",
      "       0.78846154,        nan,        nan,        nan,        nan,\n",
      "              nan, 0.78846154, 0.78846154,        nan, 0.78846154,\n",
      "              nan,        nan,        nan,        nan,        nan,\n",
      "       0.78846154, 0.78846154,        nan, 0.78846154,        nan,\n",
      "              nan,        nan,        nan,        nan, 0.78846154,\n",
      "       0.78846154,        nan, 0.78846154,        nan,        nan,\n",
      "              nan,        nan,        nan, 0.78846154, 0.78846154,\n",
      "              nan, 0.78846154,        nan,        nan,        nan]), 'split1_test_score': array([       nan,        nan, 0.55769231, 0.84615385,        nan,\n",
      "       0.86538462,        nan,        nan,        nan,        nan,\n",
      "              nan, 0.55769231, 0.84615385,        nan, 0.86538462,\n",
      "              nan,        nan,        nan,        nan,        nan,\n",
      "       0.55769231, 0.84615385,        nan, 0.86538462,        nan,\n",
      "              nan,        nan,        nan,        nan, 0.55769231,\n",
      "       0.76923077,        nan, 0.82692308,        nan,        nan,\n",
      "              nan,        nan,        nan, 0.55769231, 0.76923077,\n",
      "              nan, 0.82692308,        nan,        nan,        nan,\n",
      "              nan,        nan, 0.55769231, 0.76923077,        nan,\n",
      "       0.82692308,        nan,        nan,        nan,        nan,\n",
      "              nan, 0.55769231, 0.82692308,        nan, 0.82692308,\n",
      "              nan,        nan,        nan,        nan,        nan,\n",
      "       0.55769231, 0.82692308,        nan, 0.82692308,        nan,\n",
      "              nan,        nan,        nan,        nan, 0.55769231,\n",
      "       0.82692308,        nan, 0.82692308,        nan,        nan,\n",
      "              nan,        nan,        nan, 0.55769231, 0.84615385,\n",
      "              nan, 0.82692308,        nan,        nan,        nan,\n",
      "              nan,        nan, 0.55769231, 0.84615385,        nan,\n",
      "       0.82692308,        nan,        nan,        nan,        nan,\n",
      "              nan, 0.55769231, 0.84615385,        nan, 0.82692308,\n",
      "              nan,        nan,        nan,        nan,        nan,\n",
      "       0.84615385, 0.80769231,        nan, 0.82692308,        nan,\n",
      "              nan,        nan,        nan,        nan, 0.84615385,\n",
      "       0.80769231,        nan, 0.82692308,        nan,        nan,\n",
      "              nan,        nan,        nan, 0.84615385, 0.80769231,\n",
      "              nan, 0.82692308,        nan,        nan,        nan,\n",
      "              nan,        nan, 0.84615385, 0.84615385,        nan,\n",
      "       0.82692308,        nan,        nan,        nan,        nan,\n",
      "              nan, 0.84615385, 0.84615385,        nan, 0.82692308,\n",
      "              nan,        nan,        nan,        nan,        nan,\n",
      "       0.84615385, 0.84615385,        nan, 0.82692308,        nan,\n",
      "              nan,        nan,        nan,        nan, 0.80769231,\n",
      "       0.80769231,        nan, 0.80769231,        nan,        nan,\n",
      "              nan,        nan,        nan, 0.80769231, 0.80769231,\n",
      "              nan, 0.80769231,        nan,        nan,        nan,\n",
      "              nan,        nan, 0.80769231, 0.80769231,        nan,\n",
      "       0.80769231,        nan,        nan,        nan,        nan,\n",
      "              nan, 0.80769231, 0.82692308,        nan, 0.82692308,\n",
      "              nan,        nan,        nan,        nan,        nan,\n",
      "       0.80769231, 0.82692308,        nan, 0.82692308,        nan,\n",
      "              nan,        nan,        nan,        nan, 0.80769231,\n",
      "       0.82692308,        nan, 0.82692308,        nan,        nan,\n",
      "              nan,        nan,        nan, 0.80769231, 0.80769231,\n",
      "              nan, 0.80769231,        nan,        nan,        nan,\n",
      "              nan,        nan, 0.80769231, 0.80769231,        nan,\n",
      "       0.80769231,        nan,        nan,        nan,        nan,\n",
      "              nan, 0.80769231, 0.80769231,        nan, 0.80769231,\n",
      "              nan,        nan,        nan,        nan,        nan,\n",
      "       0.80769231, 0.80769231,        nan, 0.80769231,        nan,\n",
      "              nan,        nan,        nan,        nan, 0.80769231,\n",
      "       0.80769231,        nan, 0.80769231,        nan,        nan,\n",
      "              nan,        nan,        nan, 0.80769231, 0.80769231,\n",
      "              nan, 0.80769231,        nan,        nan,        nan]), 'split2_test_score': array([       nan,        nan, 0.56862745, 0.82352941,        nan,\n",
      "       0.76470588,        nan,        nan,        nan,        nan,\n",
      "              nan, 0.56862745, 0.82352941,        nan, 0.76470588,\n",
      "              nan,        nan,        nan,        nan,        nan,\n",
      "       0.56862745, 0.82352941,        nan, 0.76470588,        nan,\n",
      "              nan,        nan,        nan,        nan, 0.56862745,\n",
      "       0.64705882,        nan, 0.80392157,        nan,        nan,\n",
      "              nan,        nan,        nan, 0.56862745, 0.64705882,\n",
      "              nan, 0.80392157,        nan,        nan,        nan,\n",
      "              nan,        nan, 0.56862745, 0.64705882,        nan,\n",
      "       0.80392157,        nan,        nan,        nan,        nan,\n",
      "              nan, 0.56862745, 0.76470588,        nan, 0.76470588,\n",
      "              nan,        nan,        nan,        nan,        nan,\n",
      "       0.56862745, 0.76470588,        nan, 0.76470588,        nan,\n",
      "              nan,        nan,        nan,        nan, 0.56862745,\n",
      "       0.76470588,        nan, 0.76470588,        nan,        nan,\n",
      "              nan,        nan,        nan, 0.56862745, 0.82352941,\n",
      "              nan, 0.76470588,        nan,        nan,        nan,\n",
      "              nan,        nan, 0.56862745, 0.82352941,        nan,\n",
      "       0.76470588,        nan,        nan,        nan,        nan,\n",
      "              nan, 0.56862745, 0.82352941,        nan, 0.76470588,\n",
      "              nan,        nan,        nan,        nan,        nan,\n",
      "       0.78431373, 0.78431373,        nan, 0.78431373,        nan,\n",
      "              nan,        nan,        nan,        nan, 0.78431373,\n",
      "       0.78431373,        nan, 0.78431373,        nan,        nan,\n",
      "              nan,        nan,        nan, 0.78431373, 0.78431373,\n",
      "              nan, 0.78431373,        nan,        nan,        nan,\n",
      "              nan,        nan, 0.78431373, 0.80392157,        nan,\n",
      "       0.80392157,        nan,        nan,        nan,        nan,\n",
      "              nan, 0.78431373, 0.80392157,        nan, 0.80392157,\n",
      "              nan,        nan,        nan,        nan,        nan,\n",
      "       0.78431373, 0.80392157,        nan, 0.80392157,        nan,\n",
      "              nan,        nan,        nan,        nan, 0.78431373,\n",
      "       0.78431373,        nan, 0.78431373,        nan,        nan,\n",
      "              nan,        nan,        nan, 0.78431373, 0.78431373,\n",
      "              nan, 0.78431373,        nan,        nan,        nan,\n",
      "              nan,        nan, 0.78431373, 0.78431373,        nan,\n",
      "       0.78431373,        nan,        nan,        nan,        nan,\n",
      "              nan, 0.80392157, 0.80392157,        nan, 0.80392157,\n",
      "              nan,        nan,        nan,        nan,        nan,\n",
      "       0.80392157, 0.80392157,        nan, 0.80392157,        nan,\n",
      "              nan,        nan,        nan,        nan, 0.80392157,\n",
      "       0.80392157,        nan, 0.80392157,        nan,        nan,\n",
      "              nan,        nan,        nan, 0.78431373, 0.78431373,\n",
      "              nan, 0.78431373,        nan,        nan,        nan,\n",
      "              nan,        nan, 0.78431373, 0.78431373,        nan,\n",
      "       0.78431373,        nan,        nan,        nan,        nan,\n",
      "              nan, 0.78431373, 0.78431373,        nan, 0.78431373,\n",
      "              nan,        nan,        nan,        nan,        nan,\n",
      "       0.82352941, 0.82352941,        nan, 0.82352941,        nan,\n",
      "              nan,        nan,        nan,        nan, 0.82352941,\n",
      "       0.82352941,        nan, 0.82352941,        nan,        nan,\n",
      "              nan,        nan,        nan, 0.82352941, 0.82352941,\n",
      "              nan, 0.82352941,        nan,        nan,        nan]), 'split3_test_score': array([       nan,        nan, 0.54901961, 0.84313725,        nan,\n",
      "       0.82352941,        nan,        nan,        nan,        nan,\n",
      "              nan, 0.54901961, 0.84313725,        nan, 0.82352941,\n",
      "              nan,        nan,        nan,        nan,        nan,\n",
      "       0.54901961, 0.84313725,        nan, 0.82352941,        nan,\n",
      "              nan,        nan,        nan,        nan, 0.54901961,\n",
      "       0.64705882,        nan, 0.82352941,        nan,        nan,\n",
      "              nan,        nan,        nan, 0.54901961, 0.64705882,\n",
      "              nan, 0.82352941,        nan,        nan,        nan,\n",
      "              nan,        nan, 0.54901961, 0.64705882,        nan,\n",
      "       0.82352941,        nan,        nan,        nan,        nan,\n",
      "              nan, 0.54901961, 0.8627451 ,        nan, 0.8627451 ,\n",
      "              nan,        nan,        nan,        nan,        nan,\n",
      "       0.54901961, 0.8627451 ,        nan, 0.8627451 ,        nan,\n",
      "              nan,        nan,        nan,        nan, 0.54901961,\n",
      "       0.8627451 ,        nan, 0.8627451 ,        nan,        nan,\n",
      "              nan,        nan,        nan, 0.54901961, 0.8627451 ,\n",
      "              nan, 0.8627451 ,        nan,        nan,        nan,\n",
      "              nan,        nan, 0.54901961, 0.8627451 ,        nan,\n",
      "       0.8627451 ,        nan,        nan,        nan,        nan,\n",
      "              nan, 0.54901961, 0.8627451 ,        nan, 0.8627451 ,\n",
      "              nan,        nan,        nan,        nan,        nan,\n",
      "       0.84313725, 0.84313725,        nan, 0.84313725,        nan,\n",
      "              nan,        nan,        nan,        nan, 0.84313725,\n",
      "       0.84313725,        nan, 0.84313725,        nan,        nan,\n",
      "              nan,        nan,        nan, 0.84313725, 0.84313725,\n",
      "              nan, 0.84313725,        nan,        nan,        nan,\n",
      "              nan,        nan, 0.84313725, 0.84313725,        nan,\n",
      "       0.84313725,        nan,        nan,        nan,        nan,\n",
      "              nan, 0.84313725, 0.84313725,        nan, 0.84313725,\n",
      "              nan,        nan,        nan,        nan,        nan,\n",
      "       0.84313725, 0.84313725,        nan, 0.84313725,        nan,\n",
      "              nan,        nan,        nan,        nan, 0.84313725,\n",
      "       0.84313725,        nan, 0.84313725,        nan,        nan,\n",
      "              nan,        nan,        nan, 0.84313725, 0.84313725,\n",
      "              nan, 0.84313725,        nan,        nan,        nan,\n",
      "              nan,        nan, 0.84313725, 0.84313725,        nan,\n",
      "       0.84313725,        nan,        nan,        nan,        nan,\n",
      "              nan, 0.84313725, 0.84313725,        nan, 0.84313725,\n",
      "              nan,        nan,        nan,        nan,        nan,\n",
      "       0.84313725, 0.84313725,        nan, 0.84313725,        nan,\n",
      "              nan,        nan,        nan,        nan, 0.84313725,\n",
      "       0.84313725,        nan, 0.84313725,        nan,        nan,\n",
      "              nan,        nan,        nan, 0.84313725, 0.84313725,\n",
      "              nan, 0.84313725,        nan,        nan,        nan,\n",
      "              nan,        nan, 0.84313725, 0.84313725,        nan,\n",
      "       0.84313725,        nan,        nan,        nan,        nan,\n",
      "              nan, 0.84313725, 0.84313725,        nan, 0.84313725,\n",
      "              nan,        nan,        nan,        nan,        nan,\n",
      "       0.82352941, 0.82352941,        nan, 0.82352941,        nan,\n",
      "              nan,        nan,        nan,        nan, 0.82352941,\n",
      "       0.82352941,        nan, 0.82352941,        nan,        nan,\n",
      "              nan,        nan,        nan, 0.82352941, 0.82352941,\n",
      "              nan, 0.82352941,        nan,        nan,        nan]), 'split4_test_score': array([       nan,        nan, 0.54901961, 0.80392157,        nan,\n",
      "       0.78431373,        nan,        nan,        nan,        nan,\n",
      "              nan, 0.54901961, 0.80392157,        nan, 0.78431373,\n",
      "              nan,        nan,        nan,        nan,        nan,\n",
      "       0.54901961, 0.80392157,        nan, 0.78431373,        nan,\n",
      "              nan,        nan,        nan,        nan, 0.54901961,\n",
      "       0.68627451,        nan, 0.80392157,        nan,        nan,\n",
      "              nan,        nan,        nan, 0.54901961, 0.68627451,\n",
      "              nan, 0.80392157,        nan,        nan,        nan,\n",
      "              nan,        nan, 0.54901961, 0.68627451,        nan,\n",
      "       0.80392157,        nan,        nan,        nan,        nan,\n",
      "              nan, 0.54901961, 0.82352941,        nan, 0.82352941,\n",
      "              nan,        nan,        nan,        nan,        nan,\n",
      "       0.54901961, 0.82352941,        nan, 0.82352941,        nan,\n",
      "              nan,        nan,        nan,        nan, 0.54901961,\n",
      "       0.82352941,        nan, 0.82352941,        nan,        nan,\n",
      "              nan,        nan,        nan, 0.54901961, 0.84313725,\n",
      "              nan, 0.80392157,        nan,        nan,        nan,\n",
      "              nan,        nan, 0.54901961, 0.84313725,        nan,\n",
      "       0.80392157,        nan,        nan,        nan,        nan,\n",
      "              nan, 0.54901961, 0.84313725,        nan, 0.80392157,\n",
      "              nan,        nan,        nan,        nan,        nan,\n",
      "       0.82352941, 0.82352941,        nan, 0.82352941,        nan,\n",
      "              nan,        nan,        nan,        nan, 0.82352941,\n",
      "       0.82352941,        nan, 0.82352941,        nan,        nan,\n",
      "              nan,        nan,        nan, 0.82352941, 0.82352941,\n",
      "              nan, 0.82352941,        nan,        nan,        nan,\n",
      "              nan,        nan, 0.82352941, 0.82352941,        nan,\n",
      "       0.82352941,        nan,        nan,        nan,        nan,\n",
      "              nan, 0.82352941, 0.82352941,        nan, 0.82352941,\n",
      "              nan,        nan,        nan,        nan,        nan,\n",
      "       0.82352941, 0.82352941,        nan, 0.82352941,        nan,\n",
      "              nan,        nan,        nan,        nan, 0.84313725,\n",
      "       0.82352941,        nan, 0.84313725,        nan,        nan,\n",
      "              nan,        nan,        nan, 0.84313725, 0.82352941,\n",
      "              nan, 0.84313725,        nan,        nan,        nan,\n",
      "              nan,        nan, 0.84313725, 0.82352941,        nan,\n",
      "       0.84313725,        nan,        nan,        nan,        nan,\n",
      "              nan, 0.84313725, 0.84313725,        nan, 0.84313725,\n",
      "              nan,        nan,        nan,        nan,        nan,\n",
      "       0.84313725, 0.84313725,        nan, 0.84313725,        nan,\n",
      "              nan,        nan,        nan,        nan, 0.84313725,\n",
      "       0.84313725,        nan, 0.84313725,        nan,        nan,\n",
      "              nan,        nan,        nan, 0.82352941, 0.82352941,\n",
      "              nan, 0.82352941,        nan,        nan,        nan,\n",
      "              nan,        nan, 0.82352941, 0.82352941,        nan,\n",
      "       0.82352941,        nan,        nan,        nan,        nan,\n",
      "              nan, 0.82352941, 0.82352941,        nan, 0.82352941,\n",
      "              nan,        nan,        nan,        nan,        nan,\n",
      "       0.84313725, 0.84313725,        nan, 0.84313725,        nan,\n",
      "              nan,        nan,        nan,        nan, 0.84313725,\n",
      "       0.84313725,        nan, 0.84313725,        nan,        nan,\n",
      "              nan,        nan,        nan, 0.84313725, 0.84313725,\n",
      "              nan, 0.84313725,        nan,        nan,        nan]), 'mean_test_score': array([       nan,        nan, 0.55641026, 0.83257919,        nan,\n",
      "       0.82066365,        nan,        nan,        nan,        nan,\n",
      "              nan, 0.55641026, 0.83257919,        nan, 0.82066365,\n",
      "              nan,        nan,        nan,        nan,        nan,\n",
      "       0.55641026, 0.83257919,        nan, 0.82066365,        nan,\n",
      "              nan,        nan,        nan,        nan, 0.55641026,\n",
      "       0.68069382,        nan, 0.82088989,        nan,        nan,\n",
      "              nan,        nan,        nan, 0.55641026, 0.68069382,\n",
      "              nan, 0.82088989,        nan,        nan,        nan,\n",
      "              nan,        nan, 0.55641026, 0.68069382,        nan,\n",
      "       0.82088989,        nan,        nan,        nan,        nan,\n",
      "              nan, 0.55641026, 0.82481146,        nan, 0.82096531,\n",
      "              nan,        nan,        nan,        nan,        nan,\n",
      "       0.55641026, 0.82481146,        nan, 0.82096531,        nan,\n",
      "              nan,        nan,        nan,        nan, 0.55641026,\n",
      "       0.82481146,        nan, 0.82096531,        nan,        nan,\n",
      "              nan,        nan,        nan, 0.55641026, 0.84434389,\n",
      "              nan, 0.82473605,        nan,        nan,        nan,\n",
      "              nan,        nan, 0.55641026, 0.84434389,        nan,\n",
      "       0.82473605,        nan,        nan,        nan,        nan,\n",
      "              nan, 0.55641026, 0.84434389,        nan, 0.82473605,\n",
      "              nan,        nan,        nan,        nan,        nan,\n",
      "       0.81711916, 0.813273  ,        nan, 0.81711916,        nan,\n",
      "              nan,        nan,        nan,        nan, 0.81711916,\n",
      "       0.813273  ,        nan, 0.81711916,        nan,        nan,\n",
      "              nan,        nan,        nan, 0.81711916, 0.813273  ,\n",
      "              nan, 0.81711916,        nan,        nan,        nan,\n",
      "              nan,        nan, 0.81711916, 0.83642534,        nan,\n",
      "       0.82873303,        nan,        nan,        nan,        nan,\n",
      "              nan, 0.81711916, 0.83642534,        nan, 0.82873303,\n",
      "              nan,        nan,        nan,        nan,        nan,\n",
      "       0.81711916, 0.83642534,        nan, 0.82873303,        nan,\n",
      "              nan,        nan,        nan,        nan, 0.81334842,\n",
      "       0.80942685,        nan, 0.81334842,        nan,        nan,\n",
      "              nan,        nan,        nan, 0.81334842, 0.80942685,\n",
      "              nan, 0.81334842,        nan,        nan,        nan,\n",
      "              nan,        nan, 0.81334842, 0.80942685,        nan,\n",
      "       0.81334842,        nan,        nan,        nan,        nan,\n",
      "              nan, 0.81726998, 0.82880845,        nan, 0.82496229,\n",
      "              nan,        nan,        nan,        nan,        nan,\n",
      "       0.81726998, 0.82880845,        nan, 0.82496229,        nan,\n",
      "              nan,        nan,        nan,        nan, 0.81726998,\n",
      "       0.82880845,        nan, 0.82496229,        nan,        nan,\n",
      "              nan,        nan,        nan, 0.80942685, 0.80942685,\n",
      "              nan, 0.80942685,        nan,        nan,        nan,\n",
      "              nan,        nan, 0.80942685, 0.80942685,        nan,\n",
      "       0.80942685,        nan,        nan,        nan,        nan,\n",
      "              nan, 0.80942685, 0.80942685,        nan, 0.80942685,\n",
      "              nan,        nan,        nan,        nan,        nan,\n",
      "       0.81726998, 0.81726998,        nan, 0.81726998,        nan,\n",
      "              nan,        nan,        nan,        nan, 0.81726998,\n",
      "       0.81726998,        nan, 0.81726998,        nan,        nan,\n",
      "              nan,        nan,        nan, 0.81726998, 0.81726998,\n",
      "              nan, 0.81726998,        nan,        nan,        nan]), 'std_test_score': array([       nan,        nan, 0.00723589, 0.01663234,        nan,\n",
      "       0.0411357 ,        nan,        nan,        nan,        nan,\n",
      "              nan, 0.00723589, 0.01663234,        nan, 0.0411357 ,\n",
      "              nan,        nan,        nan,        nan,        nan,\n",
      "       0.00723589, 0.01663234,        nan, 0.0411357 ,        nan,\n",
      "              nan,        nan,        nan,        nan, 0.00723589,\n",
      "       0.04659047,        nan, 0.01585864,        nan,        nan,\n",
      "              nan,        nan,        nan, 0.00723589, 0.04659047,\n",
      "              nan, 0.01585864,        nan,        nan,        nan,\n",
      "              nan,        nan, 0.00723589, 0.04659047,        nan,\n",
      "       0.01585864,        nan,        nan,        nan,        nan,\n",
      "              nan, 0.00723589, 0.03320615,        nan, 0.03158556,\n",
      "              nan,        nan,        nan,        nan,        nan,\n",
      "       0.00723589, 0.03320615,        nan, 0.03158556,        nan,\n",
      "              nan,        nan,        nan,        nan, 0.00723589,\n",
      "       0.03320615,        nan, 0.03158556,        nan,        nan,\n",
      "              nan,        nan,        nan, 0.00723589, 0.01248883,\n",
      "              nan, 0.03778529,        nan,        nan,        nan,\n",
      "              nan,        nan, 0.00723589, 0.01248883,        nan,\n",
      "       0.03778529,        nan,        nan,        nan,        nan,\n",
      "              nan, 0.00723589, 0.01248883,        nan, 0.03778529,\n",
      "              nan,        nan,        nan,        nan,        nan,\n",
      "       0.0263002 , 0.0194833 ,        nan, 0.01989579,        nan,\n",
      "              nan,        nan,        nan,        nan, 0.0263002 ,\n",
      "       0.0194833 ,        nan, 0.01989579,        nan,        nan,\n",
      "              nan,        nan,        nan, 0.0263002 , 0.0194833 ,\n",
      "              nan, 0.01989579,        nan,        nan,        nan,\n",
      "              nan,        nan, 0.0263002 , 0.02098158,        nan,\n",
      "       0.01521137,        nan,        nan,        nan,        nan,\n",
      "              nan, 0.0263002 , 0.02098158,        nan, 0.01521137,\n",
      "              nan,        nan,        nan,        nan,        nan,\n",
      "       0.0263002 , 0.02098158,        nan, 0.01521137,        nan,\n",
      "              nan,        nan,        nan,        nan, 0.02556995,\n",
      "       0.02194764,        nan, 0.02556995,        nan,        nan,\n",
      "              nan,        nan,        nan, 0.02556995, 0.02194764,\n",
      "              nan, 0.02556995,        nan,        nan,        nan,\n",
      "              nan,        nan, 0.02556995, 0.02194764,        nan,\n",
      "       0.02556995,        nan,        nan,        nan,        nan,\n",
      "              nan, 0.02208198, 0.01440205,        nan, 0.01676584,\n",
      "              nan,        nan,        nan,        nan,        nan,\n",
      "       0.02208198, 0.01440205,        nan, 0.01676584,        nan,\n",
      "              nan,        nan,        nan,        nan, 0.02208198,\n",
      "       0.01440205,        nan, 0.01676584,        nan,        nan,\n",
      "              nan,        nan,        nan, 0.02194764, 0.02194764,\n",
      "              nan, 0.02194764,        nan,        nan,        nan,\n",
      "              nan,        nan, 0.02194764, 0.02194764,        nan,\n",
      "       0.02194764,        nan,        nan,        nan,        nan,\n",
      "              nan, 0.02194764, 0.02194764,        nan, 0.02194764,\n",
      "              nan,        nan,        nan,        nan,        nan,\n",
      "       0.01827093, 0.01827093,        nan, 0.01827093,        nan,\n",
      "              nan,        nan,        nan,        nan, 0.01827093,\n",
      "       0.01827093,        nan, 0.01827093,        nan,        nan,\n",
      "              nan,        nan,        nan, 0.01827093, 0.01827093,\n",
      "              nan, 0.01827093,        nan,        nan,        nan]), 'rank_test_score': array([91, 91, 79,  7, 91, 31, 91, 91, 91, 91, 91, 79,  7, 91, 31, 91, 91,\n",
      "       91, 91, 91, 79,  7, 91, 31, 91, 91, 91, 91, 91, 79, 76, 91, 28, 91,\n",
      "       91, 91, 91, 91, 79, 76, 91, 28, 91, 91, 91, 91, 91, 79, 76, 91, 28,\n",
      "       91, 91, 91, 91, 91, 79, 19, 91, 25, 91, 91, 91, 91, 91, 79, 19, 91,\n",
      "       25, 91, 91, 91, 91, 91, 79, 19, 91, 25, 91, 91, 91, 91, 91, 79,  1,\n",
      "       91, 22, 91, 91, 91, 91, 91, 79,  1, 91, 22, 91, 91, 91, 91, 91, 79,\n",
      "        1, 91, 22, 91, 91, 91, 91, 91, 46, 61, 91, 46, 91, 91, 91, 91, 91,\n",
      "       46, 61, 91, 46, 91, 91, 91, 91, 91, 46, 61, 91, 46, 91, 91, 91, 91,\n",
      "       91, 46,  4, 91, 13, 91, 91, 91, 91, 91, 46,  4, 91, 13, 91, 91, 91,\n",
      "       91, 91, 46,  4, 91, 13, 91, 91, 91, 91, 91, 55, 64, 91, 55, 91, 91,\n",
      "       91, 91, 91, 55, 64, 91, 55, 91, 91, 91, 91, 91, 55, 64, 91, 55, 91,\n",
      "       91, 91, 91, 91, 34, 10, 91, 16, 91, 91, 91, 91, 91, 34, 10, 91, 16,\n",
      "       91, 91, 91, 91, 91, 34, 10, 91, 16, 91, 91, 91, 91, 91, 64, 64, 91,\n",
      "       64, 91, 91, 91, 91, 91, 64, 64, 91, 64, 91, 91, 91, 91, 91, 64, 64,\n",
      "       91, 64, 91, 91, 91, 91, 91, 37, 37, 91, 37, 91, 91, 91, 91, 91, 37,\n",
      "       37, 91, 37, 91, 91, 91, 91, 91, 37, 37, 91, 37, 91, 91, 91],\n",
      "      dtype=int32)}\n"
     ]
    },
    {
     "name": "stderr",
     "output_type": "stream",
     "text": [
      "/home/ongraph/.local/lib/python3.8/site-packages/sklearn/model_selection/_validation.py:425: FitFailedWarning: \n",
      "900 fits failed out of a total of 1350.\n",
      "The score on these train-test partitions for these parameters will be set to nan.\n",
      "If these failures are not expected, you can try to debug them by setting error_score='raise'.\n",
      "\n",
      "Below are more details about the failures:\n",
      "--------------------------------------------------------------------------------\n",
      "150 fits failed with the following error:\n",
      "Traceback (most recent call last):\n",
      "  File \"/home/ongraph/.local/lib/python3.8/site-packages/sklearn/model_selection/_validation.py\", line 729, in _fit_and_score\n",
      "    estimator.fit(X_train, y_train, **fit_params)\n",
      "  File \"/home/ongraph/.local/lib/python3.8/site-packages/sklearn/base.py\", line 1152, in wrapper\n",
      "    return fit_method(estimator, *args, **kwargs)\n",
      "  File \"/home/ongraph/.local/lib/python3.8/site-packages/sklearn/linear_model/_logistic.py\", line 1169, in fit\n",
      "    solver = _check_solver(self.solver, self.penalty, self.dual)\n",
      "  File \"/home/ongraph/.local/lib/python3.8/site-packages/sklearn/linear_model/_logistic.py\", line 56, in _check_solver\n",
      "    raise ValueError(\n",
      "ValueError: Solver lbfgs supports only 'l2' or 'none' penalties, got l1 penalty.\n",
      "\n",
      "--------------------------------------------------------------------------------\n",
      "450 fits failed with the following error:\n",
      "Traceback (most recent call last):\n",
      "  File \"/home/ongraph/.local/lib/python3.8/site-packages/sklearn/model_selection/_validation.py\", line 729, in _fit_and_score\n",
      "    estimator.fit(X_train, y_train, **fit_params)\n",
      "  File \"/home/ongraph/.local/lib/python3.8/site-packages/sklearn/base.py\", line 1145, in wrapper\n",
      "    estimator._validate_params()\n",
      "  File \"/home/ongraph/.local/lib/python3.8/site-packages/sklearn/base.py\", line 638, in _validate_params\n",
      "    validate_parameter_constraints(\n",
      "  File \"/home/ongraph/.local/lib/python3.8/site-packages/sklearn/utils/_param_validation.py\", line 96, in validate_parameter_constraints\n",
      "    raise InvalidParameterError(\n",
      "sklearn.utils._param_validation.InvalidParameterError: The 'solver' parameter of LogisticRegression must be a str among {'liblinear', 'newton-cg', 'saga', 'newton-cholesky', 'lbfgs', 'sag'}. Got 'sgd' instead.\n",
      "\n",
      "--------------------------------------------------------------------------------\n",
      "150 fits failed with the following error:\n",
      "Traceback (most recent call last):\n",
      "  File \"/home/ongraph/.local/lib/python3.8/site-packages/sklearn/model_selection/_validation.py\", line 729, in _fit_and_score\n",
      "    estimator.fit(X_train, y_train, **fit_params)\n",
      "  File \"/home/ongraph/.local/lib/python3.8/site-packages/sklearn/base.py\", line 1152, in wrapper\n",
      "    return fit_method(estimator, *args, **kwargs)\n",
      "  File \"/home/ongraph/.local/lib/python3.8/site-packages/sklearn/linear_model/_logistic.py\", line 1169, in fit\n",
      "    solver = _check_solver(self.solver, self.penalty, self.dual)\n",
      "  File \"/home/ongraph/.local/lib/python3.8/site-packages/sklearn/linear_model/_logistic.py\", line 56, in _check_solver\n",
      "    raise ValueError(\n",
      "ValueError: Solver lbfgs supports only 'l2' or 'none' penalties, got elasticnet penalty.\n",
      "\n",
      "--------------------------------------------------------------------------------\n",
      "150 fits failed with the following error:\n",
      "Traceback (most recent call last):\n",
      "  File \"/home/ongraph/.local/lib/python3.8/site-packages/sklearn/model_selection/_validation.py\", line 729, in _fit_and_score\n",
      "    estimator.fit(X_train, y_train, **fit_params)\n",
      "  File \"/home/ongraph/.local/lib/python3.8/site-packages/sklearn/base.py\", line 1152, in wrapper\n",
      "    return fit_method(estimator, *args, **kwargs)\n",
      "  File \"/home/ongraph/.local/lib/python3.8/site-packages/sklearn/linear_model/_logistic.py\", line 1169, in fit\n",
      "    solver = _check_solver(self.solver, self.penalty, self.dual)\n",
      "  File \"/home/ongraph/.local/lib/python3.8/site-packages/sklearn/linear_model/_logistic.py\", line 66, in _check_solver\n",
      "    raise ValueError(\n",
      "ValueError: Only 'saga' solver supports elasticnet penalty, got solver=liblinear.\n",
      "\n",
      "  warnings.warn(some_fits_failed_message, FitFailedWarning)\n",
      "/home/ongraph/.local/lib/python3.8/site-packages/sklearn/model_selection/_search.py:979: UserWarning: One or more of the test scores are non-finite: [       nan        nan 0.55641026 0.83257919        nan 0.82066365\n",
      "        nan        nan        nan        nan        nan 0.55641026\n",
      " 0.83257919        nan 0.82066365        nan        nan        nan\n",
      "        nan        nan 0.55641026 0.83257919        nan 0.82066365\n",
      "        nan        nan        nan        nan        nan 0.55641026\n",
      " 0.68069382        nan 0.82088989        nan        nan        nan\n",
      "        nan        nan 0.55641026 0.68069382        nan 0.82088989\n",
      "        nan        nan        nan        nan        nan 0.55641026\n",
      " 0.68069382        nan 0.82088989        nan        nan        nan\n",
      "        nan        nan 0.55641026 0.82481146        nan 0.82096531\n",
      "        nan        nan        nan        nan        nan 0.55641026\n",
      " 0.82481146        nan 0.82096531        nan        nan        nan\n",
      "        nan        nan 0.55641026 0.82481146        nan 0.82096531\n",
      "        nan        nan        nan        nan        nan 0.55641026\n",
      " 0.84434389        nan 0.82473605        nan        nan        nan\n",
      "        nan        nan 0.55641026 0.84434389        nan 0.82473605\n",
      "        nan        nan        nan        nan        nan 0.55641026\n",
      " 0.84434389        nan 0.82473605        nan        nan        nan\n",
      "        nan        nan 0.81711916 0.813273          nan 0.81711916\n",
      "        nan        nan        nan        nan        nan 0.81711916\n",
      " 0.813273          nan 0.81711916        nan        nan        nan\n",
      "        nan        nan 0.81711916 0.813273          nan 0.81711916\n",
      "        nan        nan        nan        nan        nan 0.81711916\n",
      " 0.83642534        nan 0.82873303        nan        nan        nan\n",
      "        nan        nan 0.81711916 0.83642534        nan 0.82873303\n",
      "        nan        nan        nan        nan        nan 0.81711916\n",
      " 0.83642534        nan 0.82873303        nan        nan        nan\n",
      "        nan        nan 0.81334842 0.80942685        nan 0.81334842\n",
      "        nan        nan        nan        nan        nan 0.81334842\n",
      " 0.80942685        nan 0.81334842        nan        nan        nan\n",
      "        nan        nan 0.81334842 0.80942685        nan 0.81334842\n",
      "        nan        nan        nan        nan        nan 0.81726998\n",
      " 0.82880845        nan 0.82496229        nan        nan        nan\n",
      "        nan        nan 0.81726998 0.82880845        nan 0.82496229\n",
      "        nan        nan        nan        nan        nan 0.81726998\n",
      " 0.82880845        nan 0.82496229        nan        nan        nan\n",
      "        nan        nan 0.80942685 0.80942685        nan 0.80942685\n",
      "        nan        nan        nan        nan        nan 0.80942685\n",
      " 0.80942685        nan 0.80942685        nan        nan        nan\n",
      "        nan        nan 0.80942685 0.80942685        nan 0.80942685\n",
      "        nan        nan        nan        nan        nan 0.81726998\n",
      " 0.81726998        nan 0.81726998        nan        nan        nan\n",
      "        nan        nan 0.81726998 0.81726998        nan 0.81726998\n",
      "        nan        nan        nan        nan        nan 0.81726998\n",
      " 0.81726998        nan 0.81726998        nan        nan        nan]\n",
      "  warnings.warn(\n"
     ]
    },
    {
     "data": {
      "text/html": [
       "<style>#sk-container-id-48 {color: black;}#sk-container-id-48 pre{padding: 0;}#sk-container-id-48 div.sk-toggleable {background-color: white;}#sk-container-id-48 label.sk-toggleable__label {cursor: pointer;display: block;width: 100%;margin-bottom: 0;padding: 0.3em;box-sizing: border-box;text-align: center;}#sk-container-id-48 label.sk-toggleable__label-arrow:before {content: \"▸\";float: left;margin-right: 0.25em;color: #696969;}#sk-container-id-48 label.sk-toggleable__label-arrow:hover:before {color: black;}#sk-container-id-48 div.sk-estimator:hover label.sk-toggleable__label-arrow:before {color: black;}#sk-container-id-48 div.sk-toggleable__content {max-height: 0;max-width: 0;overflow: hidden;text-align: left;background-color: #f0f8ff;}#sk-container-id-48 div.sk-toggleable__content pre {margin: 0.2em;color: black;border-radius: 0.25em;background-color: #f0f8ff;}#sk-container-id-48 input.sk-toggleable__control:checked~div.sk-toggleable__content {max-height: 200px;max-width: 100%;overflow: auto;}#sk-container-id-48 input.sk-toggleable__control:checked~label.sk-toggleable__label-arrow:before {content: \"▾\";}#sk-container-id-48 div.sk-estimator input.sk-toggleable__control:checked~label.sk-toggleable__label {background-color: #d4ebff;}#sk-container-id-48 div.sk-label input.sk-toggleable__control:checked~label.sk-toggleable__label {background-color: #d4ebff;}#sk-container-id-48 input.sk-hidden--visually {border: 0;clip: rect(1px 1px 1px 1px);clip: rect(1px, 1px, 1px, 1px);height: 1px;margin: -1px;overflow: hidden;padding: 0;position: absolute;width: 1px;}#sk-container-id-48 div.sk-estimator {font-family: monospace;background-color: #f0f8ff;border: 1px dotted black;border-radius: 0.25em;box-sizing: border-box;margin-bottom: 0.5em;}#sk-container-id-48 div.sk-estimator:hover {background-color: #d4ebff;}#sk-container-id-48 div.sk-parallel-item::after {content: \"\";width: 100%;border-bottom: 1px solid gray;flex-grow: 1;}#sk-container-id-48 div.sk-label:hover label.sk-toggleable__label {background-color: #d4ebff;}#sk-container-id-48 div.sk-serial::before {content: \"\";position: absolute;border-left: 1px solid gray;box-sizing: border-box;top: 0;bottom: 0;left: 50%;z-index: 0;}#sk-container-id-48 div.sk-serial {display: flex;flex-direction: column;align-items: center;background-color: white;padding-right: 0.2em;padding-left: 0.2em;position: relative;}#sk-container-id-48 div.sk-item {position: relative;z-index: 1;}#sk-container-id-48 div.sk-parallel {display: flex;align-items: stretch;justify-content: center;background-color: white;position: relative;}#sk-container-id-48 div.sk-item::before, #sk-container-id-48 div.sk-parallel-item::before {content: \"\";position: absolute;border-left: 1px solid gray;box-sizing: border-box;top: 0;bottom: 0;left: 50%;z-index: -1;}#sk-container-id-48 div.sk-parallel-item {display: flex;flex-direction: column;z-index: 1;position: relative;background-color: white;}#sk-container-id-48 div.sk-parallel-item:first-child::after {align-self: flex-end;width: 50%;}#sk-container-id-48 div.sk-parallel-item:last-child::after {align-self: flex-start;width: 50%;}#sk-container-id-48 div.sk-parallel-item:only-child::after {width: 0;}#sk-container-id-48 div.sk-dashed-wrapped {border: 1px dashed gray;margin: 0 0.4em 0.5em 0.4em;box-sizing: border-box;padding-bottom: 0.4em;background-color: white;}#sk-container-id-48 div.sk-label label {font-family: monospace;font-weight: bold;display: inline-block;line-height: 1.2em;}#sk-container-id-48 div.sk-label-container {text-align: center;}#sk-container-id-48 div.sk-container {/* jupyter's `normalize.less` sets `[hidden] { display: none; }` but bootstrap.min.css set `[hidden] { display: none !important; }` so we also need the `!important` here to be able to override the default hidden behavior on the sphinx rendered scikit-learn.org. See: https://github.com/scikit-learn/scikit-learn/issues/21755 */display: inline-block !important;position: relative;}#sk-container-id-48 div.sk-text-repr-fallback {display: none;}</style><div id=\"sk-container-id-48\" class=\"sk-top-container\"><div class=\"sk-text-repr-fallback\"><pre>LogisticRegression(C=0.01)</pre><b>In a Jupyter environment, please rerun this cell to show the HTML representation or trust the notebook. <br />On GitHub, the HTML representation is unable to render, please try loading this page with nbviewer.org.</b></div><div class=\"sk-container\" hidden><div class=\"sk-item\"><div class=\"sk-estimator sk-toggleable\"><input class=\"sk-toggleable__control sk-hidden--visually\" id=\"sk-estimator-id-48\" type=\"checkbox\" checked><label for=\"sk-estimator-id-48\" class=\"sk-toggleable__label sk-toggleable__label-arrow\">LogisticRegression</label><div class=\"sk-toggleable__content\"><pre>LogisticRegression(C=0.01)</pre></div></div></div></div></div>"
      ],
      "text/plain": [
       "LogisticRegression(C=0.01)"
      ]
     },
     "execution_count": 575,
     "metadata": {},
     "output_type": "execute_result"
    }
   ],
   "source": [
    "from sklearn.model_selection import GridSearchCV\n",
    "\n",
    "model = LogisticRegression(random_state=0)\n",
    "\n",
    "param_grid = {\n",
    "    'penalty': ['l1', 'l2', 'elasticnet'],\n",
    "    \"solver\": [\"lbfgs\", \"sgd\", \"liblinear\"],\n",
    "    \"C\": [0.001, 0.01, 0.1, 1, 10],\n",
    "    \"max_iter\": [100, 200, 500],\n",
    "    \"class_weight\": [\"balanced\", None]\n",
    "}\n",
    "\n",
    "grid_search = GridSearchCV(model, param_grid, cv=5, scoring=\"accuracy\")\n",
    "\n",
    "grid_search.fit(X_train, y_train)\n",
    "best_params = grid_search.best_params_\n",
    "best_score = grid_search.best_score_\n",
    "\n",
    "print(\"Best parameters:\", best_params)\n",
    "print(\"Best score:\", best_score)\n",
    "\n",
    "# Access the results of the grid search\n",
    "grid_results = grid_search.cv_results_\n",
    "\n",
    "# Print the results (optional)\n",
    "print(grid_results)\n",
    "\n",
    "# Use the best parameters to train a new model on the entire training data\n",
    "best_model = LogisticRegression(**best_params)\n",
    "best_model.fit(X_train, y_train)\n"
   ]
  },
  {
   "cell_type": "code",
   "execution_count": 576,
   "metadata": {},
   "outputs": [
    {
     "data": {
      "text/html": [
       "<style>#sk-container-id-49 {color: black;}#sk-container-id-49 pre{padding: 0;}#sk-container-id-49 div.sk-toggleable {background-color: white;}#sk-container-id-49 label.sk-toggleable__label {cursor: pointer;display: block;width: 100%;margin-bottom: 0;padding: 0.3em;box-sizing: border-box;text-align: center;}#sk-container-id-49 label.sk-toggleable__label-arrow:before {content: \"▸\";float: left;margin-right: 0.25em;color: #696969;}#sk-container-id-49 label.sk-toggleable__label-arrow:hover:before {color: black;}#sk-container-id-49 div.sk-estimator:hover label.sk-toggleable__label-arrow:before {color: black;}#sk-container-id-49 div.sk-toggleable__content {max-height: 0;max-width: 0;overflow: hidden;text-align: left;background-color: #f0f8ff;}#sk-container-id-49 div.sk-toggleable__content pre {margin: 0.2em;color: black;border-radius: 0.25em;background-color: #f0f8ff;}#sk-container-id-49 input.sk-toggleable__control:checked~div.sk-toggleable__content {max-height: 200px;max-width: 100%;overflow: auto;}#sk-container-id-49 input.sk-toggleable__control:checked~label.sk-toggleable__label-arrow:before {content: \"▾\";}#sk-container-id-49 div.sk-estimator input.sk-toggleable__control:checked~label.sk-toggleable__label {background-color: #d4ebff;}#sk-container-id-49 div.sk-label input.sk-toggleable__control:checked~label.sk-toggleable__label {background-color: #d4ebff;}#sk-container-id-49 input.sk-hidden--visually {border: 0;clip: rect(1px 1px 1px 1px);clip: rect(1px, 1px, 1px, 1px);height: 1px;margin: -1px;overflow: hidden;padding: 0;position: absolute;width: 1px;}#sk-container-id-49 div.sk-estimator {font-family: monospace;background-color: #f0f8ff;border: 1px dotted black;border-radius: 0.25em;box-sizing: border-box;margin-bottom: 0.5em;}#sk-container-id-49 div.sk-estimator:hover {background-color: #d4ebff;}#sk-container-id-49 div.sk-parallel-item::after {content: \"\";width: 100%;border-bottom: 1px solid gray;flex-grow: 1;}#sk-container-id-49 div.sk-label:hover label.sk-toggleable__label {background-color: #d4ebff;}#sk-container-id-49 div.sk-serial::before {content: \"\";position: absolute;border-left: 1px solid gray;box-sizing: border-box;top: 0;bottom: 0;left: 50%;z-index: 0;}#sk-container-id-49 div.sk-serial {display: flex;flex-direction: column;align-items: center;background-color: white;padding-right: 0.2em;padding-left: 0.2em;position: relative;}#sk-container-id-49 div.sk-item {position: relative;z-index: 1;}#sk-container-id-49 div.sk-parallel {display: flex;align-items: stretch;justify-content: center;background-color: white;position: relative;}#sk-container-id-49 div.sk-item::before, #sk-container-id-49 div.sk-parallel-item::before {content: \"\";position: absolute;border-left: 1px solid gray;box-sizing: border-box;top: 0;bottom: 0;left: 50%;z-index: -1;}#sk-container-id-49 div.sk-parallel-item {display: flex;flex-direction: column;z-index: 1;position: relative;background-color: white;}#sk-container-id-49 div.sk-parallel-item:first-child::after {align-self: flex-end;width: 50%;}#sk-container-id-49 div.sk-parallel-item:last-child::after {align-self: flex-start;width: 50%;}#sk-container-id-49 div.sk-parallel-item:only-child::after {width: 0;}#sk-container-id-49 div.sk-dashed-wrapped {border: 1px dashed gray;margin: 0 0.4em 0.5em 0.4em;box-sizing: border-box;padding-bottom: 0.4em;background-color: white;}#sk-container-id-49 div.sk-label label {font-family: monospace;font-weight: bold;display: inline-block;line-height: 1.2em;}#sk-container-id-49 div.sk-label-container {text-align: center;}#sk-container-id-49 div.sk-container {/* jupyter's `normalize.less` sets `[hidden] { display: none; }` but bootstrap.min.css set `[hidden] { display: none !important; }` so we also need the `!important` here to be able to override the default hidden behavior on the sphinx rendered scikit-learn.org. See: https://github.com/scikit-learn/scikit-learn/issues/21755 */display: inline-block !important;position: relative;}#sk-container-id-49 div.sk-text-repr-fallback {display: none;}</style><div id=\"sk-container-id-49\" class=\"sk-top-container\"><div class=\"sk-text-repr-fallback\"><pre>LogisticRegression(C=0.01, solver=&#x27;liblinear&#x27;)</pre><b>In a Jupyter environment, please rerun this cell to show the HTML representation or trust the notebook. <br />On GitHub, the HTML representation is unable to render, please try loading this page with nbviewer.org.</b></div><div class=\"sk-container\" hidden><div class=\"sk-item\"><div class=\"sk-estimator sk-toggleable\"><input class=\"sk-toggleable__control sk-hidden--visually\" id=\"sk-estimator-id-49\" type=\"checkbox\" checked><label for=\"sk-estimator-id-49\" class=\"sk-toggleable__label sk-toggleable__label-arrow\">LogisticRegression</label><div class=\"sk-toggleable__content\"><pre>LogisticRegression(C=0.01, solver=&#x27;liblinear&#x27;)</pre></div></div></div></div></div>"
      ],
      "text/plain": [
       "LogisticRegression(C=0.01, solver='liblinear')"
      ]
     },
     "execution_count": 576,
     "metadata": {},
     "output_type": "execute_result"
    }
   ],
   "source": [
    "logistic_classifier =LogisticRegression(C=0.01,penalty='l2',max_iter=100, solver='liblinear')\n",
    "logistic_classifier.fit(X_train, y_train)"
   ]
  },
  {
   "cell_type": "code",
   "execution_count": 577,
   "metadata": {},
   "outputs": [
    {
     "name": "stdout",
     "output_type": "stream",
     "text": [
      "Cross-Validation Scores: [0.80769231 0.86538462 0.76470588 0.90196078 0.82352941]\n",
      "Mean CV Accuracy: 0.8326546003016592\n"
     ]
    }
   ],
   "source": [
    "k_fold = KFold(n_splits=5, shuffle=True)\n",
    "\n",
    "# Perform cross-validation on the training set\n",
    "cv_scores = cross_val_score(logistic_classifier, X_train, y_train, cv=k_fold, scoring='accuracy')\n",
    "\n",
    "# Display the cross-validation scores\n",
    "print(\"Cross-Validation Scores:\", cv_scores)\n",
    "print(\"Mean CV Accuracy:\", np.mean(cv_scores))"
   ]
  },
  {
   "cell_type": "code",
   "execution_count": 578,
   "metadata": {},
   "outputs": [
    {
     "data": {
      "text/plain": [
       "['Logistic_regression_model.joblib']"
      ]
     },
     "execution_count": 578,
     "metadata": {},
     "output_type": "execute_result"
    }
   ],
   "source": [
    "filename = 'Logistic_regression_model.joblib'\n",
    "joblib.dump(logistic_classifier,filename)"
   ]
  },
  {
   "cell_type": "code",
   "execution_count": 579,
   "metadata": {},
   "outputs": [],
   "source": [
    "y_Class_pred=logistic_classifier.predict(X_test)\n"
   ]
  },
  {
   "cell_type": "code",
   "execution_count": 580,
   "metadata": {},
   "outputs": [
    {
     "data": {
      "text/plain": [
       "0.8695652173913043"
      ]
     },
     "execution_count": 580,
     "metadata": {},
     "output_type": "execute_result"
    }
   ],
   "source": [
    "accuracy_score(y_test,y_Class_pred)\n"
   ]
  },
  {
   "cell_type": "code",
   "execution_count": 581,
   "metadata": {},
   "outputs": [
    {
     "data": {
      "text/plain": [
       "array([[18,  3],\n",
       "       [ 3, 22]])"
      ]
     },
     "execution_count": 581,
     "metadata": {},
     "output_type": "execute_result"
    }
   ],
   "source": [
    "cm = confusion_matrix(y_test, y_Class_pred)\n",
    "cm"
   ]
  },
  {
   "cell_type": "code",
   "execution_count": 582,
   "metadata": {},
   "outputs": [
    {
     "name": "stdout",
     "output_type": "stream",
     "text": [
      "              precision    recall  f1-score   support\n",
      "\n",
      "           0       0.86      0.86      0.86        21\n",
      "           1       0.88      0.88      0.88        25\n",
      "\n",
      "    accuracy                           0.87        46\n",
      "   macro avg       0.87      0.87      0.87        46\n",
      "weighted avg       0.87      0.87      0.87        46\n",
      "\n"
     ]
    }
   ],
   "source": [
    "print(classification_report(y_test, y_Class_pred))\n"
   ]
  },
  {
   "cell_type": "code",
   "execution_count": 583,
   "metadata": {},
   "outputs": [
    {
     "data": {
      "image/png": "[encoded data removed]",
      "text/plain": [
       "<Figure size 640x480 with 1 Axes>"
      ]
     },
     "metadata": {},
     "output_type": "display_data"
    }
   ],
   "source": [
    "logit_roc_auc = roc_auc_score(y_test, logistic_classifier.predict(X_test))\n",
    "fpr, tpr, thresholds = roc_curve(y_test, logistic_classifier.predict_proba(X_test)[:,1])\n",
    "plt.figure()\n",
    "plt.plot(fpr, tpr, label='Logistic Regression (area = %0.2f)' % logit_roc_auc)\n",
    "plt.plot([0, 1], [0, 1],'r--')\n",
    "plt.xlim([0.0, 1.0])\n",
    "plt.ylim([0.0, 1.05])\n",
    "plt.xlabel('False Positive Rate')\n",
    "plt.ylabel('True Positive Rate')\n",
    "plt.title('Receiver operating characteristic')\n",
    "plt.legend(loc=\"lower right\")\n",
    "plt.savefig('Log_ROC')\n",
    "plt.show()\n"
   ]
  },
  {
   "cell_type": "code",
   "execution_count": 584,
   "metadata": {},
   "outputs": [
    {
     "data": {
      "text/html": [
       "<div>\n",
       "<style scoped>\n",
       "    .dataframe tbody tr th:only-of-type {\n",
       "        vertical-align: middle;\n",
       "    }\n",
       "\n",
       "    .dataframe tbody tr th {\n",
       "        vertical-align: top;\n",
       "    }\n",
       "\n",
       "    .dataframe thead th {\n",
       "        text-align: right;\n",
       "    }\n",
       "</style>\n",
       "<table border=\"1\" class=\"dataframe\">\n",
       "  <thead>\n",
       "    <tr style=\"text-align: right;\">\n",
       "      <th></th>\n",
       "      <th>age</th>\n",
       "      <th>sex</th>\n",
       "      <th>cp</th>\n",
       "      <th>trestbps</th>\n",
       "      <th>chol</th>\n",
       "      <th>fbs</th>\n",
       "      <th>restecg</th>\n",
       "      <th>thalach</th>\n",
       "      <th>exang</th>\n",
       "      <th>oldpeak</th>\n",
       "      <th>slope</th>\n",
       "      <th>ca</th>\n",
       "      <th>thal</th>\n",
       "    </tr>\n",
       "  </thead>\n",
       "  <tbody>\n",
       "    <tr>\n",
       "      <th>0</th>\n",
       "      <td>65</td>\n",
       "      <td>1</td>\n",
       "      <td>0</td>\n",
       "      <td>145</td>\n",
       "      <td>233</td>\n",
       "      <td>1</td>\n",
       "      <td>2</td>\n",
       "      <td>150</td>\n",
       "      <td>1</td>\n",
       "      <td>2.3</td>\n",
       "      <td>3</td>\n",
       "      <td>0</td>\n",
       "      <td>7</td>\n",
       "    </tr>\n",
       "  </tbody>\n",
       "</table>\n",
       "</div>"
      ],
      "text/plain": [
       "   age  sex  cp  trestbps  chol  fbs  restecg  thalach  exang  oldpeak  slope  \\\n",
       "0   65    1   0       145   233    1        2      150      1      2.3      3   \n",
       "\n",
       "   ca  thal  \n",
       "0   0     7  "
      ]
     },
     "execution_count": 584,
     "metadata": {},
     "output_type": "execute_result"
    }
   ],
   "source": [
    "Logistic_Newdataset = pd.read_csv('newdata.csv')\n",
    "Logistic_Newdataset"
   ]
  },
  {
   "cell_type": "code",
   "execution_count": 585,
   "metadata": {},
   "outputs": [],
   "source": [
    "logistic_classifier = joblib.load('Logistic_regression_model.pkl')\n"
   ]
  },
  {
   "cell_type": "code",
   "execution_count": 586,
   "metadata": {},
   "outputs": [
    {
     "name": "stderr",
     "output_type": "stream",
     "text": [
      "/home/ongraph/.local/lib/python3.8/site-packages/sklearn/base.py:458: UserWarning: X has feature names, but StandardScaler was fitted without feature names\n",
      "  warnings.warn(\n"
     ]
    }
   ],
   "source": [
    "logistic_Newdataset_scaled = sc.transform(Logistic_Newdataset)\n"
   ]
  },
  {
   "cell_type": "code",
   "execution_count": 587,
   "metadata": {},
   "outputs": [
    {
     "data": {
      "text/plain": [
       "array([1])"
      ]
     },
     "execution_count": 587,
     "metadata": {},
     "output_type": "execute_result"
    }
   ],
   "source": [
    "logistic_ynew=logistic_classifier.predict(logistic_Newdataset_scaled)\n",
    "logistic_ynew"
   ]
  },
  {
   "cell_type": "markdown",
   "metadata": {},
   "source": [
    "0,1,1,0,0,0,1,0,1  good prediction in logistic only 1 is incorrect"
   ]
  },
  {
   "cell_type": "markdown",
   "metadata": {},
   "source": [
    "## KNN MODEL"
   ]
  },
  {
   "cell_type": "code",
   "execution_count": 588,
   "metadata": {},
   "outputs": [],
   "source": [
    "# KNN_classifier = KNeighborsClassifier(n_neighbors=3)\n",
    "# KNN_classifier.fit(X_train, y_train)"
   ]
  },
  {
   "cell_type": "code",
   "execution_count": 589,
   "metadata": {},
   "outputs": [
    {
     "name": "stdout",
     "output_type": "stream",
     "text": [
      "Best KNN parameters: {'algorithm': 'brute', 'leaf_size': 15, 'n_neighbors': 10, 'weights': 'uniform'}\n",
      "Best score: 0.8169683257918552\n"
     ]
    },
    {
     "data": {
      "text/html": [
       "<style>#sk-container-id-50 {color: black;}#sk-container-id-50 pre{padding: 0;}#sk-container-id-50 div.sk-toggleable {background-color: white;}#sk-container-id-50 label.sk-toggleable__label {cursor: pointer;display: block;width: 100%;margin-bottom: 0;padding: 0.3em;box-sizing: border-box;text-align: center;}#sk-container-id-50 label.sk-toggleable__label-arrow:before {content: \"▸\";float: left;margin-right: 0.25em;color: #696969;}#sk-container-id-50 label.sk-toggleable__label-arrow:hover:before {color: black;}#sk-container-id-50 div.sk-estimator:hover label.sk-toggleable__label-arrow:before {color: black;}#sk-container-id-50 div.sk-toggleable__content {max-height: 0;max-width: 0;overflow: hidden;text-align: left;background-color: #f0f8ff;}#sk-container-id-50 div.sk-toggleable__content pre {margin: 0.2em;color: black;border-radius: 0.25em;background-color: #f0f8ff;}#sk-container-id-50 input.sk-toggleable__control:checked~div.sk-toggleable__content {max-height: 200px;max-width: 100%;overflow: auto;}#sk-container-id-50 input.sk-toggleable__control:checked~label.sk-toggleable__label-arrow:before {content: \"▾\";}#sk-container-id-50 div.sk-estimator input.sk-toggleable__control:checked~label.sk-toggleable__label {background-color: #d4ebff;}#sk-container-id-50 div.sk-label input.sk-toggleable__control:checked~label.sk-toggleable__label {background-color: #d4ebff;}#sk-container-id-50 input.sk-hidden--visually {border: 0;clip: rect(1px 1px 1px 1px);clip: rect(1px, 1px, 1px, 1px);height: 1px;margin: -1px;overflow: hidden;padding: 0;position: absolute;width: 1px;}#sk-container-id-50 div.sk-estimator {font-family: monospace;background-color: #f0f8ff;border: 1px dotted black;border-radius: 0.25em;box-sizing: border-box;margin-bottom: 0.5em;}#sk-container-id-50 div.sk-estimator:hover {background-color: #d4ebff;}#sk-container-id-50 div.sk-parallel-item::after {content: \"\";width: 100%;border-bottom: 1px solid gray;flex-grow: 1;}#sk-container-id-50 div.sk-label:hover label.sk-toggleable__label {background-color: #d4ebff;}#sk-container-id-50 div.sk-serial::before {content: \"\";position: absolute;border-left: 1px solid gray;box-sizing: border-box;top: 0;bottom: 0;left: 50%;z-index: 0;}#sk-container-id-50 div.sk-serial {display: flex;flex-direction: column;align-items: center;background-color: white;padding-right: 0.2em;padding-left: 0.2em;position: relative;}#sk-container-id-50 div.sk-item {position: relative;z-index: 1;}#sk-container-id-50 div.sk-parallel {display: flex;align-items: stretch;justify-content: center;background-color: white;position: relative;}#sk-container-id-50 div.sk-item::before, #sk-container-id-50 div.sk-parallel-item::before {content: \"\";position: absolute;border-left: 1px solid gray;box-sizing: border-box;top: 0;bottom: 0;left: 50%;z-index: -1;}#sk-container-id-50 div.sk-parallel-item {display: flex;flex-direction: column;z-index: 1;position: relative;background-color: white;}#sk-container-id-50 div.sk-parallel-item:first-child::after {align-self: flex-end;width: 50%;}#sk-container-id-50 div.sk-parallel-item:last-child::after {align-self: flex-start;width: 50%;}#sk-container-id-50 div.sk-parallel-item:only-child::after {width: 0;}#sk-container-id-50 div.sk-dashed-wrapped {border: 1px dashed gray;margin: 0 0.4em 0.5em 0.4em;box-sizing: border-box;padding-bottom: 0.4em;background-color: white;}#sk-container-id-50 div.sk-label label {font-family: monospace;font-weight: bold;display: inline-block;line-height: 1.2em;}#sk-container-id-50 div.sk-label-container {text-align: center;}#sk-container-id-50 div.sk-container {/* jupyter's `normalize.less` sets `[hidden] { display: none; }` but bootstrap.min.css set `[hidden] { display: none !important; }` so we also need the `!important` here to be able to override the default hidden behavior on the sphinx rendered scikit-learn.org. See: https://github.com/scikit-learn/scikit-learn/issues/21755 */display: inline-block !important;position: relative;}#sk-container-id-50 div.sk-text-repr-fallback {display: none;}</style><div id=\"sk-container-id-50\" class=\"sk-top-container\"><div class=\"sk-text-repr-fallback\"><pre>KNeighborsClassifier(algorithm=&#x27;brute&#x27;, leaf_size=15, n_neighbors=10)</pre><b>In a Jupyter environment, please rerun this cell to show the HTML representation or trust the notebook. <br />On GitHub, the HTML representation is unable to render, please try loading this page with nbviewer.org.</b></div><div class=\"sk-container\" hidden><div class=\"sk-item\"><div class=\"sk-estimator sk-toggleable\"><input class=\"sk-toggleable__control sk-hidden--visually\" id=\"sk-estimator-id-50\" type=\"checkbox\" checked><label for=\"sk-estimator-id-50\" class=\"sk-toggleable__label sk-toggleable__label-arrow\">KNeighborsClassifier</label><div class=\"sk-toggleable__content\"><pre>KNeighborsClassifier(algorithm=&#x27;brute&#x27;, leaf_size=15, n_neighbors=10)</pre></div></div></div></div></div>"
      ],
      "text/plain": [
       "KNeighborsClassifier(algorithm='brute', leaf_size=15, n_neighbors=10)"
      ]
     },
     "execution_count": 589,
     "metadata": {},
     "output_type": "execute_result"
    }
   ],
   "source": [
    "from sklearn.model_selection import GridSearchCV\n",
    "\n",
    "# Define KNN model with initial parameter values\n",
    "model = KNeighborsClassifier(n_neighbors=5)\n",
    "\n",
    "# Define parameter grid for tuning\n",
    "param_grid = {\n",
    "    \"n_neighbors\": [3, 5, 7, 10],\n",
    "    \"weights\": [\"uniform\", \"distance\"],\n",
    "    \"algorithm\": [\"brute\", \"kd_tree\", \"ball_tree\"],\n",
    "    \"leaf_size\": [15, 20, 30]\n",
    "}\n",
    "\n",
    "# Create GridSearchCV object\n",
    "grid_search = GridSearchCV(model, param_grid, cv=5, scoring=\"accuracy\")\n",
    "\n",
    "# Fit the grid search to your training data\n",
    "grid_search.fit(X_train, y_train)\n",
    "\n",
    "# Get the best parameters and score\n",
    "best_params = grid_search.best_params_\n",
    "best_score = grid_search.best_score_\n",
    "\n",
    "print(\"Best KNN parameters:\", best_params)\n",
    "print(\"Best score:\", best_score)\n",
    "\n",
    "# Access the results of the grid search (optional)\n",
    "grid_results = grid_search.cv_results_\n",
    "\n",
    "# Use the best parameters to train a new KNN model\n",
    "best_model = KNeighborsClassifier(**best_params)\n",
    "best_model.fit(X_train, y_train)\n",
    "\n",
    "# You can now use the best_model for prediction or further analysis\n"
   ]
  },
  {
   "cell_type": "code",
   "execution_count": 590,
   "metadata": {},
   "outputs": [
    {
     "data": {
      "text/html": [
       "<style>#sk-container-id-51 {color: black;}#sk-container-id-51 pre{padding: 0;}#sk-container-id-51 div.sk-toggleable {background-color: white;}#sk-container-id-51 label.sk-toggleable__label {cursor: pointer;display: block;width: 100%;margin-bottom: 0;padding: 0.3em;box-sizing: border-box;text-align: center;}#sk-container-id-51 label.sk-toggleable__label-arrow:before {content: \"▸\";float: left;margin-right: 0.25em;color: #696969;}#sk-container-id-51 label.sk-toggleable__label-arrow:hover:before {color: black;}#sk-container-id-51 div.sk-estimator:hover label.sk-toggleable__label-arrow:before {color: black;}#sk-container-id-51 div.sk-toggleable__content {max-height: 0;max-width: 0;overflow: hidden;text-align: left;background-color: #f0f8ff;}#sk-container-id-51 div.sk-toggleable__content pre {margin: 0.2em;color: black;border-radius: 0.25em;background-color: #f0f8ff;}#sk-container-id-51 input.sk-toggleable__control:checked~div.sk-toggleable__content {max-height: 200px;max-width: 100%;overflow: auto;}#sk-container-id-51 input.sk-toggleable__control:checked~label.sk-toggleable__label-arrow:before {content: \"▾\";}#sk-container-id-51 div.sk-estimator input.sk-toggleable__control:checked~label.sk-toggleable__label {background-color: #d4ebff;}#sk-container-id-51 div.sk-label input.sk-toggleable__control:checked~label.sk-toggleable__label {background-color: #d4ebff;}#sk-container-id-51 input.sk-hidden--visually {border: 0;clip: rect(1px 1px 1px 1px);clip: rect(1px, 1px, 1px, 1px);height: 1px;margin: -1px;overflow: hidden;padding: 0;position: absolute;width: 1px;}#sk-container-id-51 div.sk-estimator {font-family: monospace;background-color: #f0f8ff;border: 1px dotted black;border-radius: 0.25em;box-sizing: border-box;margin-bottom: 0.5em;}#sk-container-id-51 div.sk-estimator:hover {background-color: #d4ebff;}#sk-container-id-51 div.sk-parallel-item::after {content: \"\";width: 100%;border-bottom: 1px solid gray;flex-grow: 1;}#sk-container-id-51 div.sk-label:hover label.sk-toggleable__label {background-color: #d4ebff;}#sk-container-id-51 div.sk-serial::before {content: \"\";position: absolute;border-left: 1px solid gray;box-sizing: border-box;top: 0;bottom: 0;left: 50%;z-index: 0;}#sk-container-id-51 div.sk-serial {display: flex;flex-direction: column;align-items: center;background-color: white;padding-right: 0.2em;padding-left: 0.2em;position: relative;}#sk-container-id-51 div.sk-item {position: relative;z-index: 1;}#sk-container-id-51 div.sk-parallel {display: flex;align-items: stretch;justify-content: center;background-color: white;position: relative;}#sk-container-id-51 div.sk-item::before, #sk-container-id-51 div.sk-parallel-item::before {content: \"\";position: absolute;border-left: 1px solid gray;box-sizing: border-box;top: 0;bottom: 0;left: 50%;z-index: -1;}#sk-container-id-51 div.sk-parallel-item {display: flex;flex-direction: column;z-index: 1;position: relative;background-color: white;}#sk-container-id-51 div.sk-parallel-item:first-child::after {align-self: flex-end;width: 50%;}#sk-container-id-51 div.sk-parallel-item:last-child::after {align-self: flex-start;width: 50%;}#sk-container-id-51 div.sk-parallel-item:only-child::after {width: 0;}#sk-container-id-51 div.sk-dashed-wrapped {border: 1px dashed gray;margin: 0 0.4em 0.5em 0.4em;box-sizing: border-box;padding-bottom: 0.4em;background-color: white;}#sk-container-id-51 div.sk-label label {font-family: monospace;font-weight: bold;display: inline-block;line-height: 1.2em;}#sk-container-id-51 div.sk-label-container {text-align: center;}#sk-container-id-51 div.sk-container {/* jupyter's `normalize.less` sets `[hidden] { display: none; }` but bootstrap.min.css set `[hidden] { display: none !important; }` so we also need the `!important` here to be able to override the default hidden behavior on the sphinx rendered scikit-learn.org. See: https://github.com/scikit-learn/scikit-learn/issues/21755 */display: inline-block !important;position: relative;}#sk-container-id-51 div.sk-text-repr-fallback {display: none;}</style><div id=\"sk-container-id-51\" class=\"sk-top-container\"><div class=\"sk-text-repr-fallback\"><pre>KNeighborsClassifier()</pre><b>In a Jupyter environment, please rerun this cell to show the HTML representation or trust the notebook. <br />On GitHub, the HTML representation is unable to render, please try loading this page with nbviewer.org.</b></div><div class=\"sk-container\" hidden><div class=\"sk-item\"><div class=\"sk-estimator sk-toggleable\"><input class=\"sk-toggleable__control sk-hidden--visually\" id=\"sk-estimator-id-51\" type=\"checkbox\" checked><label for=\"sk-estimator-id-51\" class=\"sk-toggleable__label sk-toggleable__label-arrow\">KNeighborsClassifier</label><div class=\"sk-toggleable__content\"><pre>KNeighborsClassifier()</pre></div></div></div></div></div>"
      ],
      "text/plain": [
       "KNeighborsClassifier()"
      ]
     },
     "execution_count": 590,
     "metadata": {},
     "output_type": "execute_result"
    }
   ],
   "source": [
    "KNN_classifier = KNeighborsClassifier(n_neighbors=5)\n",
    "KNN_classifier.fit(X_train, y_train)"
   ]
  },
  {
   "cell_type": "code",
   "execution_count": 591,
   "metadata": {},
   "outputs": [
    {
     "data": {
      "text/plain": [
       "['KNN_model.joblib']"
      ]
     },
     "execution_count": 591,
     "metadata": {},
     "output_type": "execute_result"
    }
   ],
   "source": [
    "filename ='KNN_model.joblib'\n",
    "joblib.dump(KNN_classifier,filename)"
   ]
  },
  {
   "cell_type": "code",
   "execution_count": 592,
   "metadata": {},
   "outputs": [],
   "source": [
    "y_pred = KNN_classifier.predict(X_test)\n"
   ]
  },
  {
   "cell_type": "code",
   "execution_count": 593,
   "metadata": {},
   "outputs": [
    {
     "data": {
      "text/plain": [
       "0.9130434782608695"
      ]
     },
     "execution_count": 593,
     "metadata": {},
     "output_type": "execute_result"
    }
   ],
   "source": [
    "accuracy_score(y_test,y_pred)"
   ]
  },
  {
   "cell_type": "code",
   "execution_count": 594,
   "metadata": {},
   "outputs": [],
   "source": [
    "cm = confusion_matrix(y_test, y_pred)\n"
   ]
  },
  {
   "cell_type": "code",
   "execution_count": 595,
   "metadata": {},
   "outputs": [
    {
     "name": "stdout",
     "output_type": "stream",
     "text": [
      "              precision    recall  f1-score   support\n",
      "\n",
      "           0       0.90      0.90      0.90        21\n",
      "           1       0.92      0.92      0.92        25\n",
      "\n",
      "    accuracy                           0.91        46\n",
      "   macro avg       0.91      0.91      0.91        46\n",
      "weighted avg       0.91      0.91      0.91        46\n",
      "\n"
     ]
    }
   ],
   "source": [
    "print(classification_report(y_test, y_pred))\n"
   ]
  },
  {
   "cell_type": "code",
   "execution_count": 596,
   "metadata": {},
   "outputs": [
    {
     "data": {
      "image/png": "[encoded data removed]",
      "text/plain": [
       "<Figure size 640x480 with 1 Axes>"
      ]
     },
     "metadata": {},
     "output_type": "display_data"
    }
   ],
   "source": [
    "logit_roc_auc = roc_auc_score(y_test, KNN_classifier.predict(X_test))\n",
    "fpr, tpr, thresholds = roc_curve(y_test, KNN_classifier.predict_proba(X_test)[:,1])\n",
    "plt.figure()\n",
    "plt.plot(fpr, tpr, label='Logistic Regression (area = %0.2f)' % logit_roc_auc)\n",
    "plt.plot([0, 1], [0, 1],'r--')\n",
    "plt.xlim([0.0, 1.0])\n",
    "plt.ylim([0.0, 1.05])\n",
    "plt.xlabel('False Positive Rate')\n",
    "plt.ylabel('True Positive Rate')\n",
    "plt.title('Receiver operating characteristic')\n",
    "plt.legend(loc=\"lower right\")\n",
    "plt.savefig('Log_ROC')\n",
    "plt.show()\n"
   ]
  },
  {
   "cell_type": "code",
   "execution_count": 597,
   "metadata": {},
   "outputs": [
    {
     "data": {
      "text/html": [
       "<div>\n",
       "<style scoped>\n",
       "    .dataframe tbody tr th:only-of-type {\n",
       "        vertical-align: middle;\n",
       "    }\n",
       "\n",
       "    .dataframe tbody tr th {\n",
       "        vertical-align: top;\n",
       "    }\n",
       "\n",
       "    .dataframe thead th {\n",
       "        text-align: right;\n",
       "    }\n",
       "</style>\n",
       "<table border=\"1\" class=\"dataframe\">\n",
       "  <thead>\n",
       "    <tr style=\"text-align: right;\">\n",
       "      <th></th>\n",
       "      <th>age</th>\n",
       "      <th>sex</th>\n",
       "      <th>cp</th>\n",
       "      <th>trestbps</th>\n",
       "      <th>chol</th>\n",
       "      <th>fbs</th>\n",
       "      <th>restecg</th>\n",
       "      <th>thalach</th>\n",
       "      <th>exang</th>\n",
       "      <th>oldpeak</th>\n",
       "      <th>slope</th>\n",
       "      <th>ca</th>\n",
       "      <th>thal</th>\n",
       "    </tr>\n",
       "  </thead>\n",
       "  <tbody>\n",
       "    <tr>\n",
       "      <th>0</th>\n",
       "      <td>65</td>\n",
       "      <td>1</td>\n",
       "      <td>0</td>\n",
       "      <td>145</td>\n",
       "      <td>233</td>\n",
       "      <td>1</td>\n",
       "      <td>2</td>\n",
       "      <td>150</td>\n",
       "      <td>1</td>\n",
       "      <td>2.3</td>\n",
       "      <td>3</td>\n",
       "      <td>0</td>\n",
       "      <td>7</td>\n",
       "    </tr>\n",
       "  </tbody>\n",
       "</table>\n",
       "</div>"
      ],
      "text/plain": [
       "   age  sex  cp  trestbps  chol  fbs  restecg  thalach  exang  oldpeak  slope  \\\n",
       "0   65    1   0       145   233    1        2      150      1      2.3      3   \n",
       "\n",
       "   ca  thal  \n",
       "0   0     7  "
      ]
     },
     "execution_count": 597,
     "metadata": {},
     "output_type": "execute_result"
    }
   ],
   "source": [
    "KNN_Newdataset = pd.read_csv('newdata.csv')\n",
    "KNN_Newdataset"
   ]
  },
  {
   "cell_type": "code",
   "execution_count": 598,
   "metadata": {},
   "outputs": [],
   "source": [
    "KNN_classifier = joblib.load('KNN_model.pkl')\n"
   ]
  },
  {
   "cell_type": "code",
   "execution_count": 599,
   "metadata": {},
   "outputs": [
    {
     "name": "stderr",
     "output_type": "stream",
     "text": [
      "/home/ongraph/.local/lib/python3.8/site-packages/sklearn/base.py:458: UserWarning: X has feature names, but StandardScaler was fitted without feature names\n",
      "  warnings.warn(\n"
     ]
    }
   ],
   "source": [
    "KNN_Newdataset_scaled = sc.transform(KNN_Newdataset)\n"
   ]
  },
  {
   "cell_type": "code",
   "execution_count": 600,
   "metadata": {},
   "outputs": [
    {
     "data": {
      "text/plain": [
       "array([1])"
      ]
     },
     "execution_count": 600,
     "metadata": {},
     "output_type": "execute_result"
    }
   ],
   "source": [
    "KNN_ynew=KNN_classifier.predict(KNN_Newdataset_scaled)\n",
    "KNN_ynew"
   ]
  },
  {
   "cell_type": "markdown",
   "metadata": {},
   "source": []
  },
  {
   "cell_type": "code",
   "execution_count": 601,
   "metadata": {},
   "outputs": [
    {
     "data": {
      "text/plain": [
       "(0, 1, 1, 0, 0, 0, 1, 0, 1)"
      ]
     },
     "execution_count": 601,
     "metadata": {},
     "output_type": "execute_result"
    }
   ],
   "source": [
    "0,1,1,0,0,0,1,0,1"
   ]
  },
  {
   "cell_type": "markdown",
   "metadata": {},
   "source": [
    "## NAIVE BAYES MODEL"
   ]
  },
  {
   "cell_type": "code",
   "execution_count": 602,
   "metadata": {},
   "outputs": [
    {
     "data": {
      "text/html": [
       "<style>#sk-container-id-52 {color: black;}#sk-container-id-52 pre{padding: 0;}#sk-container-id-52 div.sk-toggleable {background-color: white;}#sk-container-id-52 label.sk-toggleable__label {cursor: pointer;display: block;width: 100%;margin-bottom: 0;padding: 0.3em;box-sizing: border-box;text-align: center;}#sk-container-id-52 label.sk-toggleable__label-arrow:before {content: \"▸\";float: left;margin-right: 0.25em;color: #696969;}#sk-container-id-52 label.sk-toggleable__label-arrow:hover:before {color: black;}#sk-container-id-52 div.sk-estimator:hover label.sk-toggleable__label-arrow:before {color: black;}#sk-container-id-52 div.sk-toggleable__content {max-height: 0;max-width: 0;overflow: hidden;text-align: left;background-color: #f0f8ff;}#sk-container-id-52 div.sk-toggleable__content pre {margin: 0.2em;color: black;border-radius: 0.25em;background-color: #f0f8ff;}#sk-container-id-52 input.sk-toggleable__control:checked~div.sk-toggleable__content {max-height: 200px;max-width: 100%;overflow: auto;}#sk-container-id-52 input.sk-toggleable__control:checked~label.sk-toggleable__label-arrow:before {content: \"▾\";}#sk-container-id-52 div.sk-estimator input.sk-toggleable__control:checked~label.sk-toggleable__label {background-color: #d4ebff;}#sk-container-id-52 div.sk-label input.sk-toggleable__control:checked~label.sk-toggleable__label {background-color: #d4ebff;}#sk-container-id-52 input.sk-hidden--visually {border: 0;clip: rect(1px 1px 1px 1px);clip: rect(1px, 1px, 1px, 1px);height: 1px;margin: -1px;overflow: hidden;padding: 0;position: absolute;width: 1px;}#sk-container-id-52 div.sk-estimator {font-family: monospace;background-color: #f0f8ff;border: 1px dotted black;border-radius: 0.25em;box-sizing: border-box;margin-bottom: 0.5em;}#sk-container-id-52 div.sk-estimator:hover {background-color: #d4ebff;}#sk-container-id-52 div.sk-parallel-item::after {content: \"\";width: 100%;border-bottom: 1px solid gray;flex-grow: 1;}#sk-container-id-52 div.sk-label:hover label.sk-toggleable__label {background-color: #d4ebff;}#sk-container-id-52 div.sk-serial::before {content: \"\";position: absolute;border-left: 1px solid gray;box-sizing: border-box;top: 0;bottom: 0;left: 50%;z-index: 0;}#sk-container-id-52 div.sk-serial {display: flex;flex-direction: column;align-items: center;background-color: white;padding-right: 0.2em;padding-left: 0.2em;position: relative;}#sk-container-id-52 div.sk-item {position: relative;z-index: 1;}#sk-container-id-52 div.sk-parallel {display: flex;align-items: stretch;justify-content: center;background-color: white;position: relative;}#sk-container-id-52 div.sk-item::before, #sk-container-id-52 div.sk-parallel-item::before {content: \"\";position: absolute;border-left: 1px solid gray;box-sizing: border-box;top: 0;bottom: 0;left: 50%;z-index: -1;}#sk-container-id-52 div.sk-parallel-item {display: flex;flex-direction: column;z-index: 1;position: relative;background-color: white;}#sk-container-id-52 div.sk-parallel-item:first-child::after {align-self: flex-end;width: 50%;}#sk-container-id-52 div.sk-parallel-item:last-child::after {align-self: flex-start;width: 50%;}#sk-container-id-52 div.sk-parallel-item:only-child::after {width: 0;}#sk-container-id-52 div.sk-dashed-wrapped {border: 1px dashed gray;margin: 0 0.4em 0.5em 0.4em;box-sizing: border-box;padding-bottom: 0.4em;background-color: white;}#sk-container-id-52 div.sk-label label {font-family: monospace;font-weight: bold;display: inline-block;line-height: 1.2em;}#sk-container-id-52 div.sk-label-container {text-align: center;}#sk-container-id-52 div.sk-container {/* jupyter's `normalize.less` sets `[hidden] { display: none; }` but bootstrap.min.css set `[hidden] { display: none !important; }` so we also need the `!important` here to be able to override the default hidden behavior on the sphinx rendered scikit-learn.org. See: https://github.com/scikit-learn/scikit-learn/issues/21755 */display: inline-block !important;position: relative;}#sk-container-id-52 div.sk-text-repr-fallback {display: none;}</style><div id=\"sk-container-id-52\" class=\"sk-top-container\"><div class=\"sk-text-repr-fallback\"><pre>GaussianNB()</pre><b>In a Jupyter environment, please rerun this cell to show the HTML representation or trust the notebook. <br />On GitHub, the HTML representation is unable to render, please try loading this page with nbviewer.org.</b></div><div class=\"sk-container\" hidden><div class=\"sk-item\"><div class=\"sk-estimator sk-toggleable\"><input class=\"sk-toggleable__control sk-hidden--visually\" id=\"sk-estimator-id-52\" type=\"checkbox\" checked><label for=\"sk-estimator-id-52\" class=\"sk-toggleable__label sk-toggleable__label-arrow\">GaussianNB</label><div class=\"sk-toggleable__content\"><pre>GaussianNB()</pre></div></div></div></div></div>"
      ],
      "text/plain": [
       "GaussianNB()"
      ]
     },
     "execution_count": 602,
     "metadata": {},
     "output_type": "execute_result"
    }
   ],
   "source": [
    "NB_classifier = GaussianNB()\n",
    "NB_classifier.fit(X_train, y_train)"
   ]
  },
  {
   "cell_type": "code",
   "execution_count": 603,
   "metadata": {},
   "outputs": [
    {
     "data": {
      "text/plain": [
       "['naive_bayes_model.joblib']"
      ]
     },
     "execution_count": 603,
     "metadata": {},
     "output_type": "execute_result"
    }
   ],
   "source": [
    "filename = 'naive_bayes_model.joblib'\n",
    "joblib.dump(NB_classifier,filename)"
   ]
  },
  {
   "cell_type": "code",
   "execution_count": 604,
   "metadata": {},
   "outputs": [],
   "source": [
    "y_pred = NB_classifier.predict(X_test)\n"
   ]
  },
  {
   "cell_type": "code",
   "execution_count": 605,
   "metadata": {},
   "outputs": [
    {
     "data": {
      "text/plain": [
       "0.8043478260869565"
      ]
     },
     "execution_count": 605,
     "metadata": {},
     "output_type": "execute_result"
    }
   ],
   "source": [
    "accuracy_score(y_test,y_pred)\n"
   ]
  },
  {
   "cell_type": "code",
   "execution_count": 606,
   "metadata": {},
   "outputs": [
    {
     "data": {
      "text/plain": [
       "array([[18,  3],\n",
       "       [ 6, 19]])"
      ]
     },
     "execution_count": 606,
     "metadata": {},
     "output_type": "execute_result"
    }
   ],
   "source": [
    "cm = confusion_matrix(y_test, y_pred)\n",
    "cm"
   ]
  },
  {
   "cell_type": "code",
   "execution_count": 607,
   "metadata": {},
   "outputs": [
    {
     "name": "stdout",
     "output_type": "stream",
     "text": [
      "              precision    recall  f1-score   support\n",
      "\n",
      "           0       0.75      0.86      0.80        21\n",
      "           1       0.86      0.76      0.81        25\n",
      "\n",
      "    accuracy                           0.80        46\n",
      "   macro avg       0.81      0.81      0.80        46\n",
      "weighted avg       0.81      0.80      0.80        46\n",
      "\n"
     ]
    }
   ],
   "source": [
    "print(classification_report(y_test, y_pred))\n"
   ]
  },
  {
   "cell_type": "code",
   "execution_count": 608,
   "metadata": {},
   "outputs": [
    {
     "data": {
      "image/png": "[encoded data removed]",
      "text/plain": [
       "<Figure size 640x480 with 1 Axes>"
      ]
     },
     "metadata": {},
     "output_type": "display_data"
    }
   ],
   "source": [
    "logit_roc_auc = roc_auc_score(y_test, NB_classifier.predict(X_test))\n",
    "fpr, tpr, thresholds = roc_curve(y_test, NB_classifier.predict_proba(X_test)[:,1])\n",
    "plt.figure()\n",
    "plt.plot(fpr, tpr, label='Logistic Regression (area = %0.2f)' % logit_roc_auc)\n",
    "plt.plot([0, 1], [0, 1],'r--')\n",
    "plt.xlim([0.0, 1.0])\n",
    "plt.ylim([0.0, 1.05])\n",
    "plt.xlabel('False Positive Rate')\n",
    "plt.ylabel('True Positive Rate')\n",
    "plt.title('Receiver operating characteristic')\n",
    "plt.legend(loc=\"lower right\")\n",
    "plt.savefig('Log_ROC')\n",
    "plt.show()"
   ]
  },
  {
   "cell_type": "code",
   "execution_count": 609,
   "metadata": {},
   "outputs": [
    {
     "data": {
      "text/html": [
       "<div>\n",
       "<style scoped>\n",
       "    .dataframe tbody tr th:only-of-type {\n",
       "        vertical-align: middle;\n",
       "    }\n",
       "\n",
       "    .dataframe tbody tr th {\n",
       "        vertical-align: top;\n",
       "    }\n",
       "\n",
       "    .dataframe thead th {\n",
       "        text-align: right;\n",
       "    }\n",
       "</style>\n",
       "<table border=\"1\" class=\"dataframe\">\n",
       "  <thead>\n",
       "    <tr style=\"text-align: right;\">\n",
       "      <th></th>\n",
       "      <th>age</th>\n",
       "      <th>sex</th>\n",
       "      <th>cp</th>\n",
       "      <th>trestbps</th>\n",
       "      <th>chol</th>\n",
       "      <th>fbs</th>\n",
       "      <th>restecg</th>\n",
       "      <th>thalach</th>\n",
       "      <th>exang</th>\n",
       "      <th>oldpeak</th>\n",
       "      <th>slope</th>\n",
       "      <th>ca</th>\n",
       "      <th>thal</th>\n",
       "    </tr>\n",
       "  </thead>\n",
       "  <tbody>\n",
       "    <tr>\n",
       "      <th>0</th>\n",
       "      <td>65</td>\n",
       "      <td>1</td>\n",
       "      <td>0</td>\n",
       "      <td>145</td>\n",
       "      <td>233</td>\n",
       "      <td>1</td>\n",
       "      <td>2</td>\n",
       "      <td>150</td>\n",
       "      <td>1</td>\n",
       "      <td>2.3</td>\n",
       "      <td>3</td>\n",
       "      <td>0</td>\n",
       "      <td>7</td>\n",
       "    </tr>\n",
       "  </tbody>\n",
       "</table>\n",
       "</div>"
      ],
      "text/plain": [
       "   age  sex  cp  trestbps  chol  fbs  restecg  thalach  exang  oldpeak  slope  \\\n",
       "0   65    1   0       145   233    1        2      150      1      2.3      3   \n",
       "\n",
       "   ca  thal  \n",
       "0   0     7  "
      ]
     },
     "execution_count": 609,
     "metadata": {},
     "output_type": "execute_result"
    }
   ],
   "source": [
    "NB_Newdataset = pd.read_csv('newdata.csv')\n",
    "NB_Newdataset"
   ]
  },
  {
   "cell_type": "code",
   "execution_count": 610,
   "metadata": {},
   "outputs": [],
   "source": [
    "NB_classifier = joblib.load('naive_bayes_model.pkl')\n"
   ]
  },
  {
   "cell_type": "code",
   "execution_count": 611,
   "metadata": {},
   "outputs": [
    {
     "name": "stderr",
     "output_type": "stream",
     "text": [
      "/home/ongraph/.local/lib/python3.8/site-packages/sklearn/base.py:458: UserWarning: X has feature names, but StandardScaler was fitted without feature names\n",
      "  warnings.warn(\n"
     ]
    }
   ],
   "source": [
    "NB_Newdataset_scaled = sc.transform(NB_Newdataset)\n"
   ]
  },
  {
   "cell_type": "code",
   "execution_count": 612,
   "metadata": {},
   "outputs": [
    {
     "data": {
      "text/plain": [
       "array([1])"
      ]
     },
     "execution_count": 612,
     "metadata": {},
     "output_type": "execute_result"
    }
   ],
   "source": [
    "NB_ynew=NB_classifier.predict(NB_Newdataset_scaled)\n",
    "NB_ynew"
   ]
  },
  {
   "cell_type": "markdown",
   "metadata": {},
   "source": [
    "## SVC MODEL"
   ]
  },
  {
   "cell_type": "code",
   "execution_count": 613,
   "metadata": {},
   "outputs": [],
   "source": [
    "svc_scores = []\n",
    "kernels = ['linear', 'poly', 'rbf', 'sigmoid']\n",
    "for i in range(len(kernels)):\n",
    "    svc_classifier = SVC(kernel = kernels[i])\n",
    "    svc_classifier.fit(X_train, y_train)\n",
    "    svc_scores.append(svc_classifier.score(X_test, y_test))\n",
    "    # print(svc_scores)"
   ]
  },
  {
   "cell_type": "code",
   "execution_count": 614,
   "metadata": {},
   "outputs": [
    {
     "data": {
      "text/plain": [
       "Text(0.5, 1.0, 'Support Vector Classifier scores for different kernels')"
      ]
     },
     "execution_count": 614,
     "metadata": {},
     "output_type": "execute_result"
    },
    {
     "data": {
      "image/png": "[encoded data removed]",
      "text/plain": [
       "<Figure size 640x480 with 1 Axes>"
      ]
     },
     "metadata": {},
     "output_type": "display_data"
    }
   ],
   "source": [
    "colors = rainbow(np.linspace(0, 1, len(kernels)))\n",
    "plt.bar(kernels, svc_scores, color = colors)\n",
    "for i in range(len(kernels)):\n",
    "    plt.text(i, svc_scores[i], svc_scores[i])\n",
    "plt.xlabel('Kernels')\n",
    "plt.ylabel('Scores')\n",
    "plt.title('Support Vector Classifier scores for different kernels')"
   ]
  },
  {
   "cell_type": "code",
   "execution_count": 615,
   "metadata": {},
   "outputs": [
    {
     "name": "stdout",
     "output_type": "stream",
     "text": [
      "Best SVC parameters: {'C': 0.1, 'degree': 2, 'kernel': 'rbf'}\n",
      "Best score: 0.836500754147813\n"
     ]
    }
   ],
   "source": [
    "from sklearn.model_selection import GridSearchCV\n",
    "from sklearn.svm import SVC\n",
    "\n",
    "# Define SVC model with initial parameter values\n",
    "model = SVC(kernel=\"linear\", C=1.0)  # Adjust kernel and C as needed\n",
    "\n",
    "# Define parameter grid for tuning\n",
    "param_grid = {\n",
    "    \"C\": [0.01, 0.1, 1.0, 10.0],  # Regularization parameter\n",
    "    \"kernel\": [\"linear\", \"rbf\", \"poly\"],  # Kernel type\n",
    "    \"degree\": [2, 3],  # Degree of polynomial kernel (only relevant for \"poly\" kernel)\n",
    "}\n",
    "\n",
    "# Create GridSearchCV object\n",
    "grid_search = GridSearchCV(model, param_grid, cv=5, scoring=\"accuracy\")\n",
    "\n",
    "# Fit the grid search to your training data\n",
    "grid_search.fit(X_train, y_train)\n",
    "\n",
    "# Get the best parameters and score\n",
    "best_params = grid_search.best_params_\n",
    "best_score = grid_search.best_score_\n",
    "\n",
    "print(\"Best SVC parameters:\", best_params)\n",
    "print(\"Best score:\", best_score)\n",
    "\n",
    "# Access the results of the grid search (optional)\n",
    "grid_results = grid_search.cv_results_\n",
    "\n",
    "# Use the best parameters to train a new SVC model\n",
    "best_model = SVC(**best_params)\n",
    "best_model.fit(X_train, y_train)\n",
    "\n",
    "# Predict using the best model\n",
    "predictions = best_model.predict(X_test)\n"
   ]
  },
  {
   "cell_type": "code",
   "execution_count": 616,
   "metadata": {},
   "outputs": [
    {
     "data": {
      "text/html": [
       "<style>#sk-container-id-53 {color: black;}#sk-container-id-53 pre{padding: 0;}#sk-container-id-53 div.sk-toggleable {background-color: white;}#sk-container-id-53 label.sk-toggleable__label {cursor: pointer;display: block;width: 100%;margin-bottom: 0;padding: 0.3em;box-sizing: border-box;text-align: center;}#sk-container-id-53 label.sk-toggleable__label-arrow:before {content: \"▸\";float: left;margin-right: 0.25em;color: #696969;}#sk-container-id-53 label.sk-toggleable__label-arrow:hover:before {color: black;}#sk-container-id-53 div.sk-estimator:hover label.sk-toggleable__label-arrow:before {color: black;}#sk-container-id-53 div.sk-toggleable__content {max-height: 0;max-width: 0;overflow: hidden;text-align: left;background-color: #f0f8ff;}#sk-container-id-53 div.sk-toggleable__content pre {margin: 0.2em;color: black;border-radius: 0.25em;background-color: #f0f8ff;}#sk-container-id-53 input.sk-toggleable__control:checked~div.sk-toggleable__content {max-height: 200px;max-width: 100%;overflow: auto;}#sk-container-id-53 input.sk-toggleable__control:checked~label.sk-toggleable__label-arrow:before {content: \"▾\";}#sk-container-id-53 div.sk-estimator input.sk-toggleable__control:checked~label.sk-toggleable__label {background-color: #d4ebff;}#sk-container-id-53 div.sk-label input.sk-toggleable__control:checked~label.sk-toggleable__label {background-color: #d4ebff;}#sk-container-id-53 input.sk-hidden--visually {border: 0;clip: rect(1px 1px 1px 1px);clip: rect(1px, 1px, 1px, 1px);height: 1px;margin: -1px;overflow: hidden;padding: 0;position: absolute;width: 1px;}#sk-container-id-53 div.sk-estimator {font-family: monospace;background-color: #f0f8ff;border: 1px dotted black;border-radius: 0.25em;box-sizing: border-box;margin-bottom: 0.5em;}#sk-container-id-53 div.sk-estimator:hover {background-color: #d4ebff;}#sk-container-id-53 div.sk-parallel-item::after {content: \"\";width: 100%;border-bottom: 1px solid gray;flex-grow: 1;}#sk-container-id-53 div.sk-label:hover label.sk-toggleable__label {background-color: #d4ebff;}#sk-container-id-53 div.sk-serial::before {content: \"\";position: absolute;border-left: 1px solid gray;box-sizing: border-box;top: 0;bottom: 0;left: 50%;z-index: 0;}#sk-container-id-53 div.sk-serial {display: flex;flex-direction: column;align-items: center;background-color: white;padding-right: 0.2em;padding-left: 0.2em;position: relative;}#sk-container-id-53 div.sk-item {position: relative;z-index: 1;}#sk-container-id-53 div.sk-parallel {display: flex;align-items: stretch;justify-content: center;background-color: white;position: relative;}#sk-container-id-53 div.sk-item::before, #sk-container-id-53 div.sk-parallel-item::before {content: \"\";position: absolute;border-left: 1px solid gray;box-sizing: border-box;top: 0;bottom: 0;left: 50%;z-index: -1;}#sk-container-id-53 div.sk-parallel-item {display: flex;flex-direction: column;z-index: 1;position: relative;background-color: white;}#sk-container-id-53 div.sk-parallel-item:first-child::after {align-self: flex-end;width: 50%;}#sk-container-id-53 div.sk-parallel-item:last-child::after {align-self: flex-start;width: 50%;}#sk-container-id-53 div.sk-parallel-item:only-child::after {width: 0;}#sk-container-id-53 div.sk-dashed-wrapped {border: 1px dashed gray;margin: 0 0.4em 0.5em 0.4em;box-sizing: border-box;padding-bottom: 0.4em;background-color: white;}#sk-container-id-53 div.sk-label label {font-family: monospace;font-weight: bold;display: inline-block;line-height: 1.2em;}#sk-container-id-53 div.sk-label-container {text-align: center;}#sk-container-id-53 div.sk-container {/* jupyter's `normalize.less` sets `[hidden] { display: none; }` but bootstrap.min.css set `[hidden] { display: none !important; }` so we also need the `!important` here to be able to override the default hidden behavior on the sphinx rendered scikit-learn.org. See: https://github.com/scikit-learn/scikit-learn/issues/21755 */display: inline-block !important;position: relative;}#sk-container-id-53 div.sk-text-repr-fallback {display: none;}</style><div id=\"sk-container-id-53\" class=\"sk-top-container\"><div class=\"sk-text-repr-fallback\"><pre>SVC(kernel=&#x27;poly&#x27;, probability=True)</pre><b>In a Jupyter environment, please rerun this cell to show the HTML representation or trust the notebook. <br />On GitHub, the HTML representation is unable to render, please try loading this page with nbviewer.org.</b></div><div class=\"sk-container\" hidden><div class=\"sk-item\"><div class=\"sk-estimator sk-toggleable\"><input class=\"sk-toggleable__control sk-hidden--visually\" id=\"sk-estimator-id-53\" type=\"checkbox\" checked><label for=\"sk-estimator-id-53\" class=\"sk-toggleable__label sk-toggleable__label-arrow\">SVC</label><div class=\"sk-toggleable__content\"><pre>SVC(kernel=&#x27;poly&#x27;, probability=True)</pre></div></div></div></div></div>"
      ],
      "text/plain": [
       "SVC(kernel='poly', probability=True)"
      ]
     },
     "execution_count": 616,
     "metadata": {},
     "output_type": "execute_result"
    }
   ],
   "source": [
    "SVC_classifier = SVC(kernel = 'poly' ,probability=True)\n",
    "SVC_classifier.fit(X_train, y_train)"
   ]
  },
  {
   "cell_type": "code",
   "execution_count": 617,
   "metadata": {},
   "outputs": [
    {
     "name": "stdout",
     "output_type": "stream",
     "text": [
      "Cross-Validation Scores: [0.76923077 0.73076923 0.90196078 0.82352941 0.78431373]\n",
      "Mean CV Accuracy: 0.8019607843137255\n"
     ]
    }
   ],
   "source": [
    "k_fold = KFold(n_splits=5, shuffle=True)\n",
    "\n",
    "# Perform cross-validation on the training set\n",
    "cv_scores = cross_val_score(SVC_classifier, X_train, y_train, cv=k_fold, scoring='accuracy')\n",
    "\n",
    "# Display the cross-validation scores\n",
    "print(\"Cross-Validation Scores:\", cv_scores)\n",
    "print(\"Mean CV Accuracy:\", np.mean(cv_scores))"
   ]
  },
  {
   "cell_type": "code",
   "execution_count": 618,
   "metadata": {},
   "outputs": [
    {
     "data": {
      "text/plain": [
       "['svc_model.joblib']"
      ]
     },
     "execution_count": 618,
     "metadata": {},
     "output_type": "execute_result"
    }
   ],
   "source": [
    "filename = 'svc_model.joblib'\n",
    "joblib.dump(SVC_classifier,filename)"
   ]
  },
  {
   "cell_type": "code",
   "execution_count": 619,
   "metadata": {},
   "outputs": [],
   "source": [
    "y_pred = SVC_classifier.predict(X_test)\n"
   ]
  },
  {
   "cell_type": "code",
   "execution_count": 620,
   "metadata": {},
   "outputs": [
    {
     "data": {
      "text/plain": [
       "0.8913043478260869"
      ]
     },
     "execution_count": 620,
     "metadata": {},
     "output_type": "execute_result"
    }
   ],
   "source": [
    "accuracy_score(y_test,y_pred)\n"
   ]
  },
  {
   "cell_type": "code",
   "execution_count": 621,
   "metadata": {},
   "outputs": [
    {
     "data": {
      "text/plain": [
       "array([[20,  1],\n",
       "       [ 4, 21]])"
      ]
     },
     "execution_count": 621,
     "metadata": {},
     "output_type": "execute_result"
    }
   ],
   "source": [
    "cm = confusion_matrix(y_test, y_pred)\n",
    "cm"
   ]
  },
  {
   "cell_type": "code",
   "execution_count": 622,
   "metadata": {},
   "outputs": [
    {
     "name": "stdout",
     "output_type": "stream",
     "text": [
      "              precision    recall  f1-score   support\n",
      "\n",
      "           0       0.83      0.95      0.89        21\n",
      "           1       0.95      0.84      0.89        25\n",
      "\n",
      "    accuracy                           0.89        46\n",
      "   macro avg       0.89      0.90      0.89        46\n",
      "weighted avg       0.90      0.89      0.89        46\n",
      "\n"
     ]
    }
   ],
   "source": [
    "print(classification_report(y_test, y_pred))\n"
   ]
  },
  {
   "cell_type": "code",
   "execution_count": 623,
   "metadata": {},
   "outputs": [
    {
     "data": {
      "image/png": "[encoded data removed]",
      "text/plain": [
       "<Figure size 640x480 with 1 Axes>"
      ]
     },
     "metadata": {},
     "output_type": "display_data"
    }
   ],
   "source": [
    "logit_roc_auc = roc_auc_score(y_test, SVC_classifier.predict(X_test))\n",
    "fpr, tpr, thresholds = roc_curve(y_test, SVC_classifier.predict_proba(X_test)[:,1])\n",
    "plt.figure()\n",
    "plt.plot(fpr, tpr, label='Logistic Regression (area = %0.2f)' % logit_roc_auc)\n",
    "plt.plot([0, 1], [0, 1],'r--')\n",
    "plt.xlim([0.0, 1.0])\n",
    "plt.ylim([0.0, 1.05])\n",
    "plt.xlabel('False Positive Rate')\n",
    "plt.ylabel('True Positive Rate')\n",
    "plt.title('Receiver operating characteristic')\n",
    "plt.legend(loc=\"lower right\")\n",
    "plt.savefig('Log_ROC')\n",
    "plt.show()"
   ]
  },
  {
   "cell_type": "code",
   "execution_count": 624,
   "metadata": {},
   "outputs": [
    {
     "data": {
      "text/html": [
       "<div>\n",
       "<style scoped>\n",
       "    .dataframe tbody tr th:only-of-type {\n",
       "        vertical-align: middle;\n",
       "    }\n",
       "\n",
       "    .dataframe tbody tr th {\n",
       "        vertical-align: top;\n",
       "    }\n",
       "\n",
       "    .dataframe thead th {\n",
       "        text-align: right;\n",
       "    }\n",
       "</style>\n",
       "<table border=\"1\" class=\"dataframe\">\n",
       "  <thead>\n",
       "    <tr style=\"text-align: right;\">\n",
       "      <th></th>\n",
       "      <th>age</th>\n",
       "      <th>sex</th>\n",
       "      <th>cp</th>\n",
       "      <th>trestbps</th>\n",
       "      <th>chol</th>\n",
       "      <th>fbs</th>\n",
       "      <th>restecg</th>\n",
       "      <th>thalach</th>\n",
       "      <th>exang</th>\n",
       "      <th>oldpeak</th>\n",
       "      <th>slope</th>\n",
       "      <th>ca</th>\n",
       "      <th>thal</th>\n",
       "    </tr>\n",
       "  </thead>\n",
       "  <tbody>\n",
       "    <tr>\n",
       "      <th>0</th>\n",
       "      <td>65</td>\n",
       "      <td>1</td>\n",
       "      <td>0</td>\n",
       "      <td>145</td>\n",
       "      <td>233</td>\n",
       "      <td>1</td>\n",
       "      <td>2</td>\n",
       "      <td>150</td>\n",
       "      <td>1</td>\n",
       "      <td>2.3</td>\n",
       "      <td>3</td>\n",
       "      <td>0</td>\n",
       "      <td>7</td>\n",
       "    </tr>\n",
       "  </tbody>\n",
       "</table>\n",
       "</div>"
      ],
      "text/plain": [
       "   age  sex  cp  trestbps  chol  fbs  restecg  thalach  exang  oldpeak  slope  \\\n",
       "0   65    1   0       145   233    1        2      150      1      2.3      3   \n",
       "\n",
       "   ca  thal  \n",
       "0   0     7  "
      ]
     },
     "execution_count": 624,
     "metadata": {},
     "output_type": "execute_result"
    }
   ],
   "source": [
    "SVC_Newdataset = pd.read_csv('newdata.csv')\n",
    "SVC_Newdataset"
   ]
  },
  {
   "cell_type": "code",
   "execution_count": 625,
   "metadata": {},
   "outputs": [],
   "source": [
    "SVC_classifier = joblib.load('svc_model.pkl')\n"
   ]
  },
  {
   "cell_type": "code",
   "execution_count": 626,
   "metadata": {},
   "outputs": [
    {
     "name": "stderr",
     "output_type": "stream",
     "text": [
      "/home/ongraph/.local/lib/python3.8/site-packages/sklearn/base.py:458: UserWarning: X has feature names, but StandardScaler was fitted without feature names\n",
      "  warnings.warn(\n"
     ]
    }
   ],
   "source": [
    "SVC_Newdataset = pd.read_csv('newdata.csv')\n",
    "SVC_Newdataset_scaled = sc.transform(SVC_Newdataset)"
   ]
  },
  {
   "cell_type": "code",
   "execution_count": 627,
   "metadata": {},
   "outputs": [
    {
     "data": {
      "text/plain": [
       "array([0])"
      ]
     },
     "execution_count": 627,
     "metadata": {},
     "output_type": "execute_result"
    }
   ],
   "source": [
    "SVC_ynew=SVC_classifier.predict(SVC_Newdataset_scaled)\n",
    "SVC_ynew\n"
   ]
  },
  {
   "cell_type": "markdown",
   "metadata": {},
   "source": [
    "## DEEP LEARNING MODEL"
   ]
  },
  {
   "cell_type": "code",
   "execution_count": 628,
   "metadata": {},
   "outputs": [],
   "source": [
    "# from sklearn.model_selection import GridSearchCV\n",
    "# from sklearn.neural_network import MLPRegressor\n",
    "\n",
    "# # Define MLPRegressor model with initial parameter values\n",
    "# model = MLPRegressor(hidden_layer_sizes=(100,), activation=\"relu\", solver=\"adam\", \n",
    "#                      alpha=0.001, random_state=0)  # Adjust parameters as needed\n",
    "\n",
    "# # Define parameter grid for tuning\n",
    "# param_grid = {\n",
    "#     \"hidden_layer_sizes\": [(10, 50), (50, 100), (100, 200)],  # Different hidden layer configurations\n",
    "#     \"activation\": [\"relu\", \"tanh\"],  # Activation functions\n",
    "#     \"solver\": [\"adam\", \"lbfgs\"],  # Optimization algorithms\n",
    "#     \"alpha\": [0.0001, 0.001, 0.01],  # Regularization parameter\n",
    "# }\n",
    "\n",
    "# # Create GridSearchCV object\n",
    "# grid_search = GridSearchCV(model, param_grid, cv=5, scoring=\"r2\")  # Choose appropriate scoring metric\n",
    "\n",
    "# # Fit the grid search to your training data\n",
    "# grid_search.fit(X_train, y_train)\n",
    "\n",
    "# # Get the best parameters and score\n",
    "# best_params = grid_search.best_params_\n",
    "# best_score = grid_search.best_score_\n",
    "\n",
    "# print(\"Best MLPRegressor parameters:\", best_params)\n",
    "# print(\"Best score:\", best_score)\n",
    "\n",
    "# # Access the results of the grid search (optional)\n",
    "# grid_results = grid_search.cv_results_\n",
    "\n",
    "# # Use the best parameters to train a new MLPRegressor model\n",
    "# best_model = MLPRegressor(**best_params)\n",
    "# best_model.fit(X_train, y_train)\n",
    "\n",
    "# # Predict using the best model\n",
    "# predictions = best_model.predict(X_test)\n"
   ]
  },
  {
   "cell_type": "code",
   "execution_count": 629,
   "metadata": {},
   "outputs": [
    {
     "name": "stderr",
     "output_type": "stream",
     "text": [
      "/home/ongraph/.local/lib/python3.8/site-packages/sklearn/neural_network/_multilayer_perceptron.py:691: ConvergenceWarning: Stochastic Optimizer: Maximum iterations (500) reached and the optimization hasn't converged yet.\n",
      "  warnings.warn(\n"
     ]
    },
    {
     "data": {
      "text/html": [
       "<style>#sk-container-id-54 {color: black;}#sk-container-id-54 pre{padding: 0;}#sk-container-id-54 div.sk-toggleable {background-color: white;}#sk-container-id-54 label.sk-toggleable__label {cursor: pointer;display: block;width: 100%;margin-bottom: 0;padding: 0.3em;box-sizing: border-box;text-align: center;}#sk-container-id-54 label.sk-toggleable__label-arrow:before {content: \"▸\";float: left;margin-right: 0.25em;color: #696969;}#sk-container-id-54 label.sk-toggleable__label-arrow:hover:before {color: black;}#sk-container-id-54 div.sk-estimator:hover label.sk-toggleable__label-arrow:before {color: black;}#sk-container-id-54 div.sk-toggleable__content {max-height: 0;max-width: 0;overflow: hidden;text-align: left;background-color: #f0f8ff;}#sk-container-id-54 div.sk-toggleable__content pre {margin: 0.2em;color: black;border-radius: 0.25em;background-color: #f0f8ff;}#sk-container-id-54 input.sk-toggleable__control:checked~div.sk-toggleable__content {max-height: 200px;max-width: 100%;overflow: auto;}#sk-container-id-54 input.sk-toggleable__control:checked~label.sk-toggleable__label-arrow:before {content: \"▾\";}#sk-container-id-54 div.sk-estimator input.sk-toggleable__control:checked~label.sk-toggleable__label {background-color: #d4ebff;}#sk-container-id-54 div.sk-label input.sk-toggleable__control:checked~label.sk-toggleable__label {background-color: #d4ebff;}#sk-container-id-54 input.sk-hidden--visually {border: 0;clip: rect(1px 1px 1px 1px);clip: rect(1px, 1px, 1px, 1px);height: 1px;margin: -1px;overflow: hidden;padding: 0;position: absolute;width: 1px;}#sk-container-id-54 div.sk-estimator {font-family: monospace;background-color: #f0f8ff;border: 1px dotted black;border-radius: 0.25em;box-sizing: border-box;margin-bottom: 0.5em;}#sk-container-id-54 div.sk-estimator:hover {background-color: #d4ebff;}#sk-container-id-54 div.sk-parallel-item::after {content: \"\";width: 100%;border-bottom: 1px solid gray;flex-grow: 1;}#sk-container-id-54 div.sk-label:hover label.sk-toggleable__label {background-color: #d4ebff;}#sk-container-id-54 div.sk-serial::before {content: \"\";position: absolute;border-left: 1px solid gray;box-sizing: border-box;top: 0;bottom: 0;left: 50%;z-index: 0;}#sk-container-id-54 div.sk-serial {display: flex;flex-direction: column;align-items: center;background-color: white;padding-right: 0.2em;padding-left: 0.2em;position: relative;}#sk-container-id-54 div.sk-item {position: relative;z-index: 1;}#sk-container-id-54 div.sk-parallel {display: flex;align-items: stretch;justify-content: center;background-color: white;position: relative;}#sk-container-id-54 div.sk-item::before, #sk-container-id-54 div.sk-parallel-item::before {content: \"\";position: absolute;border-left: 1px solid gray;box-sizing: border-box;top: 0;bottom: 0;left: 50%;z-index: -1;}#sk-container-id-54 div.sk-parallel-item {display: flex;flex-direction: column;z-index: 1;position: relative;background-color: white;}#sk-container-id-54 div.sk-parallel-item:first-child::after {align-self: flex-end;width: 50%;}#sk-container-id-54 div.sk-parallel-item:last-child::after {align-self: flex-start;width: 50%;}#sk-container-id-54 div.sk-parallel-item:only-child::after {width: 0;}#sk-container-id-54 div.sk-dashed-wrapped {border: 1px dashed gray;margin: 0 0.4em 0.5em 0.4em;box-sizing: border-box;padding-bottom: 0.4em;background-color: white;}#sk-container-id-54 div.sk-label label {font-family: monospace;font-weight: bold;display: inline-block;line-height: 1.2em;}#sk-container-id-54 div.sk-label-container {text-align: center;}#sk-container-id-54 div.sk-container {/* jupyter's `normalize.less` sets `[hidden] { display: none; }` but bootstrap.min.css set `[hidden] { display: none !important; }` so we also need the `!important` here to be able to override the default hidden behavior on the sphinx rendered scikit-learn.org. See: https://github.com/scikit-learn/scikit-learn/issues/21755 */display: inline-block !important;position: relative;}#sk-container-id-54 div.sk-text-repr-fallback {display: none;}</style><div id=\"sk-container-id-54\" class=\"sk-top-container\"><div class=\"sk-text-repr-fallback\"><pre>MLPClassifier(hidden_layer_sizes=(8, 8, 8), max_iter=500)</pre><b>In a Jupyter environment, please rerun this cell to show the HTML representation or trust the notebook. <br />On GitHub, the HTML representation is unable to render, please try loading this page with nbviewer.org.</b></div><div class=\"sk-container\" hidden><div class=\"sk-item\"><div class=\"sk-estimator sk-toggleable\"><input class=\"sk-toggleable__control sk-hidden--visually\" id=\"sk-estimator-id-54\" type=\"checkbox\" checked><label for=\"sk-estimator-id-54\" class=\"sk-toggleable__label sk-toggleable__label-arrow\">MLPClassifier</label><div class=\"sk-toggleable__content\"><pre>MLPClassifier(hidden_layer_sizes=(8, 8, 8), max_iter=500)</pre></div></div></div></div></div>"
      ],
      "text/plain": [
       "MLPClassifier(hidden_layer_sizes=(8, 8, 8), max_iter=500)"
      ]
     },
     "execution_count": 629,
     "metadata": {},
     "output_type": "execute_result"
    }
   ],
   "source": [
    "DL_classifier = MLPClassifier(hidden_layer_sizes=(8,8,8),activation='relu',solver='adam',max_iter=500)\n",
    "DL_classifier.fit(X_train, y_train)"
   ]
  },
  {
   "cell_type": "code",
   "execution_count": 630,
   "metadata": {},
   "outputs": [
    {
     "data": {
      "text/plain": [
       "['deep_learning_model.joblib']"
      ]
     },
     "execution_count": 630,
     "metadata": {},
     "output_type": "execute_result"
    }
   ],
   "source": [
    "filename ='deep_learning_model.joblib'\n",
    "joblib.dump(DL_classifier,filename)"
   ]
  },
  {
   "cell_type": "code",
   "execution_count": 631,
   "metadata": {},
   "outputs": [],
   "source": [
    "y_pred = DL_classifier.predict(X_test)\n"
   ]
  },
  {
   "cell_type": "code",
   "execution_count": 632,
   "metadata": {},
   "outputs": [
    {
     "data": {
      "text/plain": [
       "0.8260869565217391"
      ]
     },
     "execution_count": 632,
     "metadata": {},
     "output_type": "execute_result"
    }
   ],
   "source": [
    "accuracy_score(y_test,y_pred)\n"
   ]
  },
  {
   "cell_type": "code",
   "execution_count": 633,
   "metadata": {},
   "outputs": [
    {
     "data": {
      "text/plain": [
       "array([[18,  3],\n",
       "       [ 5, 20]])"
      ]
     },
     "execution_count": 633,
     "metadata": {},
     "output_type": "execute_result"
    }
   ],
   "source": [
    "cm = confusion_matrix(y_test, y_pred)\n",
    "cm"
   ]
  },
  {
   "cell_type": "code",
   "execution_count": 634,
   "metadata": {},
   "outputs": [
    {
     "name": "stdout",
     "output_type": "stream",
     "text": [
      "              precision    recall  f1-score   support\n",
      "\n",
      "           0       0.78      0.86      0.82        21\n",
      "           1       0.87      0.80      0.83        25\n",
      "\n",
      "    accuracy                           0.83        46\n",
      "   macro avg       0.83      0.83      0.83        46\n",
      "weighted avg       0.83      0.83      0.83        46\n",
      "\n"
     ]
    }
   ],
   "source": [
    "print(classification_report(y_test, y_pred))\n"
   ]
  },
  {
   "cell_type": "code",
   "execution_count": 635,
   "metadata": {},
   "outputs": [
    {
     "data": {
      "image/png": "[encoded data removed]",
      "text/plain": [
       "<Figure size 640x480 with 1 Axes>"
      ]
     },
     "metadata": {},
     "output_type": "display_data"
    }
   ],
   "source": [
    "logit_roc_auc = roc_auc_score(y_test, DL_classifier.predict(X_test))\n",
    "fpr, tpr, thresholds = roc_curve(y_test, DL_classifier.predict_proba(X_test)[:,1])\n",
    "plt.figure()\n",
    "plt.plot(fpr, tpr, label='Logistic Regression (area = %0.2f)' % logit_roc_auc)\n",
    "plt.plot([0, 1], [0, 1],'r--')\n",
    "plt.xlim([0.0, 1.0])\n",
    "plt.ylim([0.0, 1.05])\n",
    "plt.xlabel('False Positive Rate')\n",
    "plt.ylabel('True Positive Rate')\n",
    "plt.title('Receiver operating characteristic')\n",
    "plt.legend(loc=\"lower right\")\n",
    "plt.savefig('Log_ROC')\n",
    "plt.show()\n"
   ]
  },
  {
   "cell_type": "code",
   "execution_count": 636,
   "metadata": {},
   "outputs": [
    {
     "data": {
      "text/html": [
       "<div>\n",
       "<style scoped>\n",
       "    .dataframe tbody tr th:only-of-type {\n",
       "        vertical-align: middle;\n",
       "    }\n",
       "\n",
       "    .dataframe tbody tr th {\n",
       "        vertical-align: top;\n",
       "    }\n",
       "\n",
       "    .dataframe thead th {\n",
       "        text-align: right;\n",
       "    }\n",
       "</style>\n",
       "<table border=\"1\" class=\"dataframe\">\n",
       "  <thead>\n",
       "    <tr style=\"text-align: right;\">\n",
       "      <th></th>\n",
       "      <th>age</th>\n",
       "      <th>sex</th>\n",
       "      <th>cp</th>\n",
       "      <th>trestbps</th>\n",
       "      <th>chol</th>\n",
       "      <th>fbs</th>\n",
       "      <th>restecg</th>\n",
       "      <th>thalach</th>\n",
       "      <th>exang</th>\n",
       "      <th>oldpeak</th>\n",
       "      <th>slope</th>\n",
       "      <th>ca</th>\n",
       "      <th>thal</th>\n",
       "    </tr>\n",
       "  </thead>\n",
       "  <tbody>\n",
       "    <tr>\n",
       "      <th>0</th>\n",
       "      <td>65</td>\n",
       "      <td>1</td>\n",
       "      <td>0</td>\n",
       "      <td>145</td>\n",
       "      <td>233</td>\n",
       "      <td>1</td>\n",
       "      <td>2</td>\n",
       "      <td>150</td>\n",
       "      <td>1</td>\n",
       "      <td>2.3</td>\n",
       "      <td>3</td>\n",
       "      <td>0</td>\n",
       "      <td>7</td>\n",
       "    </tr>\n",
       "  </tbody>\n",
       "</table>\n",
       "</div>"
      ],
      "text/plain": [
       "   age  sex  cp  trestbps  chol  fbs  restecg  thalach  exang  oldpeak  slope  \\\n",
       "0   65    1   0       145   233    1        2      150      1      2.3      3   \n",
       "\n",
       "   ca  thal  \n",
       "0   0     7  "
      ]
     },
     "execution_count": 636,
     "metadata": {},
     "output_type": "execute_result"
    }
   ],
   "source": [
    "DL_Newdataset = pd.read_csv('newdata.csv')\n",
    "DL_Newdataset"
   ]
  },
  {
   "cell_type": "code",
   "execution_count": 637,
   "metadata": {},
   "outputs": [],
   "source": [
    "DL_classifier = joblib.load('deep_learning_model.pkl')\n"
   ]
  },
  {
   "cell_type": "code",
   "execution_count": 638,
   "metadata": {},
   "outputs": [
    {
     "name": "stderr",
     "output_type": "stream",
     "text": [
      "/home/ongraph/.local/lib/python3.8/site-packages/sklearn/base.py:458: UserWarning: X has feature names, but StandardScaler was fitted without feature names\n",
      "  warnings.warn(\n"
     ]
    }
   ],
   "source": [
    "DL_Newdataset_scaled = sc.transform(DL_Newdataset)\n"
   ]
  },
  {
   "cell_type": "code",
   "execution_count": 639,
   "metadata": {},
   "outputs": [
    {
     "data": {
      "text/plain": [
       "array([0])"
      ]
     },
     "execution_count": 639,
     "metadata": {},
     "output_type": "execute_result"
    }
   ],
   "source": [
    "DL_ynew=DL_classifier.predict(DL_Newdataset_scaled)\n",
    "DL_ynew"
   ]
  },
  {
   "cell_type": "code",
   "execution_count": 647,
   "metadata": {},
   "outputs": [],
   "source": [
    "classifier = joblib.load('decision_tree_model.joblib')\n",
    "logistic_classifier = joblib.load('Logistic_regression_model.joblib')\n",
    "KNN_classifier = joblib.load('KNN_model.joblib')\n",
    "NB_classifier = joblib.load('naive_bayes_model.joblib')\n",
    "SVC_classifier = joblib.load('svc_model.joblib')\n",
    "DL_classifier = joblib.load('deep_learning_model.joblib')\n",
    "scal=joblib.load('scaler.joblib')"
   ]
  },
  {
   "cell_type": "code",
   "execution_count": 648,
   "metadata": {},
   "outputs": [
    {
     "name": "stderr",
     "output_type": "stream",
     "text": [
      "/home/ongraph/.local/lib/python3.8/site-packages/sklearn/base.py:458: UserWarning: X has feature names, but StandardScaler was fitted without feature names\n",
      "  warnings.warn(\n",
      "/home/ongraph/.local/lib/python3.8/site-packages/sklearn/base.py:458: UserWarning: X has feature names, but StandardScaler was fitted without feature names\n",
      "  warnings.warn(\n",
      "/home/ongraph/.local/lib/python3.8/site-packages/sklearn/base.py:458: UserWarning: X has feature names, but StandardScaler was fitted without feature names\n",
      "  warnings.warn(\n",
      "/home/ongraph/.local/lib/python3.8/site-packages/sklearn/base.py:458: UserWarning: X has feature names, but StandardScaler was fitted without feature names\n",
      "  warnings.warn(\n",
      "/home/ongraph/.local/lib/python3.8/site-packages/sklearn/base.py:458: UserWarning: X has feature names, but StandardScaler was fitted without feature names\n",
      "  warnings.warn(\n",
      "/home/ongraph/.local/lib/python3.8/site-packages/sklearn/base.py:458: UserWarning: X has feature names, but StandardScaler was fitted without feature names\n",
      "  warnings.warn(\n"
     ]
    }
   ],
   "source": [
    "\n",
    "Newdataset_scaled = scal.transform(Newdataset)\n",
    "logistic_Newdataset_scaled = scal.transform(Logistic_Newdataset)\n",
    "KNN_Newdataset_scaled = scal.transform(KNN_Newdataset)\n",
    "NB_Newdataset_scaled = scal.transform(NB_Newdataset)\n",
    "SVC_Newdataset_scaled = scal.transform(SVC_Newdataset)\n",
    "DL_Newdataset_scaled = scal.transform(DL_Newdataset)\n"
   ]
  },
  {
   "cell_type": "code",
   "execution_count": 649,
   "metadata": {},
   "outputs": [],
   "source": [
    "predictions_decision_tree = classifier.predict(Newdataset_scaled)\n",
    "predictions_logistic = logistic_classifier.predict(logistic_Newdataset_scaled)\n",
    "predictions_KNN = KNN_classifier.predict(KNN_Newdataset_scaled)\n",
    "predictions_NB = NB_classifier.predict(NB_Newdataset_scaled)\n",
    "predictions_SVC = SVC_classifier.predict(SVC_Newdataset_scaled)\n",
    "predictions_DL = DL_classifier.predict(DL_Newdataset_scaled)"
   ]
  },
  {
   "cell_type": "code",
   "execution_count": 650,
   "metadata": {},
   "outputs": [
    {
     "name": "stdout",
     "output_type": "stream",
     "text": [
      "[1]\n",
      "[1]\n",
      "[1]\n",
      "[1]\n",
      "[0]\n",
      "[0]\n"
     ]
    },
    {
     "ename": "",
     "evalue": "",
     "output_type": "error",
     "traceback": [
      "\u001b[1;31mThe Kernel crashed while executing code in the the current cell or a previous cell. Please review the code in the cell(s) to identify a possible cause of the failure. Click <a href='https://aka.ms/vscodeJupyterKernelCrash'>here</a> for more info. View Jupyter <a href='command:jupyter.viewOutput'>log</a> for further details."
     ]
    }
   ],
   "source": [
    "print(predictions_decision_tree)\n",
    "print(predictions_logistic)\n",
    "print(predictions_KNN)\n",
    "print(predictions_NB)\n",
    "print(predictions_SVC) \n",
    "print(predictions_DL) "
   ]
  },
  {
   "cell_type": "code",
   "execution_count": null,
   "metadata": {},
   "outputs": [],
   "source": []
  }
 ],
 "metadata": {
  "kernelspec": {
   "display_name": "env",
   "language": "python",
   "name": "python3"
  },
  "language_info": {
   "codemirror_mode": {
    "name": "ipython",
    "version": 3
   },
   "file_extension": ".py",
   "mimetype": "text/x-python",
   "name": "python",
   "nbconvert_exporter": "python",
   "pygments_lexer": "ipython3",
   "version": "3.8.10"
  }
 },
 "nbformat": 4,
 "nbformat_minor": 2
}
